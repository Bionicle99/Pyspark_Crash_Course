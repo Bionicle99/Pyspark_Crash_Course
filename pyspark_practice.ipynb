{
 "cells": [
  {
   "cell_type": "markdown",
   "metadata": {
    "colab": {
     "base_uri": "https://localhost:8080/"
    },
    "executionInfo": {
     "elapsed": 55821,
     "status": "ok",
     "timestamp": 1705213719983,
     "user": {
      "displayName": "Ivan Omazic (BionicleBear)",
      "userId": "18178661664072419302"
     },
     "user_tz": 480
    },
    "id": "0tCoVxuU9g9U",
    "outputId": "c4721015-2771-4499-f067-3dba3e80cbc1"
   },
   "source": [
    "PySpark Crash Course\n"
   ]
  },
  {
   "cell_type": "code",
   "execution_count": 1,
   "metadata": {
    "executionInfo": {
     "elapsed": 3,
     "status": "ok",
     "timestamp": 1705213719983,
     "user": {
      "displayName": "Ivan Omazic (BionicleBear)",
      "userId": "18178661664072419302"
     },
     "user_tz": 480
    },
    "id": "jxxcVTbd-Ban"
   },
   "outputs": [],
   "source": [
    "from pyspark.sql import SparkSession"
   ]
  },
  {
   "cell_type": "code",
   "execution_count": 2,
   "metadata": {
    "executionInfo": {
     "elapsed": 404,
     "status": "ok",
     "timestamp": 1705213969588,
     "user": {
      "displayName": "Ivan Omazic (BionicleBear)",
      "userId": "18178661664072419302"
     },
     "user_tz": 480
    },
    "id": "E3q2in6R-T0C"
   },
   "outputs": [],
   "source": [
    "spark = SparkSession.builder.appName(\"mycourse\").getOrCreate()"
   ]
  },
  {
   "cell_type": "code",
   "execution_count": 3,
   "metadata": {
    "executionInfo": {
     "elapsed": 7879,
     "status": "ok",
     "timestamp": 1705213977853,
     "user": {
      "displayName": "Ivan Omazic (BionicleBear)",
      "userId": "18178661664072419302"
     },
     "user_tz": 480
    },
    "id": "CjURDwBA-eZ_"
   },
   "outputs": [],
   "source": [
    "df = spark.read.csv('./course_file.csv', header = True)"
   ]
  },
  {
   "cell_type": "code",
   "execution_count": 4,
   "metadata": {
    "colab": {
     "base_uri": "https://localhost:8080/"
    },
    "executionInfo": {
     "elapsed": 990,
     "status": "ok",
     "timestamp": 1705213978841,
     "user": {
      "displayName": "Ivan Omazic (BionicleBear)",
      "userId": "18178661664072419302"
     },
     "user_tz": 480
    },
    "id": "HqxsUTmi_Nmq",
    "outputId": "303de720-5627-4936-a81e-dd35514820ca"
   },
   "outputs": [
    {
     "name": "stdout",
     "output_type": "stream",
     "text": [
      "+-------------------+-------------+----------------+-------+-------+---------------+-------------+-------+--------+-----------+--------------------+--------+\n",
      "|          date_time|       userid|          domain|dlbytes|ulbytes|       clientip|     serverip|country|txn_time|http_method|          user_agent|platform|\n",
      "+-------------------+-------------+----------------+-------+-------+---------------+-------------+-------+--------+-----------+--------------------+--------+\n",
      "|2023-10-04 11:37:11|7773153683656|ryan-wells.co.uk| 872807| 741526|142.132.219.110|62.42.184.180|England|    2.33|      HTTPS|Mozilla/5.0 (Wind...| Android|\n",
      "|2023-10-04 12:17:07|1886351675683|     hopkins.org|  50898| 529504|  184.205.48.78|152.123.41.39|  Wales|     1.2|       HTTP|Mozilla/5.0 (Wind...| Android|\n",
      "+-------------------+-------------+----------------+-------+-------+---------------+-------------+-------+--------+-----------+--------------------+--------+\n",
      "only showing top 2 rows\n",
      "\n"
     ]
    }
   ],
   "source": [
    "df.show(2)"
   ]
  },
  {
   "cell_type": "code",
   "execution_count": 5,
   "metadata": {
    "colab": {
     "base_uri": "https://localhost:8080/"
    },
    "executionInfo": {
     "elapsed": 3,
     "status": "ok",
     "timestamp": 1705213978842,
     "user": {
      "displayName": "Ivan Omazic (BionicleBear)",
      "userId": "18178661664072419302"
     },
     "user_tz": 480
    },
    "id": "6tzwhbGs_QYs",
    "outputId": "29eed398-6d46-4c71-c190-be701372bf26"
   },
   "outputs": [
    {
     "name": "stdout",
     "output_type": "stream",
     "text": [
      "root\n",
      " |-- date_time: string (nullable = true)\n",
      " |-- userid: string (nullable = true)\n",
      " |-- domain: string (nullable = true)\n",
      " |-- dlbytes: string (nullable = true)\n",
      " |-- ulbytes: string (nullable = true)\n",
      " |-- clientip: string (nullable = true)\n",
      " |-- serverip: string (nullable = true)\n",
      " |-- country: string (nullable = true)\n",
      " |-- txn_time: string (nullable = true)\n",
      " |-- http_method: string (nullable = true)\n",
      " |-- user_agent: string (nullable = true)\n",
      " |-- platform: string (nullable = true)\n",
      "\n"
     ]
    }
   ],
   "source": [
    "df.printSchema()"
   ]
  },
  {
   "cell_type": "code",
   "execution_count": 6,
   "metadata": {
    "colab": {
     "base_uri": "https://localhost:8080/"
    },
    "executionInfo": {
     "elapsed": 9601,
     "status": "ok",
     "timestamp": 1705213988442,
     "user": {
      "displayName": "Ivan Omazic (BionicleBear)",
      "userId": "18178661664072419302"
     },
     "user_tz": 480
    },
    "id": "SvdPjH_H_cY9",
    "outputId": "9aed825c-f367-479a-cfb3-f9358a071cf8"
   },
   "outputs": [
    {
     "name": "stdout",
     "output_type": "stream",
     "text": [
      "+-------+-------------------+--------------------+-----------------+------------------+-----------------+-----------+------------+-------+------------------+-----------+--------------------+--------+\n",
      "|summary|          date_time|              userid|           domain|           dlbytes|          ulbytes|   clientip|    serverip|country|          txn_time|http_method|          user_agent|platform|\n",
      "+-------+-------------------+--------------------+-----------------+------------------+-----------------+-----------+------------+-------+------------------+-----------+--------------------+--------+\n",
      "|  count|             100000|              100000|           100000|            100000|           100000|     100000|      100000| 100000|            100000|     100000|              100000|  100000|\n",
      "|   mean|               NULL|5.010135665120539E12|             NULL|      499993.58573|     499925.16314|       NULL|        NULL|   NULL|1.4980519999999975|       NULL|                NULL|    NULL|\n",
      "| stddev|               NULL|2.898286126875014...|             NULL|288565.82296079345|288284.7692300469|       NULL|        NULL|   NULL|0.8669253606232833|       NULL|                NULL|    NULL|\n",
      "|    min|2023-10-01 00:00:01|       0000034807482|abbott-barnes.com|            100000|           100022|1.0.166.229|  1.1.144.16|England|               0.0|       HTTP|Mozilla/5.0 (Andr...| Android|\n",
      "|    max|2023-10-05 23:58:52|       9999986035271|        young.org|            999994|           999975|99.99.69.51|99.97.24.198|  Wales|               3.0|      HTTPS|Opera/9.99.(X11; ...|     iOS|\n",
      "+-------+-------------------+--------------------+-----------------+------------------+-----------------+-----------+------------+-------+------------------+-----------+--------------------+--------+\n",
      "\n"
     ]
    }
   ],
   "source": [
    "df.describe().show()"
   ]
  },
  {
   "cell_type": "code",
   "execution_count": 7,
   "metadata": {
    "colab": {
     "base_uri": "https://localhost:8080/"
    },
    "executionInfo": {
     "elapsed": 927,
     "status": "ok",
     "timestamp": 1705213989367,
     "user": {
      "displayName": "Ivan Omazic (BionicleBear)",
      "userId": "18178661664072419302"
     },
     "user_tz": 480
    },
    "id": "VrhmG4Ll_jg2",
    "outputId": "959a4ecd-285f-4579-f41e-a4e93a3015dd"
   },
   "outputs": [
    {
     "data": {
      "text/plain": [
       "100000"
      ]
     },
     "execution_count": 7,
     "metadata": {},
     "output_type": "execute_result"
    }
   ],
   "source": [
    "df.count()"
   ]
  },
  {
   "cell_type": "code",
   "execution_count": 8,
   "metadata": {
    "colab": {
     "base_uri": "https://localhost:8080/"
    },
    "executionInfo": {
     "elapsed": 4,
     "status": "ok",
     "timestamp": 1705213989367,
     "user": {
      "displayName": "Ivan Omazic (BionicleBear)",
      "userId": "18178661664072419302"
     },
     "user_tz": 480
    },
    "id": "73LShHBE_sHu",
    "outputId": "768ba22f-54a2-4847-fe37-37c793f6409a"
   },
   "outputs": [
    {
     "data": {
      "text/plain": [
       "['date_time',\n",
       " 'userid',\n",
       " 'domain',\n",
       " 'dlbytes',\n",
       " 'ulbytes',\n",
       " 'clientip',\n",
       " 'serverip',\n",
       " 'country',\n",
       " 'txn_time',\n",
       " 'http_method',\n",
       " 'user_agent',\n",
       " 'platform']"
      ]
     },
     "execution_count": 8,
     "metadata": {},
     "output_type": "execute_result"
    }
   ],
   "source": [
    "df.columns"
   ]
  },
  {
   "cell_type": "code",
   "execution_count": 9,
   "metadata": {
    "colab": {
     "base_uri": "https://localhost:8080/"
    },
    "executionInfo": {
     "elapsed": 3,
     "status": "ok",
     "timestamp": 1705213989367,
     "user": {
      "displayName": "Ivan Omazic (BionicleBear)",
      "userId": "18178661664072419302"
     },
     "user_tz": 480
    },
    "id": "V4Yj5eyu_ubD",
    "outputId": "e75d988f-81a4-4be1-c9a9-380541b70ed7"
   },
   "outputs": [
    {
     "data": {
      "text/plain": [
       "[('date_time', 'string'),\n",
       " ('userid', 'string'),\n",
       " ('domain', 'string'),\n",
       " ('dlbytes', 'string'),\n",
       " ('ulbytes', 'string'),\n",
       " ('clientip', 'string'),\n",
       " ('serverip', 'string'),\n",
       " ('country', 'string'),\n",
       " ('txn_time', 'string'),\n",
       " ('http_method', 'string'),\n",
       " ('user_agent', 'string'),\n",
       " ('platform', 'string')]"
      ]
     },
     "execution_count": 9,
     "metadata": {},
     "output_type": "execute_result"
    }
   ],
   "source": [
    "df.dtypes"
   ]
  },
  {
   "cell_type": "code",
   "execution_count": 10,
   "metadata": {
    "executionInfo": {
     "elapsed": 2,
     "status": "ok",
     "timestamp": 1705213989367,
     "user": {
      "displayName": "Ivan Omazic (BionicleBear)",
      "userId": "18178661664072419302"
     },
     "user_tz": 480
    },
    "id": "9r4wkerS_2De"
   },
   "outputs": [],
   "source": [
    "countries = df.select('country','dlbytes')"
   ]
  },
  {
   "cell_type": "code",
   "execution_count": 11,
   "metadata": {
    "colab": {
     "base_uri": "https://localhost:8080/"
    },
    "executionInfo": {
     "elapsed": 435,
     "status": "ok",
     "timestamp": 1705213989800,
     "user": {
      "displayName": "Ivan Omazic (BionicleBear)",
      "userId": "18178661664072419302"
     },
     "user_tz": 480
    },
    "id": "47anzlvO_9F2",
    "outputId": "6fb01c45-01f1-4855-b26d-2073626df9a3"
   },
   "outputs": [
    {
     "name": "stdout",
     "output_type": "stream",
     "text": [
      "+-------+-------+\n",
      "|country|dlbytes|\n",
      "+-------+-------+\n",
      "|England| 872807|\n",
      "|  Wales|  50898|\n",
      "+-------+-------+\n",
      "only showing top 2 rows\n",
      "\n"
     ]
    }
   ],
   "source": [
    "countries.show(2)"
   ]
  },
  {
   "cell_type": "code",
   "execution_count": 13,
   "metadata": {
    "colab": {
     "base_uri": "https://localhost:8080/"
    },
    "executionInfo": {
     "elapsed": 796,
     "status": "ok",
     "timestamp": 1705213990595,
     "user": {
      "displayName": "Ivan Omazic (BionicleBear)",
      "userId": "18178661664072419302"
     },
     "user_tz": 480
    },
    "id": "YjwSWjUkAHD5",
    "outputId": "fa4e416a-24d1-48ed-98ef-138081b2440b"
   },
   "outputs": [
    {
     "name": "stdout",
     "output_type": "stream",
     "text": [
      "+-------------------+-------------+--------------------+-------+-------+---------------+---------------+--------+--------+-----------+--------------------+--------+\n",
      "|          date_time|       userid|              domain|dlbytes|ulbytes|       clientip|       serverip| country|txn_time|http_method|          user_agent|platform|\n",
      "+-------------------+-------------+--------------------+-------+-------+---------------+---------------+--------+--------+-----------+--------------------+--------+\n",
      "|2023-10-04 11:37:11|7773153683656|    ryan-wells.co.uk| 872807| 741526|142.132.219.110|  62.42.184.180| England|    2.33|      HTTPS|Mozilla/5.0 (Wind...| Android|\n",
      "|2023-10-04 12:17:07|1886351675683|         hopkins.org|  50898| 529504|  184.205.48.78|  152.123.41.39|   Wales|     1.2|       HTTP|Mozilla/5.0 (Wind...| Android|\n",
      "|2023-10-02 23:25:12|1597721345356|           evans.com| 964276| 952420|  189.30.60.163|  68.171.236.18|Scotland|    1.32|       HTTP|Mozilla/5.0 (Wind...|   Linux|\n",
      "|2023-10-03 09:43:11|9766845800247|           kelly.com| 212529| 811887|   13.144.79.35|  63.141.80.109| England|    2.58|      HTTPS|Opera/8.54.(X11; ...| Android|\n",
      "|2023-10-01 08:16:46|1546762097287|richardson-walker...| 553626| 901428| 143.74.163.248|  26.253.17.223|   Wales|    1.53|       HTTP|Mozilla/5.0 (Maci...| Windows|\n",
      "|2023-10-01 13:49:39|8949163845658|            lowe.com|  43595|  77597|  148.15.214.37|     4.33.9.229| England|    1.68|       HTTP|Mozilla/5.0 (Linu...|     Mac|\n",
      "|2023-10-02 02:22:30|8035878244556|            webb.com| 270574|  94701|  73.78.116.223|    82.69.61.25| England|    2.19|      HTTPS|Mozilla/5.0 (Wind...| Windows|\n",
      "|2023-10-03 11:48:19|3400788003398|           watts.com| 342378| 715125|  142.37.27.131| 41.152.174.228|Scotland|    2.92|       HTTP|Opera/8.53.(Windo...|   Linux|\n",
      "|2023-10-02 12:45:41|7007039082075|   kemp-robinson.org| 613214| 239494| 80.245.249.129|198.186.190.149|Scotland|    1.78|      HTTPS|Mozilla/5.0 (X11;...|     Mac|\n",
      "|2023-10-03 08:59:16|0893913938070|           smith.com| 643362| 146752|    21.239.54.8|  136.170.182.7| England|    0.58|      HTTPS|Mozilla/5.0 (Andr...| Windows|\n",
      "|2023-10-05 21:36:53|3102780874474|   wilson-butler.com| 603759| 616834| 57.113.168.155|162.232.192.227| Ireland|    2.42|      HTTPS|Mozilla/5.0 (Andr...|     Mac|\n",
      "|2023-10-02 03:26:59|7214908687567|            hunt.com| 707145| 995270|  98.141.197.15| 107.239.246.38| England|    1.95|       HTTP|Opera/9.31.(Windo...|     iOS|\n",
      "|2023-10-04 03:09:58|0291279030607|           jones.org| 640439| 373389|       98.3.2.5|   148.44.76.68|   Wales|    2.47|       HTTP|Mozilla/5.0 (Maci...|     Mac|\n",
      "|2023-10-02 10:16:25|1042763747479|         thomas.info| 764956| 952036|187.182.236.233|   85.61.114.36| England|    1.42|       HTTP|Mozilla/5.0 (Andr...| Android|\n",
      "|2023-10-05 02:22:40|2322746906974|franklin-whittake...| 651947| 183369| 26.138.157.236| 142.176.162.10| Ireland|    1.35|      HTTPS|Opera/8.74.(Windo...|   Linux|\n",
      "|2023-10-01 18:12:17|0316289568864|         godfrey.com| 428528|  78946| 65.224.238.100|  128.90.192.17| Ireland|    1.61|       HTTP|Opera/9.16.(Windo...|   Linux|\n",
      "|2023-10-01 20:09:39|1093994305313|          wilson.com|  23710|  84942|  129.221.29.97|  18.191.29.117|   Wales|    1.25|       HTTP|Opera/9.17.(X11; ...|     iOS|\n",
      "|2023-10-03 04:45:13|7035874783254|      cole-jones.com| 447095| 390148|   94.98.62.187|172.173.228.171|   Wales|    2.43|       HTTP|Mozilla/5.0 (comp...| Android|\n",
      "|2023-10-05 18:48:05|7798663185667|            hall.net| 809701|  11489|  82.141.112.88|  110.103.99.71| England|    2.66|      HTTPS|Mozilla/5.0 (iPad...|     iOS|\n",
      "|2023-10-02 13:47:58|0150443056843|            todd.com| 204941| 114006|   161.8.210.40| 208.230.61.215|Scotland|    2.69|       HTTP|Opera/9.36.(X11; ...| Android|\n",
      "+-------------------+-------------+--------------------+-------+-------+---------------+---------------+--------+--------+-----------+--------------------+--------+\n",
      "only showing top 20 rows\n",
      "\n"
     ]
    }
   ],
   "source": [
    "from pyspark.sql.types import *\n",
    "#Define custom schema\n",
    "custom_schema = StructType([\n",
    "    StructField(\"date_time\", StringType(), True),\n",
    "    StructField(\"userid\", StringType(), True),\n",
    "    StructField(\"domain\", StringType(), True),\n",
    "    StructField(\"dlbytes\", IntegerType(), True),\n",
    "    StructField(\"ulbytes\", IntegerType(), True),\n",
    "    StructField(\"clientip\", StringType(), True),\n",
    "    StructField(\"serverip\", StringType(), True),\n",
    "    StructField(\"country\", StringType(), True),\n",
    "    StructField(\"txn_time\", FloatType(), True),\n",
    "    StructField(\"http_method\", StringType(), True),\n",
    "    StructField(\"user_agent\", StringType(), True),\n",
    "    StructField(\"platform\", StringType(), True)\n",
    "])\n",
    "\n",
    "#Load the data with the custom schema\n",
    "data_path = \"./course_file.csv\"\n",
    "df = spark.read.csv(data_path, schema = custom_schema, header = True)\n",
    "\n",
    "#Show the loaded DataFrame\n",
    "df.show()"
   ]
  },
  {
   "cell_type": "code",
   "execution_count": 14,
   "metadata": {
    "colab": {
     "base_uri": "https://localhost:8080/"
    },
    "executionInfo": {
     "elapsed": 3,
     "status": "ok",
     "timestamp": 1705213990595,
     "user": {
      "displayName": "Ivan Omazic (BionicleBear)",
      "userId": "18178661664072419302"
     },
     "user_tz": 480
    },
    "id": "SUcpl6enB2la",
    "outputId": "c5f6829b-f620-44e7-9d2e-375bfa67c662"
   },
   "outputs": [
    {
     "name": "stdout",
     "output_type": "stream",
     "text": [
      "root\n",
      " |-- date_time: string (nullable = true)\n",
      " |-- userid: string (nullable = true)\n",
      " |-- domain: string (nullable = true)\n",
      " |-- dlbytes: integer (nullable = true)\n",
      " |-- ulbytes: integer (nullable = true)\n",
      " |-- clientip: string (nullable = true)\n",
      " |-- serverip: string (nullable = true)\n",
      " |-- country: string (nullable = true)\n",
      " |-- txn_time: float (nullable = true)\n",
      " |-- http_method: string (nullable = true)\n",
      " |-- user_agent: string (nullable = true)\n",
      " |-- platform: string (nullable = true)\n",
      "\n"
     ]
    }
   ],
   "source": [
    "df.printSchema()"
   ]
  },
  {
   "cell_type": "code",
   "execution_count": 15,
   "metadata": {
    "colab": {
     "base_uri": "https://localhost:8080/"
    },
    "executionInfo": {
     "elapsed": 857,
     "status": "ok",
     "timestamp": 1705213991451,
     "user": {
      "displayName": "Ivan Omazic (BionicleBear)",
      "userId": "18178661664072419302"
     },
     "user_tz": 480
    },
    "id": "O2_P_yr8B6IG",
    "outputId": "afc94864-49f0-46a0-8bf0-e7389b1cc094"
   },
   "outputs": [
    {
     "name": "stdout",
     "output_type": "stream",
     "text": [
      "+-------------------+-------------+--------------------+-------+-------+---------------+---------------+--------+--------+-----------+--------------------+--------+\n",
      "|          date_time|       userid|              domain|dlbytes|ulbytes|       clientip|       serverip| country|txn_time|http_method|          user_agent|platform|\n",
      "+-------------------+-------------+--------------------+-------+-------+---------------+---------------+--------+--------+-----------+--------------------+--------+\n",
      "|2023-10-04 11:37:11|7773153683656|    ryan-wells.co.uk| 872807| 741526|142.132.219.110|  62.42.184.180| England|    2.33|      HTTPS|Mozilla/5.0 (Wind...| Android|\n",
      "|2023-10-04 12:17:07|1886351675683|         hopkins.org|  50898| 529504|  184.205.48.78|  152.123.41.39|   Wales|     1.2|       HTTP|Mozilla/5.0 (Wind...| Android|\n",
      "|2023-10-02 23:25:12|1597721345356|           evans.com| 964276| 952420|  189.30.60.163|  68.171.236.18|Scotland|    1.32|       HTTP|Mozilla/5.0 (Wind...|   Linux|\n",
      "|2023-10-03 09:43:11|9766845800247|           kelly.com| 212529| 811887|   13.144.79.35|  63.141.80.109| England|    2.58|      HTTPS|Opera/8.54.(X11; ...| Android|\n",
      "|2023-10-01 08:16:46|1546762097287|richardson-walker...| 553626| 901428| 143.74.163.248|  26.253.17.223|   Wales|    1.53|       HTTP|Mozilla/5.0 (Maci...| Windows|\n",
      "|2023-10-01 13:49:39|8949163845658|            lowe.com|  43595|  77597|  148.15.214.37|     4.33.9.229| England|    1.68|       HTTP|Mozilla/5.0 (Linu...|     Mac|\n",
      "|2023-10-02 02:22:30|8035878244556|            webb.com| 270574|  94701|  73.78.116.223|    82.69.61.25| England|    2.19|      HTTPS|Mozilla/5.0 (Wind...| Windows|\n",
      "|2023-10-03 11:48:19|3400788003398|           watts.com| 342378| 715125|  142.37.27.131| 41.152.174.228|Scotland|    2.92|       HTTP|Opera/8.53.(Windo...|   Linux|\n",
      "|2023-10-02 12:45:41|7007039082075|   kemp-robinson.org| 613214| 239494| 80.245.249.129|198.186.190.149|Scotland|    1.78|      HTTPS|Mozilla/5.0 (X11;...|     Mac|\n",
      "|2023-10-03 08:59:16|0893913938070|           smith.com| 643362| 146752|    21.239.54.8|  136.170.182.7| England|    0.58|      HTTPS|Mozilla/5.0 (Andr...| Windows|\n",
      "|2023-10-05 21:36:53|3102780874474|   wilson-butler.com| 603759| 616834| 57.113.168.155|162.232.192.227| Ireland|    2.42|      HTTPS|Mozilla/5.0 (Andr...|     Mac|\n",
      "|2023-10-02 03:26:59|7214908687567|            hunt.com| 707145| 995270|  98.141.197.15| 107.239.246.38| England|    1.95|       HTTP|Opera/9.31.(Windo...|     iOS|\n",
      "|2023-10-04 03:09:58|0291279030607|           jones.org| 640439| 373389|       98.3.2.5|   148.44.76.68|   Wales|    2.47|       HTTP|Mozilla/5.0 (Maci...|     Mac|\n",
      "|2023-10-02 10:16:25|1042763747479|         thomas.info| 764956| 952036|187.182.236.233|   85.61.114.36| England|    1.42|       HTTP|Mozilla/5.0 (Andr...| Android|\n",
      "|2023-10-05 02:22:40|2322746906974|franklin-whittake...| 651947| 183369| 26.138.157.236| 142.176.162.10| Ireland|    1.35|      HTTPS|Opera/8.74.(Windo...|   Linux|\n",
      "|2023-10-01 18:12:17|0316289568864|         godfrey.com| 428528|  78946| 65.224.238.100|  128.90.192.17| Ireland|    1.61|       HTTP|Opera/9.16.(Windo...|   Linux|\n",
      "|2023-10-01 20:09:39|1093994305313|          wilson.com|  23710|  84942|  129.221.29.97|  18.191.29.117|   Wales|    1.25|       HTTP|Opera/9.17.(X11; ...|     iOS|\n",
      "|2023-10-03 04:45:13|7035874783254|      cole-jones.com| 447095| 390148|   94.98.62.187|172.173.228.171|   Wales|    2.43|       HTTP|Mozilla/5.0 (comp...| Android|\n",
      "|2023-10-05 18:48:05|7798663185667|            hall.net| 809701|  11489|  82.141.112.88|  110.103.99.71| England|    2.66|      HTTPS|Mozilla/5.0 (iPad...|     iOS|\n",
      "|2023-10-02 13:47:58|0150443056843|            todd.com| 204941| 114006|   161.8.210.40| 208.230.61.215|Scotland|    2.69|       HTTP|Opera/9.36.(X11; ...| Android|\n",
      "+-------------------+-------------+--------------------+-------+-------+---------------+---------------+--------+--------+-----------+--------------------+--------+\n",
      "only showing top 20 rows\n",
      "\n"
     ]
    }
   ],
   "source": [
    "df.fillna(\n",
    "    {\n",
    "        'dlbytes' : 0,\n",
    "        'ulbytes' : 0,\n",
    "        'country' : 'Unknown'\n",
    "    }\n",
    ").show()"
   ]
  },
  {
   "cell_type": "code",
   "execution_count": 16,
   "metadata": {
    "colab": {
     "base_uri": "https://localhost:8080/"
    },
    "executionInfo": {
     "elapsed": 533,
     "status": "ok",
     "timestamp": 1705213991982,
     "user": {
      "displayName": "Ivan Omazic (BionicleBear)",
      "userId": "18178661664072419302"
     },
     "user_tz": 480
    },
    "id": "d2TL0YkSCPLQ",
    "outputId": "67084002-1ffe-4fef-fb00-da0c8ef41cdd"
   },
   "outputs": [
    {
     "name": "stdout",
     "output_type": "stream",
     "text": [
      "+-------------------+-------------+--------------------+-------+-------+---------------+---------------+--------+--------+-----------+--------------------+--------+\n",
      "|          date_time|       userid|              domain|dlbytes|ulbytes|       clientip|       serverip| country|txn_time|http_method|          user_agent|platform|\n",
      "+-------------------+-------------+--------------------+-------+-------+---------------+---------------+--------+--------+-----------+--------------------+--------+\n",
      "|2023-10-04 11:37:11|7773153683656|    ryan-wells.co.uk| 872807| 741526|142.132.219.110|  62.42.184.180| England|    2.33|      HTTPS|Mozilla/5.0 (Wind...| Android|\n",
      "|2023-10-04 12:17:07|1886351675683|         hopkins.org|  50898| 529504|  184.205.48.78|  152.123.41.39|   Wales|     1.2|       HTTP|Mozilla/5.0 (Wind...| Android|\n",
      "|2023-10-02 23:25:12|1597721345356|           evans.com| 964276| 952420|  189.30.60.163|  68.171.236.18|Scotland|    1.32|       HTTP|Mozilla/5.0 (Wind...|   Linux|\n",
      "|2023-10-03 09:43:11|9766845800247|           kelly.com| 212529| 811887|   13.144.79.35|  63.141.80.109| England|    2.58|      HTTPS|Opera/8.54.(X11; ...| Android|\n",
      "|2023-10-01 08:16:46|1546762097287|richardson-walker...| 553626| 901428| 143.74.163.248|  26.253.17.223|   Wales|    1.53|       HTTP|Mozilla/5.0 (Maci...| Windows|\n",
      "|2023-10-01 13:49:39|8949163845658|            lowe.com|  43595|  77597|  148.15.214.37|     4.33.9.229| England|    1.68|       HTTP|Mozilla/5.0 (Linu...|     Mac|\n",
      "|2023-10-02 02:22:30|8035878244556|            webb.com| 270574|  94701|  73.78.116.223|    82.69.61.25| England|    2.19|      HTTPS|Mozilla/5.0 (Wind...| Windows|\n",
      "|2023-10-03 11:48:19|3400788003398|           watts.com| 342378| 715125|  142.37.27.131| 41.152.174.228|Scotland|    2.92|       HTTP|Opera/8.53.(Windo...|   Linux|\n",
      "|2023-10-02 12:45:41|7007039082075|   kemp-robinson.org| 613214| 239494| 80.245.249.129|198.186.190.149|Scotland|    1.78|      HTTPS|Mozilla/5.0 (X11;...|     Mac|\n",
      "|2023-10-03 08:59:16|0893913938070|           smith.com| 643362| 146752|    21.239.54.8|  136.170.182.7| England|    0.58|      HTTPS|Mozilla/5.0 (Andr...| Windows|\n",
      "|2023-10-05 21:36:53|3102780874474|   wilson-butler.com| 603759| 616834| 57.113.168.155|162.232.192.227| Ireland|    2.42|      HTTPS|Mozilla/5.0 (Andr...|     Mac|\n",
      "|2023-10-02 03:26:59|7214908687567|            hunt.com| 707145| 995270|  98.141.197.15| 107.239.246.38| England|    1.95|       HTTP|Opera/9.31.(Windo...|     iOS|\n",
      "|2023-10-04 03:09:58|0291279030607|           jones.org| 640439| 373389|       98.3.2.5|   148.44.76.68|   Wales|    2.47|       HTTP|Mozilla/5.0 (Maci...|     Mac|\n",
      "|2023-10-02 10:16:25|1042763747479|         thomas.info| 764956| 952036|187.182.236.233|   85.61.114.36| England|    1.42|       HTTP|Mozilla/5.0 (Andr...| Android|\n",
      "|2023-10-05 02:22:40|2322746906974|franklin-whittake...| 651947| 183369| 26.138.157.236| 142.176.162.10| Ireland|    1.35|      HTTPS|Opera/8.74.(Windo...|   Linux|\n",
      "|2023-10-01 18:12:17|0316289568864|         godfrey.com| 428528|  78946| 65.224.238.100|  128.90.192.17| Ireland|    1.61|       HTTP|Opera/9.16.(Windo...|   Linux|\n",
      "|2023-10-01 20:09:39|1093994305313|          wilson.com|  23710|  84942|  129.221.29.97|  18.191.29.117|   Wales|    1.25|       HTTP|Opera/9.17.(X11; ...|     iOS|\n",
      "|2023-10-03 04:45:13|7035874783254|      cole-jones.com| 447095| 390148|   94.98.62.187|172.173.228.171|   Wales|    2.43|       HTTP|Mozilla/5.0 (comp...| Android|\n",
      "|2023-10-05 18:48:05|7798663185667|            hall.net| 809701|  11489|  82.141.112.88|  110.103.99.71| England|    2.66|      HTTPS|Mozilla/5.0 (iPad...|     iOS|\n",
      "|2023-10-02 13:47:58|0150443056843|            todd.com| 204941| 114006|   161.8.210.40| 208.230.61.215|Scotland|    2.69|       HTTP|Opera/9.36.(X11; ...| Android|\n",
      "+-------------------+-------------+--------------------+-------+-------+---------------+---------------+--------+--------+-----------+--------------------+--------+\n",
      "only showing top 20 rows\n",
      "\n"
     ]
    }
   ],
   "source": [
    "df.fillna('1').show()"
   ]
  },
  {
   "cell_type": "code",
   "execution_count": 17,
   "metadata": {
    "colab": {
     "base_uri": "https://localhost:8080/"
    },
    "executionInfo": {
     "elapsed": 426,
     "status": "ok",
     "timestamp": 1705213992406,
     "user": {
      "displayName": "Ivan Omazic (BionicleBear)",
      "userId": "18178661664072419302"
     },
     "user_tz": 480
    },
    "id": "9AnzuBw_CmQ6",
    "outputId": "dcd615e6-9022-46bc-83c2-917c1caece09"
   },
   "outputs": [
    {
     "name": "stdout",
     "output_type": "stream",
     "text": [
      "+-------------------+-------------+--------------------+-------+-------+---------------+---------------+--------+--------+-----------+--------------------+--------+\n",
      "|          date_time|       userid|              domain|dlbytes|ulbytes|       clientip|       serverip| country|txn_time|http_method|          user_agent|platform|\n",
      "+-------------------+-------------+--------------------+-------+-------+---------------+---------------+--------+--------+-----------+--------------------+--------+\n",
      "|2023-10-04 11:37:11|7773153683656|    ryan-wells.co.uk| 872807| 741526|142.132.219.110|  62.42.184.180| England|    2.33|      HTTPS|Mozilla/5.0 (Wind...| Android|\n",
      "|2023-10-04 12:17:07|1886351675683|         hopkins.org|  50898| 529504|  184.205.48.78|  152.123.41.39|   Wales|     1.2|       HTTP|Mozilla/5.0 (Wind...| Android|\n",
      "|2023-10-02 23:25:12|1597721345356|           evans.com| 964276| 952420|  189.30.60.163|  68.171.236.18|Scotland|    1.32|       HTTP|Mozilla/5.0 (Wind...|   Linux|\n",
      "|2023-10-03 09:43:11|9766845800247|           kelly.com| 212529| 811887|   13.144.79.35|  63.141.80.109| England|    2.58|      HTTPS|Opera/8.54.(X11; ...| Android|\n",
      "|2023-10-01 08:16:46|1546762097287|richardson-walker...| 553626| 901428| 143.74.163.248|  26.253.17.223|   Wales|    1.53|       HTTP|Mozilla/5.0 (Maci...| Windows|\n",
      "|2023-10-01 13:49:39|8949163845658|            lowe.com|  43595|  77597|  148.15.214.37|     4.33.9.229| England|    1.68|       HTTP|Mozilla/5.0 (Linu...|     Mac|\n",
      "|2023-10-02 02:22:30|8035878244556|            webb.com| 270574|  94701|  73.78.116.223|    82.69.61.25| England|    2.19|      HTTPS|Mozilla/5.0 (Wind...| Windows|\n",
      "|2023-10-03 11:48:19|3400788003398|           watts.com| 342378| 715125|  142.37.27.131| 41.152.174.228|Scotland|    2.92|       HTTP|Opera/8.53.(Windo...|   Linux|\n",
      "|2023-10-02 12:45:41|7007039082075|   kemp-robinson.org| 613214| 239494| 80.245.249.129|198.186.190.149|Scotland|    1.78|      HTTPS|Mozilla/5.0 (X11;...|     Mac|\n",
      "|2023-10-03 08:59:16|0893913938070|           smith.com| 643362| 146752|    21.239.54.8|  136.170.182.7| England|    0.58|      HTTPS|Mozilla/5.0 (Andr...| Windows|\n",
      "|2023-10-05 21:36:53|3102780874474|   wilson-butler.com| 603759| 616834| 57.113.168.155|162.232.192.227| Ireland|    2.42|      HTTPS|Mozilla/5.0 (Andr...|     Mac|\n",
      "|2023-10-02 03:26:59|7214908687567|            hunt.com| 707145| 995270|  98.141.197.15| 107.239.246.38| England|    1.95|       HTTP|Opera/9.31.(Windo...|     iOS|\n",
      "|2023-10-04 03:09:58|0291279030607|           jones.org| 640439| 373389|       98.3.2.5|   148.44.76.68|   Wales|    2.47|       HTTP|Mozilla/5.0 (Maci...|     Mac|\n",
      "|2023-10-02 10:16:25|1042763747479|         thomas.info| 764956| 952036|187.182.236.233|   85.61.114.36| England|    1.42|       HTTP|Mozilla/5.0 (Andr...| Android|\n",
      "|2023-10-05 02:22:40|2322746906974|franklin-whittake...| 651947| 183369| 26.138.157.236| 142.176.162.10| Ireland|    1.35|      HTTPS|Opera/8.74.(Windo...|   Linux|\n",
      "|2023-10-01 18:12:17|0316289568864|         godfrey.com| 428528|  78946| 65.224.238.100|  128.90.192.17| Ireland|    1.61|       HTTP|Opera/9.16.(Windo...|   Linux|\n",
      "|2023-10-01 20:09:39|1093994305313|          wilson.com|  23710|  84942|  129.221.29.97|  18.191.29.117|   Wales|    1.25|       HTTP|Opera/9.17.(X11; ...|     iOS|\n",
      "|2023-10-03 04:45:13|7035874783254|      cole-jones.com| 447095| 390148|   94.98.62.187|172.173.228.171|   Wales|    2.43|       HTTP|Mozilla/5.0 (comp...| Android|\n",
      "|2023-10-05 18:48:05|7798663185667|            hall.net| 809701|  11489|  82.141.112.88|  110.103.99.71| England|    2.66|      HTTPS|Mozilla/5.0 (iPad...|     iOS|\n",
      "|2023-10-02 13:47:58|0150443056843|            todd.com| 204941| 114006|   161.8.210.40| 208.230.61.215|Scotland|    2.69|       HTTP|Opera/9.36.(X11; ...| Android|\n",
      "+-------------------+-------------+--------------------+-------+-------+---------------+---------------+--------+--------+-----------+--------------------+--------+\n",
      "only showing top 20 rows\n",
      "\n"
     ]
    }
   ],
   "source": [
    "df.dropna(subset = ['country']).show()"
   ]
  },
  {
   "cell_type": "code",
   "execution_count": 18,
   "metadata": {
    "executionInfo": {
     "elapsed": 2,
     "status": "ok",
     "timestamp": 1705213992406,
     "user": {
      "displayName": "Ivan Omazic (BionicleBear)",
      "userId": "18178661664072419302"
     },
     "user_tz": 480
    },
    "id": "54sVdkA_CsTM"
   },
   "outputs": [],
   "source": [
    "from pyspark.sql import functions as F"
   ]
  },
  {
   "cell_type": "code",
   "execution_count": 19,
   "metadata": {
    "executionInfo": {
     "elapsed": 1379,
     "status": "ok",
     "timestamp": 1705213993783,
     "user": {
      "displayName": "Ivan Omazic (BionicleBear)",
      "userId": "18178661664072419302"
     },
     "user_tz": 480
    },
    "id": "fGynpeXxC8YM"
   },
   "outputs": [],
   "source": [
    "average = df.agg(F.avg('dlbytes')).collect()[0][0]"
   ]
  },
  {
   "cell_type": "code",
   "execution_count": 20,
   "metadata": {
    "colab": {
     "base_uri": "https://localhost:8080/"
    },
    "executionInfo": {
     "elapsed": 4,
     "status": "ok",
     "timestamp": 1705213993783,
     "user": {
      "displayName": "Ivan Omazic (BionicleBear)",
      "userId": "18178661664072419302"
     },
     "user_tz": 480
    },
    "id": "grtYJFpqDEyE",
    "outputId": "1a10aec1-c28b-4759-8614-9092ec4daf8a"
   },
   "outputs": [
    {
     "name": "stdout",
     "output_type": "stream",
     "text": [
      "499993.58573\n"
     ]
    }
   ],
   "source": [
    "print(average)"
   ]
  },
  {
   "cell_type": "code",
   "execution_count": 21,
   "metadata": {
    "colab": {
     "base_uri": "https://localhost:8080/"
    },
    "executionInfo": {
     "elapsed": 2,
     "status": "ok",
     "timestamp": 1705213993783,
     "user": {
      "displayName": "Ivan Omazic (BionicleBear)",
      "userId": "18178661664072419302"
     },
     "user_tz": 480
    },
    "id": "dyTaKzhEDHTM",
    "outputId": "a3a68d33-4ffc-4cac-ae24-dfc73e245a86"
   },
   "outputs": [
    {
     "name": "stdout",
     "output_type": "stream",
     "text": [
      "+-------------------+-------------+--------------------+-------+-------+---------------+---------------+--------+--------+-----------+--------------------+--------+\n",
      "|          date_time|       userid|              domain|dlbytes|ulbytes|       clientip|       serverip| country|txn_time|http_method|          user_agent|platform|\n",
      "+-------------------+-------------+--------------------+-------+-------+---------------+---------------+--------+--------+-----------+--------------------+--------+\n",
      "|2023-10-04 11:37:11|7773153683656|    ryan-wells.co.uk| 872807| 741526|142.132.219.110|  62.42.184.180| England|    2.33|      HTTPS|Mozilla/5.0 (Wind...| Android|\n",
      "|2023-10-04 12:17:07|1886351675683|         hopkins.org|  50898| 529504|  184.205.48.78|  152.123.41.39|   Wales|     1.2|       HTTP|Mozilla/5.0 (Wind...| Android|\n",
      "|2023-10-02 23:25:12|1597721345356|           evans.com| 964276| 952420|  189.30.60.163|  68.171.236.18|Scotland|    1.32|       HTTP|Mozilla/5.0 (Wind...|   Linux|\n",
      "|2023-10-03 09:43:11|9766845800247|           kelly.com| 212529| 811887|   13.144.79.35|  63.141.80.109| England|    2.58|      HTTPS|Opera/8.54.(X11; ...| Android|\n",
      "|2023-10-01 08:16:46|1546762097287|richardson-walker...| 553626| 901428| 143.74.163.248|  26.253.17.223|   Wales|    1.53|       HTTP|Mozilla/5.0 (Maci...| Windows|\n",
      "|2023-10-01 13:49:39|8949163845658|            lowe.com|  43595|  77597|  148.15.214.37|     4.33.9.229| England|    1.68|       HTTP|Mozilla/5.0 (Linu...|     Mac|\n",
      "|2023-10-02 02:22:30|8035878244556|            webb.com| 270574|  94701|  73.78.116.223|    82.69.61.25| England|    2.19|      HTTPS|Mozilla/5.0 (Wind...| Windows|\n",
      "|2023-10-03 11:48:19|3400788003398|           watts.com| 342378| 715125|  142.37.27.131| 41.152.174.228|Scotland|    2.92|       HTTP|Opera/8.53.(Windo...|   Linux|\n",
      "|2023-10-02 12:45:41|7007039082075|   kemp-robinson.org| 613214| 239494| 80.245.249.129|198.186.190.149|Scotland|    1.78|      HTTPS|Mozilla/5.0 (X11;...|     Mac|\n",
      "|2023-10-03 08:59:16|0893913938070|           smith.com| 643362| 146752|    21.239.54.8|  136.170.182.7| England|    0.58|      HTTPS|Mozilla/5.0 (Andr...| Windows|\n",
      "|2023-10-05 21:36:53|3102780874474|   wilson-butler.com| 603759| 616834| 57.113.168.155|162.232.192.227| Ireland|    2.42|      HTTPS|Mozilla/5.0 (Andr...|     Mac|\n",
      "|2023-10-02 03:26:59|7214908687567|            hunt.com| 707145| 995270|  98.141.197.15| 107.239.246.38| England|    1.95|       HTTP|Opera/9.31.(Windo...|     iOS|\n",
      "|2023-10-04 03:09:58|0291279030607|           jones.org| 640439| 373389|       98.3.2.5|   148.44.76.68|   Wales|    2.47|       HTTP|Mozilla/5.0 (Maci...|     Mac|\n",
      "|2023-10-02 10:16:25|1042763747479|         thomas.info| 764956| 952036|187.182.236.233|   85.61.114.36| England|    1.42|       HTTP|Mozilla/5.0 (Andr...| Android|\n",
      "|2023-10-05 02:22:40|2322746906974|franklin-whittake...| 651947| 183369| 26.138.157.236| 142.176.162.10| Ireland|    1.35|      HTTPS|Opera/8.74.(Windo...|   Linux|\n",
      "|2023-10-01 18:12:17|0316289568864|         godfrey.com| 428528|  78946| 65.224.238.100|  128.90.192.17| Ireland|    1.61|       HTTP|Opera/9.16.(Windo...|   Linux|\n",
      "|2023-10-01 20:09:39|1093994305313|          wilson.com|  23710|  84942|  129.221.29.97|  18.191.29.117|   Wales|    1.25|       HTTP|Opera/9.17.(X11; ...|     iOS|\n",
      "|2023-10-03 04:45:13|7035874783254|      cole-jones.com| 447095| 390148|   94.98.62.187|172.173.228.171|   Wales|    2.43|       HTTP|Mozilla/5.0 (comp...| Android|\n",
      "|2023-10-05 18:48:05|7798663185667|            hall.net| 809701|  11489|  82.141.112.88|  110.103.99.71| England|    2.66|      HTTPS|Mozilla/5.0 (iPad...|     iOS|\n",
      "|2023-10-02 13:47:58|0150443056843|            todd.com| 204941| 114006|   161.8.210.40| 208.230.61.215|Scotland|    2.69|       HTTP|Opera/9.36.(X11; ...| Android|\n",
      "+-------------------+-------------+--------------------+-------+-------+---------------+---------------+--------+--------+-----------+--------------------+--------+\n",
      "only showing top 20 rows\n",
      "\n"
     ]
    }
   ],
   "source": [
    "df.fillna(\n",
    "    {\n",
    "        'dlbytes' : average,\n",
    "        'ulbytes' : 0,\n",
    "        'country' : 'Unknown'\n",
    "    }\n",
    ").show()"
   ]
  },
  {
   "cell_type": "code",
   "execution_count": 22,
   "metadata": {
    "colab": {
     "base_uri": "https://localhost:8080/"
    },
    "executionInfo": {
     "elapsed": 583,
     "status": "ok",
     "timestamp": 1705213994365,
     "user": {
      "displayName": "Ivan Omazic (BionicleBear)",
      "userId": "18178661664072419302"
     },
     "user_tz": 480
    },
    "id": "-Yzx-KZ_DfJJ",
    "outputId": "df50f746-d1ba-4ade-8408-99740d853dfd"
   },
   "outputs": [
    {
     "name": "stdout",
     "output_type": "stream",
     "text": [
      "+-------------------+-------------+----------------+-------+-------+---------------+-------------+-------+--------+-----------+--------------------+--------+\n",
      "|          date_time|       userid|          domain|dlbytes|ulbytes|       clientip|     serverip|country|txn_time|http_method|          user_agent|platform|\n",
      "+-------------------+-------------+----------------+-------+-------+---------------+-------------+-------+--------+-----------+--------------------+--------+\n",
      "|2023-10-04 11:37:11|7773153683656|ryan-wells.co.uk| 872807| 741526|142.132.219.110|62.42.184.180|England|    2.33|      HTTPS|Mozilla/5.0 (Wind...| Android|\n",
      "|2023-10-04 12:17:07|1886351675683|     hopkins.org|  50898| 529504|  184.205.48.78|152.123.41.39|  Wales|     1.2|       HTTP|Mozilla/5.0 (Wind...| Android|\n",
      "+-------------------+-------------+----------------+-------+-------+---------------+-------------+-------+--------+-----------+--------------------+--------+\n",
      "only showing top 2 rows\n",
      "\n"
     ]
    }
   ],
   "source": [
    "df.show(2)"
   ]
  },
  {
   "cell_type": "code",
   "execution_count": 23,
   "metadata": {
    "executionInfo": {
     "elapsed": 1,
     "status": "ok",
     "timestamp": 1705213994365,
     "user": {
      "displayName": "Ivan Omazic (BionicleBear)",
      "userId": "18178661664072419302"
     },
     "user_tz": 480
    },
    "id": "Kcs-7bmmDnKO"
   },
   "outputs": [],
   "source": [
    "df.createOrReplaceTempView(\"dfsql\")"
   ]
  },
  {
   "cell_type": "code",
   "execution_count": 24,
   "metadata": {
    "colab": {
     "base_uri": "https://localhost:8080/"
    },
    "executionInfo": {
     "elapsed": 1320,
     "status": "ok",
     "timestamp": 1705213995684,
     "user": {
      "displayName": "Ivan Omazic (BionicleBear)",
      "userId": "18178661664072419302"
     },
     "user_tz": 480
    },
    "id": "XkxpVIv7DthY",
    "outputId": "2b552e04-7e9b-4a10-e541-00bcd14cd2a1"
   },
   "outputs": [
    {
     "name": "stdout",
     "output_type": "stream",
     "text": [
      "+--------+--------+\n",
      "| country|count(1)|\n",
      "+--------+--------+\n",
      "|   Wales|   23802|\n",
      "| Ireland|   23718|\n",
      "| England|   23878|\n",
      "|Scotland|   23607|\n",
      "+--------+--------+\n",
      "\n"
     ]
    }
   ],
   "source": [
    "spark.sql(\"select country, count(*) from dfsql where dlbytes > 50000 group by country \").show()"
   ]
  },
  {
   "cell_type": "code",
   "execution_count": 25,
   "metadata": {
    "colab": {
     "base_uri": "https://localhost:8080/"
    },
    "executionInfo": {
     "elapsed": 1096,
     "status": "ok",
     "timestamp": 1705213996778,
     "user": {
      "displayName": "Ivan Omazic (BionicleBear)",
      "userId": "18178661664072419302"
     },
     "user_tz": 480
    },
    "id": "Hd7AegURDygN",
    "outputId": "a6d96420-ad7d-4b21-a418-609cd4ef1e59"
   },
   "outputs": [
    {
     "name": "stdout",
     "output_type": "stream",
     "text": [
      "+--------+------------------+------------+\n",
      "| country|             AvgUL|sum(dlbytes)|\n",
      "+--------+------------------+------------+\n",
      "|   Wales| 501170.9036600422| 12506206681|\n",
      "| Ireland|498588.33693996957| 12496130770|\n",
      "| England| 500240.4421728041| 12629527260|\n",
      "|Scotland|499690.46323203866| 12367493862|\n",
      "+--------+------------------+------------+\n",
      "\n"
     ]
    }
   ],
   "source": [
    "grouped_df_1 = df.groupBy('country').agg(\n",
    "    {\n",
    "        'dlbytes': 'sum',\n",
    "        'ulbytes': 'avg'\n",
    "    }\n",
    ")\n",
    "\n",
    "grouped_df_1.withColumnRenamed('avg(ulbytes)','AvgUL').show()"
   ]
  },
  {
   "cell_type": "code",
   "execution_count": 26,
   "metadata": {
    "colab": {
     "base_uri": "https://localhost:8080/"
    },
    "executionInfo": {
     "elapsed": 975,
     "status": "ok",
     "timestamp": 1705213997751,
     "user": {
      "displayName": "Ivan Omazic (BionicleBear)",
      "userId": "18178661664072419302"
     },
     "user_tz": 480
    },
    "id": "hO2mMe8pEoLl",
    "outputId": "c5eb1173-0e26-4071-a19b-b3626bca128e"
   },
   "outputs": [
    {
     "name": "stdout",
     "output_type": "stream",
     "text": [
      "+--------+--------+----------+------------------+---------+\n",
      "| country|platform|        DL|                UL|row count|\n",
      "+--------+--------+----------+------------------+---------+\n",
      "| England| Windows|2519261611|496956.96056562435|     5021|\n",
      "|   Wales| Android|2486373821| 499227.4556886228|     5010|\n",
      "| Ireland| Android|2462635163| 501362.6873722926|     4894|\n",
      "| Ireland|     Mac|2507337591| 496117.7526796348|     5038|\n",
      "|Scotland| Windows|2492168780|498358.41915447806|     4991|\n",
      "|Scotland|   Linux|2486170038| 502737.1797207043|     4941|\n",
      "| Ireland| Windows|2486340036| 495752.9689328223|     4957|\n",
      "| England|     Mac|2561386336| 500483.1044216344|     5066|\n",
      "|   Wales|     iOS|2503588431|499370.84761152783|     5066|\n",
      "| England|   Linux|2498926814| 497278.5799840828|     5026|\n",
      "|Scotland|     iOS|2447852329| 496049.2466639709|     4946|\n",
      "|   Wales|   Linux|2512986377|497722.29527794383|     5019|\n",
      "|   Wales| Windows|2517792294|  507253.420969023|     5036|\n",
      "|Scotland| Android|2487105964|500750.42162162164|     4995|\n",
      "| Ireland|     iOS|2492053834| 495859.1924009701|     4948|\n",
      "|   Wales|     Mac|2485465758| 502282.3473282443|     4978|\n",
      "| England|     iOS|2458682102| 506936.0174645572|     4867|\n",
      "| Ireland|   Linux|2547764146| 503753.0543287082|     5117|\n",
      "| England| Android|2591270397|499762.34917840373|     5112|\n",
      "|Scotland|     Mac|2454196751|500557.19106999197|     4972|\n",
      "+--------+--------+----------+------------------+---------+\n",
      "\n"
     ]
    }
   ],
   "source": [
    "from pyspark.sql.functions import *\n",
    "\n",
    "df.groupBy('country', 'platform').agg(\n",
    "    sum('dlbytes').alias('DL'),\n",
    "    avg('ulbytes').alias('UL'),\n",
    "    count('*').alias('row count')\n",
    ").show()"
   ]
  },
  {
   "cell_type": "code",
   "execution_count": 27,
   "metadata": {
    "colab": {
     "base_uri": "https://localhost:8080/"
    },
    "executionInfo": {
     "elapsed": 412,
     "status": "ok",
     "timestamp": 1705213998162,
     "user": {
      "displayName": "Ivan Omazic (BionicleBear)",
      "userId": "18178661664072419302"
     },
     "user_tz": 480
    },
    "id": "-PB4HScFFXTX",
    "outputId": "3719aa98-968e-41c6-d681-bfaabe733f51"
   },
   "outputs": [
    {
     "name": "stdout",
     "output_type": "stream",
     "text": [
      "+-------------------+-------------+--------------------+-------+-------+---------------+-------------+--------+--------+-----------+--------------------+--------+----------+\n",
      "|          date_time|       userid|              domain|dlbytes|ulbytes|       clientip|     serverip| country|txn_time|http_method|          user_agent|platform|totalbytes|\n",
      "+-------------------+-------------+--------------------+-------+-------+---------------+-------------+--------+--------+-----------+--------------------+--------+----------+\n",
      "|2023-10-04 11:37:11|7773153683656|    ryan-wells.co.uk| 872807| 741526|142.132.219.110|62.42.184.180| England|    2.33|      HTTPS|Mozilla/5.0 (Wind...| Android|   1614333|\n",
      "|2023-10-04 12:17:07|1886351675683|         hopkins.org|  50898| 529504|  184.205.48.78|152.123.41.39|   Wales|     1.2|       HTTP|Mozilla/5.0 (Wind...| Android|    580402|\n",
      "|2023-10-02 23:25:12|1597721345356|           evans.com| 964276| 952420|  189.30.60.163|68.171.236.18|Scotland|    1.32|       HTTP|Mozilla/5.0 (Wind...|   Linux|   1916696|\n",
      "|2023-10-03 09:43:11|9766845800247|           kelly.com| 212529| 811887|   13.144.79.35|63.141.80.109| England|    2.58|      HTTPS|Opera/8.54.(X11; ...| Android|   1024416|\n",
      "|2023-10-01 08:16:46|1546762097287|richardson-walker...| 553626| 901428| 143.74.163.248|26.253.17.223|   Wales|    1.53|       HTTP|Mozilla/5.0 (Maci...| Windows|   1455054|\n",
      "+-------------------+-------------+--------------------+-------+-------+---------------+-------------+--------+--------+-----------+--------------------+--------+----------+\n",
      "only showing top 5 rows\n",
      "\n"
     ]
    }
   ],
   "source": [
    "df.withColumn('totalbytes', col('dlbytes') + col('ulbytes')).show(5)"
   ]
  },
  {
   "cell_type": "code",
   "execution_count": 28,
   "metadata": {
    "colab": {
     "base_uri": "https://localhost:8080/"
    },
    "executionInfo": {
     "elapsed": 420,
     "status": "ok",
     "timestamp": 1705213998581,
     "user": {
      "displayName": "Ivan Omazic (BionicleBear)",
      "userId": "18178661664072419302"
     },
     "user_tz": 480
    },
    "id": "J8NplrGwGA3i",
    "outputId": "f6ec9460-7289-47a9-93be-7a694b265577"
   },
   "outputs": [
    {
     "name": "stdout",
     "output_type": "stream",
     "text": [
      "+-------------------+-------------+--------------------+-------+-------+---------------+---------------+--------+--------+-----------+--------------------+--------+----+\n",
      "|          date_time|       userid|              domain|dlbytes|ulbytes|       clientip|       serverip| country|txn_time|http_method|          user_agent|platform|year|\n",
      "+-------------------+-------------+--------------------+-------+-------+---------------+---------------+--------+--------+-----------+--------------------+--------+----+\n",
      "|2023-10-04 11:37:11|7773153683656|    ryan-wells.co.uk| 872807| 741526|142.132.219.110|  62.42.184.180| England|    2.33|      HTTPS|Mozilla/5.0 (Wind...| Android|2023|\n",
      "|2023-10-04 12:17:07|1886351675683|         hopkins.org|  50898| 529504|  184.205.48.78|  152.123.41.39|   Wales|     1.2|       HTTP|Mozilla/5.0 (Wind...| Android|2023|\n",
      "|2023-10-02 23:25:12|1597721345356|           evans.com| 964276| 952420|  189.30.60.163|  68.171.236.18|Scotland|    1.32|       HTTP|Mozilla/5.0 (Wind...|   Linux|2023|\n",
      "|2023-10-03 09:43:11|9766845800247|           kelly.com| 212529| 811887|   13.144.79.35|  63.141.80.109| England|    2.58|      HTTPS|Opera/8.54.(X11; ...| Android|2023|\n",
      "|2023-10-01 08:16:46|1546762097287|richardson-walker...| 553626| 901428| 143.74.163.248|  26.253.17.223|   Wales|    1.53|       HTTP|Mozilla/5.0 (Maci...| Windows|2023|\n",
      "|2023-10-01 13:49:39|8949163845658|            lowe.com|  43595|  77597|  148.15.214.37|     4.33.9.229| England|    1.68|       HTTP|Mozilla/5.0 (Linu...|     Mac|2023|\n",
      "|2023-10-02 02:22:30|8035878244556|            webb.com| 270574|  94701|  73.78.116.223|    82.69.61.25| England|    2.19|      HTTPS|Mozilla/5.0 (Wind...| Windows|2023|\n",
      "|2023-10-03 11:48:19|3400788003398|           watts.com| 342378| 715125|  142.37.27.131| 41.152.174.228|Scotland|    2.92|       HTTP|Opera/8.53.(Windo...|   Linux|2023|\n",
      "|2023-10-02 12:45:41|7007039082075|   kemp-robinson.org| 613214| 239494| 80.245.249.129|198.186.190.149|Scotland|    1.78|      HTTPS|Mozilla/5.0 (X11;...|     Mac|2023|\n",
      "|2023-10-03 08:59:16|0893913938070|           smith.com| 643362| 146752|    21.239.54.8|  136.170.182.7| England|    0.58|      HTTPS|Mozilla/5.0 (Andr...| Windows|2023|\n",
      "|2023-10-05 21:36:53|3102780874474|   wilson-butler.com| 603759| 616834| 57.113.168.155|162.232.192.227| Ireland|    2.42|      HTTPS|Mozilla/5.0 (Andr...|     Mac|2023|\n",
      "|2023-10-02 03:26:59|7214908687567|            hunt.com| 707145| 995270|  98.141.197.15| 107.239.246.38| England|    1.95|       HTTP|Opera/9.31.(Windo...|     iOS|2023|\n",
      "|2023-10-04 03:09:58|0291279030607|           jones.org| 640439| 373389|       98.3.2.5|   148.44.76.68|   Wales|    2.47|       HTTP|Mozilla/5.0 (Maci...|     Mac|2023|\n",
      "|2023-10-02 10:16:25|1042763747479|         thomas.info| 764956| 952036|187.182.236.233|   85.61.114.36| England|    1.42|       HTTP|Mozilla/5.0 (Andr...| Android|2023|\n",
      "|2023-10-05 02:22:40|2322746906974|franklin-whittake...| 651947| 183369| 26.138.157.236| 142.176.162.10| Ireland|    1.35|      HTTPS|Opera/8.74.(Windo...|   Linux|2023|\n",
      "|2023-10-01 18:12:17|0316289568864|         godfrey.com| 428528|  78946| 65.224.238.100|  128.90.192.17| Ireland|    1.61|       HTTP|Opera/9.16.(Windo...|   Linux|2023|\n",
      "|2023-10-01 20:09:39|1093994305313|          wilson.com|  23710|  84942|  129.221.29.97|  18.191.29.117|   Wales|    1.25|       HTTP|Opera/9.17.(X11; ...|     iOS|2023|\n",
      "|2023-10-03 04:45:13|7035874783254|      cole-jones.com| 447095| 390148|   94.98.62.187|172.173.228.171|   Wales|    2.43|       HTTP|Mozilla/5.0 (comp...| Android|2023|\n",
      "|2023-10-05 18:48:05|7798663185667|            hall.net| 809701|  11489|  82.141.112.88|  110.103.99.71| England|    2.66|      HTTPS|Mozilla/5.0 (iPad...|     iOS|2023|\n",
      "|2023-10-02 13:47:58|0150443056843|            todd.com| 204941| 114006|   161.8.210.40| 208.230.61.215|Scotland|    2.69|       HTTP|Opera/9.36.(X11; ...| Android|2023|\n",
      "+-------------------+-------------+--------------------+-------+-------+---------------+---------------+--------+--------+-----------+--------------------+--------+----+\n",
      "only showing top 20 rows\n",
      "\n"
     ]
    }
   ],
   "source": [
    "df.withColumn('year', year('date_time')).show()"
   ]
  },
  {
   "cell_type": "code",
   "execution_count": 29,
   "metadata": {
    "colab": {
     "base_uri": "https://localhost:8080/"
    },
    "executionInfo": {
     "elapsed": 3,
     "status": "ok",
     "timestamp": 1705213998581,
     "user": {
      "displayName": "Ivan Omazic (BionicleBear)",
      "userId": "18178661664072419302"
     },
     "user_tz": 480
    },
    "id": "DMRsQaOPGKIg",
    "outputId": "f0014bd0-33d0-4f7d-cbbc-727412fc7bd0"
   },
   "outputs": [
    {
     "name": "stdout",
     "output_type": "stream",
     "text": [
      "+-------------------+-------------+--------------------+-------+-------+---------------+---------------+--------+--------+-----------+--------------------+--------+--------------------+\n",
      "|          date_time|       userid|              domain|dlbytes|ulbytes|       clientip|       serverip| country|txn_time|http_method|          user_agent|platform|txntime_milliseconds|\n",
      "+-------------------+-------------+--------------------+-------+-------+---------------+---------------+--------+--------+-----------+--------------------+--------+--------------------+\n",
      "|2023-10-04 11:37:11|7773153683656|    ryan-wells.co.uk| 872807| 741526|142.132.219.110|  62.42.184.180| England|    2.33|      HTTPS|Mozilla/5.0 (Wind...| Android|              2330.0|\n",
      "|2023-10-04 12:17:07|1886351675683|         hopkins.org|  50898| 529504|  184.205.48.78|  152.123.41.39|   Wales|     1.2|       HTTP|Mozilla/5.0 (Wind...| Android|              1200.0|\n",
      "|2023-10-02 23:25:12|1597721345356|           evans.com| 964276| 952420|  189.30.60.163|  68.171.236.18|Scotland|    1.32|       HTTP|Mozilla/5.0 (Wind...|   Linux|              1320.0|\n",
      "|2023-10-03 09:43:11|9766845800247|           kelly.com| 212529| 811887|   13.144.79.35|  63.141.80.109| England|    2.58|      HTTPS|Opera/8.54.(X11; ...| Android|              2580.0|\n",
      "|2023-10-01 08:16:46|1546762097287|richardson-walker...| 553626| 901428| 143.74.163.248|  26.253.17.223|   Wales|    1.53|       HTTP|Mozilla/5.0 (Maci...| Windows|              1530.0|\n",
      "|2023-10-01 13:49:39|8949163845658|            lowe.com|  43595|  77597|  148.15.214.37|     4.33.9.229| England|    1.68|       HTTP|Mozilla/5.0 (Linu...|     Mac|              1680.0|\n",
      "|2023-10-02 02:22:30|8035878244556|            webb.com| 270574|  94701|  73.78.116.223|    82.69.61.25| England|    2.19|      HTTPS|Mozilla/5.0 (Wind...| Windows|              2190.0|\n",
      "|2023-10-03 11:48:19|3400788003398|           watts.com| 342378| 715125|  142.37.27.131| 41.152.174.228|Scotland|    2.92|       HTTP|Opera/8.53.(Windo...|   Linux|              2920.0|\n",
      "|2023-10-02 12:45:41|7007039082075|   kemp-robinson.org| 613214| 239494| 80.245.249.129|198.186.190.149|Scotland|    1.78|      HTTPS|Mozilla/5.0 (X11;...|     Mac|              1780.0|\n",
      "|2023-10-03 08:59:16|0893913938070|           smith.com| 643362| 146752|    21.239.54.8|  136.170.182.7| England|    0.58|      HTTPS|Mozilla/5.0 (Andr...| Windows|               580.0|\n",
      "|2023-10-05 21:36:53|3102780874474|   wilson-butler.com| 603759| 616834| 57.113.168.155|162.232.192.227| Ireland|    2.42|      HTTPS|Mozilla/5.0 (Andr...|     Mac|              2420.0|\n",
      "|2023-10-02 03:26:59|7214908687567|            hunt.com| 707145| 995270|  98.141.197.15| 107.239.246.38| England|    1.95|       HTTP|Opera/9.31.(Windo...|     iOS|              1950.0|\n",
      "|2023-10-04 03:09:58|0291279030607|           jones.org| 640439| 373389|       98.3.2.5|   148.44.76.68|   Wales|    2.47|       HTTP|Mozilla/5.0 (Maci...|     Mac|              2470.0|\n",
      "|2023-10-02 10:16:25|1042763747479|         thomas.info| 764956| 952036|187.182.236.233|   85.61.114.36| England|    1.42|       HTTP|Mozilla/5.0 (Andr...| Android|              1420.0|\n",
      "|2023-10-05 02:22:40|2322746906974|franklin-whittake...| 651947| 183369| 26.138.157.236| 142.176.162.10| Ireland|    1.35|      HTTPS|Opera/8.74.(Windo...|   Linux|              1350.0|\n",
      "|2023-10-01 18:12:17|0316289568864|         godfrey.com| 428528|  78946| 65.224.238.100|  128.90.192.17| Ireland|    1.61|       HTTP|Opera/9.16.(Windo...|   Linux|              1610.0|\n",
      "|2023-10-01 20:09:39|1093994305313|          wilson.com|  23710|  84942|  129.221.29.97|  18.191.29.117|   Wales|    1.25|       HTTP|Opera/9.17.(X11; ...|     iOS|              1250.0|\n",
      "|2023-10-03 04:45:13|7035874783254|      cole-jones.com| 447095| 390148|   94.98.62.187|172.173.228.171|   Wales|    2.43|       HTTP|Mozilla/5.0 (comp...| Android|              2430.0|\n",
      "|2023-10-05 18:48:05|7798663185667|            hall.net| 809701|  11489|  82.141.112.88|  110.103.99.71| England|    2.66|      HTTPS|Mozilla/5.0 (iPad...|     iOS|              2660.0|\n",
      "|2023-10-02 13:47:58|0150443056843|            todd.com| 204941| 114006|   161.8.210.40| 208.230.61.215|Scotland|    2.69|       HTTP|Opera/9.36.(X11; ...| Android|              2690.0|\n",
      "+-------------------+-------------+--------------------+-------+-------+---------------+---------------+--------+--------+-----------+--------------------+--------+--------------------+\n",
      "only showing top 20 rows\n",
      "\n"
     ]
    }
   ],
   "source": [
    "df.withColumn('txntime_milliseconds', col('txn_time') * 1000).show()"
   ]
  },
  {
   "cell_type": "code",
   "execution_count": 30,
   "metadata": {
    "colab": {
     "base_uri": "https://localhost:8080/"
    },
    "executionInfo": {
     "elapsed": 477,
     "status": "ok",
     "timestamp": 1705213999057,
     "user": {
      "displayName": "Ivan Omazic (BionicleBear)",
      "userId": "18178661664072419302"
     },
     "user_tz": 480
    },
    "id": "yw7G-18aGUg-",
    "outputId": "e478b43e-dae7-42f8-af72-bf78cb56d736"
   },
   "outputs": [
    {
     "name": "stdout",
     "output_type": "stream",
     "text": [
      "+-------------------+-------------+--------------------+-------+-------+---------------+---------------+--------+--------+-----------+--------------------+--------+-----------+\n",
      "|          date_time|       userid|              domain|dlbytes|ulbytes|       clientip|       serverip| country|txn_time|http_method|          user_agent|platform|device_type|\n",
      "+-------------------+-------------+--------------------+-------+-------+---------------+---------------+--------+--------+-----------+--------------------+--------+-----------+\n",
      "|2023-10-04 11:37:11|7773153683656|    ryan-wells.co.uk| 872807| 741526|142.132.219.110|  62.42.184.180| England|    2.33|      HTTPS|Mozilla/5.0 (Wind...| Android|     Mobile|\n",
      "|2023-10-04 12:17:07|1886351675683|         hopkins.org|  50898| 529504|  184.205.48.78|  152.123.41.39|   Wales|     1.2|       HTTP|Mozilla/5.0 (Wind...| Android|     Mobile|\n",
      "|2023-10-02 23:25:12|1597721345356|           evans.com| 964276| 952420|  189.30.60.163|  68.171.236.18|Scotland|    1.32|       HTTP|Mozilla/5.0 (Wind...|   Linux|    desktop|\n",
      "|2023-10-03 09:43:11|9766845800247|           kelly.com| 212529| 811887|   13.144.79.35|  63.141.80.109| England|    2.58|      HTTPS|Opera/8.54.(X11; ...| Android|     Mobile|\n",
      "|2023-10-01 08:16:46|1546762097287|richardson-walker...| 553626| 901428| 143.74.163.248|  26.253.17.223|   Wales|    1.53|       HTTP|Mozilla/5.0 (Maci...| Windows|    desktop|\n",
      "|2023-10-01 13:49:39|8949163845658|            lowe.com|  43595|  77597|  148.15.214.37|     4.33.9.229| England|    1.68|       HTTP|Mozilla/5.0 (Linu...|     Mac|    desktop|\n",
      "|2023-10-02 02:22:30|8035878244556|            webb.com| 270574|  94701|  73.78.116.223|    82.69.61.25| England|    2.19|      HTTPS|Mozilla/5.0 (Wind...| Windows|    desktop|\n",
      "|2023-10-03 11:48:19|3400788003398|           watts.com| 342378| 715125|  142.37.27.131| 41.152.174.228|Scotland|    2.92|       HTTP|Opera/8.53.(Windo...|   Linux|    desktop|\n",
      "|2023-10-02 12:45:41|7007039082075|   kemp-robinson.org| 613214| 239494| 80.245.249.129|198.186.190.149|Scotland|    1.78|      HTTPS|Mozilla/5.0 (X11;...|     Mac|    desktop|\n",
      "|2023-10-03 08:59:16|0893913938070|           smith.com| 643362| 146752|    21.239.54.8|  136.170.182.7| England|    0.58|      HTTPS|Mozilla/5.0 (Andr...| Windows|    desktop|\n",
      "|2023-10-05 21:36:53|3102780874474|   wilson-butler.com| 603759| 616834| 57.113.168.155|162.232.192.227| Ireland|    2.42|      HTTPS|Mozilla/5.0 (Andr...|     Mac|    desktop|\n",
      "|2023-10-02 03:26:59|7214908687567|            hunt.com| 707145| 995270|  98.141.197.15| 107.239.246.38| England|    1.95|       HTTP|Opera/9.31.(Windo...|     iOS|    desktop|\n",
      "|2023-10-04 03:09:58|0291279030607|           jones.org| 640439| 373389|       98.3.2.5|   148.44.76.68|   Wales|    2.47|       HTTP|Mozilla/5.0 (Maci...|     Mac|    desktop|\n",
      "|2023-10-02 10:16:25|1042763747479|         thomas.info| 764956| 952036|187.182.236.233|   85.61.114.36| England|    1.42|       HTTP|Mozilla/5.0 (Andr...| Android|     Mobile|\n",
      "|2023-10-05 02:22:40|2322746906974|franklin-whittake...| 651947| 183369| 26.138.157.236| 142.176.162.10| Ireland|    1.35|      HTTPS|Opera/8.74.(Windo...|   Linux|    desktop|\n",
      "|2023-10-01 18:12:17|0316289568864|         godfrey.com| 428528|  78946| 65.224.238.100|  128.90.192.17| Ireland|    1.61|       HTTP|Opera/9.16.(Windo...|   Linux|    desktop|\n",
      "|2023-10-01 20:09:39|1093994305313|          wilson.com|  23710|  84942|  129.221.29.97|  18.191.29.117|   Wales|    1.25|       HTTP|Opera/9.17.(X11; ...|     iOS|    desktop|\n",
      "|2023-10-03 04:45:13|7035874783254|      cole-jones.com| 447095| 390148|   94.98.62.187|172.173.228.171|   Wales|    2.43|       HTTP|Mozilla/5.0 (comp...| Android|     Mobile|\n",
      "|2023-10-05 18:48:05|7798663185667|            hall.net| 809701|  11489|  82.141.112.88|  110.103.99.71| England|    2.66|      HTTPS|Mozilla/5.0 (iPad...|     iOS|    desktop|\n",
      "|2023-10-02 13:47:58|0150443056843|            todd.com| 204941| 114006|   161.8.210.40| 208.230.61.215|Scotland|    2.69|       HTTP|Opera/9.36.(X11; ...| Android|     Mobile|\n",
      "+-------------------+-------------+--------------------+-------+-------+---------------+---------------+--------+--------+-----------+--------------------+--------+-----------+\n",
      "only showing top 20 rows\n",
      "\n"
     ]
    }
   ],
   "source": [
    "df.withColumn('device_type',\n",
    "              when(\n",
    "                  col('platform').isin('ios', 'Android'), \\\n",
    "                  'Mobile') \\\n",
    "              .otherwise('desktop')).show()"
   ]
  },
  {
   "cell_type": "code",
   "execution_count": 31,
   "metadata": {
    "executionInfo": {
     "elapsed": 2,
     "status": "ok",
     "timestamp": 1705213999057,
     "user": {
      "displayName": "Ivan Omazic (BionicleBear)",
      "userId": "18178661664072419302"
     },
     "user_tz": 480
    },
    "id": "5Ql9LNNjGqzm"
   },
   "outputs": [],
   "source": [
    "df = df.dropDuplicates(['userid'])"
   ]
  },
  {
   "cell_type": "code",
   "execution_count": 32,
   "metadata": {
    "colab": {
     "base_uri": "https://localhost:8080/"
    },
    "executionInfo": {
     "elapsed": 1954,
     "status": "ok",
     "timestamp": 1705214001009,
     "user": {
      "displayName": "Ivan Omazic (BionicleBear)",
      "userId": "18178661664072419302"
     },
     "user_tz": 480
    },
    "id": "TQKU1Q0tHH6e",
    "outputId": "fb389913-b0dc-4654-c330-415d2ace9ba1"
   },
   "outputs": [
    {
     "name": "stdout",
     "output_type": "stream",
     "text": [
      "+-------------+-----+\n",
      "|       userid|count|\n",
      "+-------------+-----+\n",
      "|9476243665412|    1|\n",
      "|7435163662288|    1|\n",
      "|6078186529360|    1|\n",
      "|0404364283997|    1|\n",
      "|9712471062565|    1|\n",
      "|5518019884193|    1|\n",
      "|0154603546029|    1|\n",
      "|0975095706028|    1|\n",
      "|0092213970495|    1|\n",
      "|8292463551450|    1|\n",
      "|9193610451990|    1|\n",
      "|8470101955002|    1|\n",
      "|4096254500198|    1|\n",
      "|7089895133125|    1|\n",
      "|0133730261390|    1|\n",
      "|8300394808680|    1|\n",
      "|1409348237572|    1|\n",
      "|8781094037166|    1|\n",
      "|1837572565487|    1|\n",
      "|9743743756974|    1|\n",
      "+-------------+-----+\n",
      "only showing top 20 rows\n",
      "\n"
     ]
    }
   ],
   "source": [
    "df.groupBy('userid').count().show()"
   ]
  },
  {
   "cell_type": "code",
   "execution_count": null,
   "metadata": {
    "executionInfo": {
     "elapsed": 6922,
     "status": "ok",
     "timestamp": 1705214007930,
     "user": {
      "displayName": "Ivan Omazic (BionicleBear)",
      "userId": "18178661664072419302"
     },
     "user_tz": 480
    },
    "id": "ie0e0EeUHT7-"
   },
   "outputs": [],
   "source": [
    "df.write.csv('mycsvfile')"
   ]
  },
  {
   "cell_type": "code",
   "execution_count": null,
   "metadata": {
    "executionInfo": {
     "elapsed": 3,
     "status": "ok",
     "timestamp": 1705214007930,
     "user": {
      "displayName": "Ivan Omazic (BionicleBear)",
      "userId": "18178661664072419302"
     },
     "user_tz": 480
    },
    "id": "hwf6Tq9cHorc"
   },
   "outputs": [],
   "source": [
    "df = df.coalesce(1) #only one file"
   ]
  },
  {
   "cell_type": "code",
   "execution_count": null,
   "metadata": {
    "executionInfo": {
     "elapsed": 3932,
     "status": "ok",
     "timestamp": 1705214011860,
     "user": {
      "displayName": "Ivan Omazic (BionicleBear)",
      "userId": "18178661664072419302"
     },
     "user_tz": 480
    },
    "id": "uxVsLBhiIHrk"
   },
   "outputs": [],
   "source": [
    "df.write.csv('mycsvfile2')"
   ]
  },
  {
   "cell_type": "code",
   "execution_count": null,
   "metadata": {
    "executionInfo": {
     "elapsed": 3148,
     "status": "ok",
     "timestamp": 1705214015001,
     "user": {
      "displayName": "Ivan Omazic (BionicleBear)",
      "userId": "18178661664072419302"
     },
     "user_tz": 480
    },
    "id": "Dvx8RiznHzgT"
   },
   "outputs": [],
   "source": [
    "df.write.json('myjsonfile')"
   ]
  },
  {
   "cell_type": "code",
   "execution_count": 36,
   "metadata": {
    "executionInfo": {
     "elapsed": 2,
     "status": "ok",
     "timestamp": 1705214015001,
     "user": {
      "displayName": "Ivan Omazic (BionicleBear)",
      "userId": "18178661664072419302"
     },
     "user_tz": 480
    },
    "id": "kAJ_RnYnIDDd"
   },
   "outputs": [],
   "source": [
    "from pyspark.sql.functions import when"
   ]
  },
  {
   "cell_type": "code",
   "execution_count": 37,
   "metadata": {
    "colab": {
     "base_uri": "https://localhost:8080/"
    },
    "executionInfo": {
     "elapsed": 2683,
     "status": "ok",
     "timestamp": 1705214017683,
     "user": {
      "displayName": "Ivan Omazic (BionicleBear)",
      "userId": "18178661664072419302"
     },
     "user_tz": 480
    },
    "id": "hDzFpBmFIeIf",
    "outputId": "ddb749dd-8d8c-4a46-e584-f59732476dab"
   },
   "outputs": [
    {
     "name": "stdout",
     "output_type": "stream",
     "text": [
      "+-------------------+-------------+-------------------+-------+-------+---------------+--------------+--------+--------+-----------+--------------------+--------+-----------+\n",
      "|          date_time|       userid|             domain|dlbytes|ulbytes|       clientip|      serverip| country|txn_time|http_method|          user_agent|platform|caseexample|\n",
      "+-------------------+-------------+-------------------+-------+-------+---------------+--------------+--------+--------+-----------+--------------------+--------+-----------+\n",
      "|2023-10-01 11:05:24|0004910615244|         robson.org| 756778| 236550| 35.242.245.157| 85.188.139.63|Scotland|    0.83|      HTTPS|Opera/9.66.(Windo...|     iOS|      large|\n",
      "|2023-10-02 18:02:00|0007469702985|          smith.biz| 988049| 116727|  86.195.34.204|153.106.210.57| Ireland|    1.18|       HTTP|Mozilla/5.0 (comp...|   Linux|      large|\n",
      "|2023-10-05 16:34:30|0009633130876|davies-phillips.com| 546244| 819216|   37.140.78.51|    40.4.95.67|Scotland|    0.31|      HTTPS|Opera/8.85.(X11; ...|     Mac|      large|\n",
      "|2023-10-02 09:45:20|0012930422298|   rees-banks.co.uk| 367563| 261045|  171.30.238.90| 116.247.247.4|   Wales|    1.58|      HTTPS|Mozilla/5.0 (iPod...| Android|      small|\n",
      "|2023-10-05 02:49:31|0012989976074|           ryan.com| 186727| 285270|  97.61.198.125| 35.115.52.150| England|    1.09|      HTTPS|Opera/8.32.(X11; ...| Windows|      small|\n",
      "|2023-10-03 04:39:45|0017256894984|     stephenson.com| 569508| 694193|  138.135.49.78|  31.66.186.60| England|    2.71|      HTTPS|Opera/9.57.(X11; ...| Windows|      large|\n",
      "|2023-10-02 09:58:03|0021965045228|          singh.com| 666113| 758342| 183.157.35.221| 15.102.89.121|   Wales|    0.01|       HTTP|Mozilla/5.0 (Maci...| Windows|      large|\n",
      "|2023-10-05 19:55:15|0024041687755|       williams.biz| 889239|  88760|  191.83.61.197| 172.21.44.190|   Wales|    0.77|      HTTPS|Mozilla/5.0 (Maci...|     Mac|      large|\n",
      "|2023-10-02 08:19:43|0025484554969|  barnett-singh.com| 228620| 295478|  12.80.235.224|  20.62.31.155|Scotland|    1.43|      HTTPS|Mozilla/5.0 (iPho...| Windows|      small|\n",
      "|2023-10-05 12:30:25|0025889674784|          kelly.com| 529849|  88942|158.209.218.154| 96.225.195.89| Ireland|    2.21|      HTTPS|Opera/8.81.(Windo...|     iOS|      large|\n",
      "|2023-10-05 12:27:40|0031114146803|          field.com| 440625| 234036|  55.125.35.253|129.250.133.98| England|    2.82|      HTTPS|Mozilla/5.0 (iPho...|     iOS|      small|\n",
      "|2023-10-05 10:43:38|0036507369284|   cameron-cole.com| 854978| 439845| 222.23.206.248|54.239.130.107|   Wales|     2.4|      HTTPS|Mozilla/5.0 (Wind...|     iOS|      large|\n",
      "|2023-10-03 10:18:55|0040725515529|    richardson.info| 993629| 811829|   53.204.53.11|174.157.32.151| England|     0.2|       HTTP|Mozilla/5.0 (X11;...|     iOS|      large|\n",
      "|2023-10-01 05:28:01|0041663944115|   allen-parkes.com| 132221| 386620|   88.3.170.178|220.145.56.244| Ireland|    2.82|       HTTP|Mozilla/5.0 (comp...|     iOS|      small|\n",
      "|2023-10-03 13:15:55|0043380513253|  baldwin-smith.net| 263112| 406907|  40.56.141.148|74.124.132.122| Ireland|    1.96|       HTTP|Opera/9.64.(Windo...| Android|      small|\n",
      "|2023-10-05 06:11:30|0048475824782|        spencer.biz| 136059| 521915|   2.144.125.59| 60.46.106.164| Ireland|    2.56|      HTTPS|Mozilla/5.0 (Wind...| Windows|      small|\n",
      "|2023-10-04 15:37:21|0051250090454|          cross.com|  33170| 479426|  21.249.59.139|166.61.101.165| England|    2.42|      HTTPS|Mozilla/5.0 (iPad...|     iOS|      small|\n",
      "|2023-10-01 03:15:11|0056658573255|       knowles.info| 757486| 162988|106.231.222.148|  141.88.54.38| England|    1.54|      HTTPS|Mozilla/5.0 (comp...|     Mac|      large|\n",
      "|2023-10-01 08:28:05|0061740797901|         graham.com|  27639| 791490|  65.124.225.50|  17.225.12.76|   Wales|     1.1|       HTTP|Opera/8.82.(Windo...| Android|      small|\n",
      "|2023-10-03 02:01:19|0062525464248|         davies.biz| 517197| 259999|  104.59.89.242| 91.206.142.81|Scotland|    0.86|       HTTP|Mozilla/5.0 (Wind...|     iOS|      large|\n",
      "+-------------------+-------------+-------------------+-------+-------+---------------+--------------+--------+--------+-----------+--------------------+--------+-----------+\n",
      "only showing top 20 rows\n",
      "\n"
     ]
    }
   ],
   "source": [
    "df.withColumn(\"caseexample\", when(df[\"dlbytes\"] > 500000, \"large\").otherwise(\"small\")).show()"
   ]
  },
  {
   "cell_type": "code",
   "execution_count": 38,
   "metadata": {
    "executionInfo": {
     "elapsed": 2,
     "status": "ok",
     "timestamp": 1705214017684,
     "user": {
      "displayName": "Ivan Omazic (BionicleBear)",
      "userId": "18178661664072419302"
     },
     "user_tz": 480
    },
    "id": "JTT8EAuNIq6M"
   },
   "outputs": [],
   "source": [
    "from pyspark.sql.functions import isnull"
   ]
  },
  {
   "cell_type": "code",
   "execution_count": 39,
   "metadata": {
    "colab": {
     "base_uri": "https://localhost:8080/"
    },
    "executionInfo": {
     "elapsed": 2988,
     "status": "ok",
     "timestamp": 1705214020670,
     "user": {
      "displayName": "Ivan Omazic (BionicleBear)",
      "userId": "18178661664072419302"
     },
     "user_tz": 480
    },
    "id": "gof7fZBqJASP",
    "outputId": "ae3a0cdf-f72c-49e7-d200-75525f4080c1"
   },
   "outputs": [
    {
     "name": "stdout",
     "output_type": "stream",
     "text": [
      "+-------------------+-------------+-------------------+-------+-------+---------------+--------------+--------+--------+-----------+--------------------+--------+-----------+\n",
      "|          date_time|       userid|             domain|dlbytes|ulbytes|       clientip|      serverip| country|txn_time|http_method|          user_agent|platform|nullexample|\n",
      "+-------------------+-------------+-------------------+-------+-------+---------------+--------------+--------+--------+-----------+--------------------+--------+-----------+\n",
      "|2023-10-01 11:05:24|0004910615244|         robson.org| 756778| 236550| 35.242.245.157| 85.188.139.63|Scotland|    0.83|      HTTPS|Opera/9.66.(Windo...|     iOS|          0|\n",
      "|2023-10-02 18:02:00|0007469702985|          smith.biz| 988049| 116727|  86.195.34.204|153.106.210.57| Ireland|    1.18|       HTTP|Mozilla/5.0 (comp...|   Linux|          0|\n",
      "|2023-10-05 16:34:30|0009633130876|davies-phillips.com| 546244| 819216|   37.140.78.51|    40.4.95.67|Scotland|    0.31|      HTTPS|Opera/8.85.(X11; ...|     Mac|          0|\n",
      "|2023-10-02 09:45:20|0012930422298|   rees-banks.co.uk| 367563| 261045|  171.30.238.90| 116.247.247.4|   Wales|    1.58|      HTTPS|Mozilla/5.0 (iPod...| Android|          0|\n",
      "|2023-10-05 02:49:31|0012989976074|           ryan.com| 186727| 285270|  97.61.198.125| 35.115.52.150| England|    1.09|      HTTPS|Opera/8.32.(X11; ...| Windows|          0|\n",
      "|2023-10-03 04:39:45|0017256894984|     stephenson.com| 569508| 694193|  138.135.49.78|  31.66.186.60| England|    2.71|      HTTPS|Opera/9.57.(X11; ...| Windows|          0|\n",
      "|2023-10-02 09:58:03|0021965045228|          singh.com| 666113| 758342| 183.157.35.221| 15.102.89.121|   Wales|    0.01|       HTTP|Mozilla/5.0 (Maci...| Windows|          0|\n",
      "|2023-10-05 19:55:15|0024041687755|       williams.biz| 889239|  88760|  191.83.61.197| 172.21.44.190|   Wales|    0.77|      HTTPS|Mozilla/5.0 (Maci...|     Mac|          0|\n",
      "|2023-10-02 08:19:43|0025484554969|  barnett-singh.com| 228620| 295478|  12.80.235.224|  20.62.31.155|Scotland|    1.43|      HTTPS|Mozilla/5.0 (iPho...| Windows|          0|\n",
      "|2023-10-05 12:30:25|0025889674784|          kelly.com| 529849|  88942|158.209.218.154| 96.225.195.89| Ireland|    2.21|      HTTPS|Opera/8.81.(Windo...|     iOS|          0|\n",
      "|2023-10-05 12:27:40|0031114146803|          field.com| 440625| 234036|  55.125.35.253|129.250.133.98| England|    2.82|      HTTPS|Mozilla/5.0 (iPho...|     iOS|          0|\n",
      "|2023-10-05 10:43:38|0036507369284|   cameron-cole.com| 854978| 439845| 222.23.206.248|54.239.130.107|   Wales|     2.4|      HTTPS|Mozilla/5.0 (Wind...|     iOS|          0|\n",
      "|2023-10-03 10:18:55|0040725515529|    richardson.info| 993629| 811829|   53.204.53.11|174.157.32.151| England|     0.2|       HTTP|Mozilla/5.0 (X11;...|     iOS|          0|\n",
      "|2023-10-01 05:28:01|0041663944115|   allen-parkes.com| 132221| 386620|   88.3.170.178|220.145.56.244| Ireland|    2.82|       HTTP|Mozilla/5.0 (comp...|     iOS|          0|\n",
      "|2023-10-03 13:15:55|0043380513253|  baldwin-smith.net| 263112| 406907|  40.56.141.148|74.124.132.122| Ireland|    1.96|       HTTP|Opera/9.64.(Windo...| Android|          0|\n",
      "|2023-10-05 06:11:30|0048475824782|        spencer.biz| 136059| 521915|   2.144.125.59| 60.46.106.164| Ireland|    2.56|      HTTPS|Mozilla/5.0 (Wind...| Windows|          0|\n",
      "|2023-10-04 15:37:21|0051250090454|          cross.com|  33170| 479426|  21.249.59.139|166.61.101.165| England|    2.42|      HTTPS|Mozilla/5.0 (iPad...|     iOS|          0|\n",
      "|2023-10-01 03:15:11|0056658573255|       knowles.info| 757486| 162988|106.231.222.148|  141.88.54.38| England|    1.54|      HTTPS|Mozilla/5.0 (comp...|     Mac|          0|\n",
      "|2023-10-01 08:28:05|0061740797901|         graham.com|  27639| 791490|  65.124.225.50|  17.225.12.76|   Wales|     1.1|       HTTP|Opera/8.82.(Windo...| Android|          0|\n",
      "|2023-10-03 02:01:19|0062525464248|         davies.biz| 517197| 259999|  104.59.89.242| 91.206.142.81|Scotland|    0.86|       HTTP|Mozilla/5.0 (Wind...|     iOS|          0|\n",
      "+-------------------+-------------+-------------------+-------+-------+---------------+--------------+--------+--------+-----------+--------------------+--------+-----------+\n",
      "only showing top 20 rows\n",
      "\n"
     ]
    }
   ],
   "source": [
    "df.withColumn(\"nullexample\", when(isnull(df[\"user_agent\"]),1).otherwise(0)).show()"
   ]
  },
  {
   "cell_type": "code",
   "execution_count": 40,
   "metadata": {
    "colab": {
     "base_uri": "https://localhost:8080/"
    },
    "executionInfo": {
     "elapsed": 2066,
     "status": "ok",
     "timestamp": 1705214022735,
     "user": {
      "displayName": "Ivan Omazic (BionicleBear)",
      "userId": "18178661664072419302"
     },
     "user_tz": 480
    },
    "id": "a4IVdWQkJJqQ",
    "outputId": "1546f3d5-043f-4c77-c95d-5a546c30e636"
   },
   "outputs": [
    {
     "name": "stdout",
     "output_type": "stream",
     "text": [
      "+-------------------+-------------+-------------------+-------+-------+---------------+--------------+--------+--------+-----------+--------------------+--------+---------------+\n",
      "|          date_time|       userid|             domain|dlbytes|ulbytes|       clientip|      serverip| country|txn_time|http_method|          user_agent|platform|transactionsize|\n",
      "+-------------------+-------------+-------------------+-------+-------+---------------+--------------+--------+--------+-----------+--------------------+--------+---------------+\n",
      "|2023-10-01 11:05:24|0004910615244|         robson.org| 756778| 236550| 35.242.245.157| 85.188.139.63|Scotland|    0.83|      HTTPS|Opera/9.66.(Windo...|     iOS|          small|\n",
      "|2023-10-02 18:02:00|0007469702985|          smith.biz| 988049| 116727|  86.195.34.204|153.106.210.57| Ireland|    1.18|       HTTP|Mozilla/5.0 (comp...|   Linux|           tiny|\n",
      "|2023-10-05 16:34:30|0009633130876|davies-phillips.com| 546244| 819216|   37.140.78.51|    40.4.95.67|Scotland|    0.31|      HTTPS|Opera/8.85.(X11; ...|     Mac|          large|\n",
      "|2023-10-02 09:45:20|0012930422298|   rees-banks.co.uk| 367563| 261045|  171.30.238.90| 116.247.247.4|   Wales|    1.58|      HTTPS|Mozilla/5.0 (iPod...| Android|         medium|\n",
      "|2023-10-05 02:49:31|0012989976074|           ryan.com| 186727| 285270|  97.61.198.125| 35.115.52.150| England|    1.09|      HTTPS|Opera/8.32.(X11; ...| Windows|          small|\n",
      "|2023-10-03 04:39:45|0017256894984|     stephenson.com| 569508| 694193|  138.135.49.78|  31.66.186.60| England|    2.71|      HTTPS|Opera/9.57.(X11; ...| Windows|          large|\n",
      "|2023-10-02 09:58:03|0021965045228|          singh.com| 666113| 758342| 183.157.35.221| 15.102.89.121|   Wales|    0.01|       HTTP|Mozilla/5.0 (Maci...| Windows|          large|\n",
      "|2023-10-05 19:55:15|0024041687755|       williams.biz| 889239|  88760|  191.83.61.197| 172.21.44.190|   Wales|    0.77|      HTTPS|Mozilla/5.0 (Maci...|     Mac|           tiny|\n",
      "|2023-10-02 08:19:43|0025484554969|  barnett-singh.com| 228620| 295478|  12.80.235.224|  20.62.31.155|Scotland|    1.43|      HTTPS|Mozilla/5.0 (iPho...| Windows|          small|\n",
      "|2023-10-05 12:30:25|0025889674784|          kelly.com| 529849|  88942|158.209.218.154| 96.225.195.89| Ireland|    2.21|      HTTPS|Opera/8.81.(Windo...|     iOS|           tiny|\n",
      "|2023-10-05 12:27:40|0031114146803|          field.com| 440625| 234036|  55.125.35.253|129.250.133.98| England|    2.82|      HTTPS|Mozilla/5.0 (iPho...|     iOS|          small|\n",
      "|2023-10-05 10:43:38|0036507369284|   cameron-cole.com| 854978| 439845| 222.23.206.248|54.239.130.107|   Wales|     2.4|      HTTPS|Mozilla/5.0 (Wind...|     iOS|         medium|\n",
      "|2023-10-03 10:18:55|0040725515529|    richardson.info| 993629| 811829|   53.204.53.11|174.157.32.151| England|     0.2|       HTTP|Mozilla/5.0 (X11;...|     iOS|          large|\n",
      "|2023-10-01 05:28:01|0041663944115|   allen-parkes.com| 132221| 386620|   88.3.170.178|220.145.56.244| Ireland|    2.82|       HTTP|Mozilla/5.0 (comp...|     iOS|           tiny|\n",
      "|2023-10-03 13:15:55|0043380513253|  baldwin-smith.net| 263112| 406907|  40.56.141.148|74.124.132.122| Ireland|    1.96|       HTTP|Opera/9.64.(Windo...| Android|         medium|\n",
      "|2023-10-05 06:11:30|0048475824782|        spencer.biz| 136059| 521915|   2.144.125.59| 60.46.106.164| Ireland|    2.56|      HTTPS|Mozilla/5.0 (Wind...| Windows|           tiny|\n",
      "|2023-10-04 15:37:21|0051250090454|          cross.com|  33170| 479426|  21.249.59.139|166.61.101.165| England|    2.42|      HTTPS|Mozilla/5.0 (iPad...|     iOS|           tiny|\n",
      "|2023-10-01 03:15:11|0056658573255|       knowles.info| 757486| 162988|106.231.222.148|  141.88.54.38| England|    1.54|      HTTPS|Mozilla/5.0 (comp...|     Mac|          small|\n",
      "|2023-10-01 08:28:05|0061740797901|         graham.com|  27639| 791490|  65.124.225.50|  17.225.12.76|   Wales|     1.1|       HTTP|Opera/8.82.(Windo...| Android|           tiny|\n",
      "|2023-10-03 02:01:19|0062525464248|         davies.biz| 517197| 259999|  104.59.89.242| 91.206.142.81|Scotland|    0.86|       HTTP|Mozilla/5.0 (Wind...|     iOS|         medium|\n",
      "+-------------------+-------------+-------------------+-------+-------+---------------+--------------+--------+--------+-----------+--------------------+--------+---------------+\n",
      "only showing top 20 rows\n",
      "\n"
     ]
    }
   ],
   "source": [
    "df.withColumn(\"transactionsize\",\n",
    "\n",
    "              when((df[\"dlbytes\"] > 500000) & (df[\"ulbytes\"] > 500000), \"large\")  \\\n",
    "\n",
    "              .when((df[\"dlbytes\"] > 250000) & (df[\"ulbytes\"] > 250000), \"medium\") \\\n",
    "\n",
    "              .when((df[\"dlbytes\"] > 150000) & (df[\"ulbytes\"] > 150000), \"small\")\n",
    "\n",
    "    .otherwise(\"tiny\")).show()"
   ]
  },
  {
   "cell_type": "code",
   "execution_count": 41,
   "metadata": {
    "colab": {
     "base_uri": "https://localhost:8080/"
    },
    "executionInfo": {
     "elapsed": 1476,
     "status": "ok",
     "timestamp": 1705214024210,
     "user": {
      "displayName": "Ivan Omazic (BionicleBear)",
      "userId": "18178661664072419302"
     },
     "user_tz": 480
    },
    "id": "c3K1tF6oJ1-W",
    "outputId": "700d3d90-3af1-4b56-ee5d-60590772966f"
   },
   "outputs": [
    {
     "name": "stdout",
     "output_type": "stream",
     "text": [
      "+-------------------+-------------+-------------------+-------+-------+---------------+--------------+--------+--------+-----------+--------------------+--------+--------+\n",
      "|          date_time|       userid|             domain|dlbytes|ulbytes|       clientip|      serverip| country|txn_time|http_method|          user_agent|platform|solution|\n",
      "+-------------------+-------------+-------------------+-------+-------+---------------+--------------+--------+--------+-----------+--------------------+--------+--------+\n",
      "|2023-10-01 11:05:24|0004910615244|         robson.org| 756778| 236550| 35.242.245.157| 85.188.139.63|Scotland|    0.83|      HTTPS|Opera/9.66.(Windo...|     iOS|inactive|\n",
      "|2023-10-02 18:02:00|0007469702985|          smith.biz| 988049| 116727|  86.195.34.204|153.106.210.57| Ireland|    1.18|       HTTP|Mozilla/5.0 (comp...|   Linux|inactive|\n",
      "|2023-10-05 16:34:30|0009633130876|davies-phillips.com| 546244| 819216|   37.140.78.51|    40.4.95.67|Scotland|    0.31|      HTTPS|Opera/8.85.(X11; ...|     Mac|inactive|\n",
      "|2023-10-02 09:45:20|0012930422298|   rees-banks.co.uk| 367563| 261045|  171.30.238.90| 116.247.247.4|   Wales|    1.58|      HTTPS|Mozilla/5.0 (iPod...| Android|inactive|\n",
      "|2023-10-05 02:49:31|0012989976074|           ryan.com| 186727| 285270|  97.61.198.125| 35.115.52.150| England|    1.09|      HTTPS|Opera/8.32.(X11; ...| Windows|inactive|\n",
      "|2023-10-03 04:39:45|0017256894984|     stephenson.com| 569508| 694193|  138.135.49.78|  31.66.186.60| England|    2.71|      HTTPS|Opera/9.57.(X11; ...| Windows|  active|\n",
      "|2023-10-02 09:58:03|0021965045228|          singh.com| 666113| 758342| 183.157.35.221| 15.102.89.121|   Wales|    0.01|       HTTP|Mozilla/5.0 (Maci...| Windows|inactive|\n",
      "|2023-10-05 19:55:15|0024041687755|       williams.biz| 889239|  88760|  191.83.61.197| 172.21.44.190|   Wales|    0.77|      HTTPS|Mozilla/5.0 (Maci...|     Mac|inactive|\n",
      "|2023-10-02 08:19:43|0025484554969|  barnett-singh.com| 228620| 295478|  12.80.235.224|  20.62.31.155|Scotland|    1.43|      HTTPS|Mozilla/5.0 (iPho...| Windows|inactive|\n",
      "|2023-10-05 12:30:25|0025889674784|          kelly.com| 529849|  88942|158.209.218.154| 96.225.195.89| Ireland|    2.21|      HTTPS|Opera/8.81.(Windo...|     iOS|  active|\n",
      "|2023-10-05 12:27:40|0031114146803|          field.com| 440625| 234036|  55.125.35.253|129.250.133.98| England|    2.82|      HTTPS|Mozilla/5.0 (iPho...|     iOS|  active|\n",
      "|2023-10-05 10:43:38|0036507369284|   cameron-cole.com| 854978| 439845| 222.23.206.248|54.239.130.107|   Wales|     2.4|      HTTPS|Mozilla/5.0 (Wind...|     iOS|  active|\n",
      "|2023-10-03 10:18:55|0040725515529|    richardson.info| 993629| 811829|   53.204.53.11|174.157.32.151| England|     0.2|       HTTP|Mozilla/5.0 (X11;...|     iOS|inactive|\n",
      "|2023-10-01 05:28:01|0041663944115|   allen-parkes.com| 132221| 386620|   88.3.170.178|220.145.56.244| Ireland|    2.82|       HTTP|Mozilla/5.0 (comp...|     iOS|  active|\n",
      "|2023-10-03 13:15:55|0043380513253|  baldwin-smith.net| 263112| 406907|  40.56.141.148|74.124.132.122| Ireland|    1.96|       HTTP|Opera/9.64.(Windo...| Android|  active|\n",
      "|2023-10-05 06:11:30|0048475824782|        spencer.biz| 136059| 521915|   2.144.125.59| 60.46.106.164| Ireland|    2.56|      HTTPS|Mozilla/5.0 (Wind...| Windows|  active|\n",
      "|2023-10-04 15:37:21|0051250090454|          cross.com|  33170| 479426|  21.249.59.139|166.61.101.165| England|    2.42|      HTTPS|Mozilla/5.0 (iPad...|     iOS|  active|\n",
      "|2023-10-01 03:15:11|0056658573255|       knowles.info| 757486| 162988|106.231.222.148|  141.88.54.38| England|    1.54|      HTTPS|Mozilla/5.0 (comp...|     Mac|inactive|\n",
      "|2023-10-01 08:28:05|0061740797901|         graham.com|  27639| 791490|  65.124.225.50|  17.225.12.76|   Wales|     1.1|       HTTP|Opera/8.82.(Windo...| Android|inactive|\n",
      "|2023-10-03 02:01:19|0062525464248|         davies.biz| 517197| 259999|  104.59.89.242| 91.206.142.81|Scotland|    0.86|       HTTP|Mozilla/5.0 (Wind...|     iOS|inactive|\n",
      "+-------------------+-------------+-------------------+-------+-------+---------------+--------------+--------+--------+-----------+--------------------+--------+--------+\n",
      "only showing top 20 rows\n",
      "\n"
     ]
    }
   ],
   "source": [
    "df.withColumn(\"solution\", when(df[\"txn_time\"] > 1.6, \"active\").otherwise(\"inactive\")).show()"
   ]
  },
  {
   "cell_type": "code",
   "execution_count": 42,
   "metadata": {
    "executionInfo": {
     "elapsed": 1,
     "status": "ok",
     "timestamp": 1705214024210,
     "user": {
      "displayName": "Ivan Omazic (BionicleBear)",
      "userId": "18178661664072419302"
     },
     "user_tz": 480
    },
    "id": "JYG3WjJeMDVG"
   },
   "outputs": [],
   "source": [
    "from pyspark.sql.window import Window\n",
    "from pyspark.sql.functions import rank, col, lead, lag, row_number, avg, sum"
   ]
  },
  {
   "cell_type": "code",
   "execution_count": 43,
   "metadata": {
    "executionInfo": {
     "elapsed": 1,
     "status": "ok",
     "timestamp": 1705214024210,
     "user": {
      "displayName": "Ivan Omazic (BionicleBear)",
      "userId": "18178661664072419302"
     },
     "user_tz": 480
    },
    "id": "cg50KBX8NJ0t"
   },
   "outputs": [],
   "source": [
    "window_spec = Window.partitionBy(\"country\").orderBy(df[\"dlbytes\"].desc())"
   ]
  },
  {
   "cell_type": "code",
   "execution_count": 44,
   "metadata": {
    "colab": {
     "base_uri": "https://localhost:8080/"
    },
    "executionInfo": {
     "elapsed": 3186,
     "status": "ok",
     "timestamp": 1705214027395,
     "user": {
      "displayName": "Ivan Omazic (BionicleBear)",
      "userId": "18178661664072419302"
     },
     "user_tz": 480
    },
    "id": "xXZZSysdNZEV",
    "outputId": "9a171c58-f09b-4759-a5e9-970ecf811add"
   },
   "outputs": [
    {
     "name": "stdout",
     "output_type": "stream",
     "text": [
      "+-------------------+-------------+-----------------+-------+-------+---------------+---------------+-------+--------+-----------+--------------------+--------+----+\n",
      "|          date_time|       userid|           domain|dlbytes|ulbytes|       clientip|       serverip|country|txn_time|http_method|          user_agent|platform|rank|\n",
      "+-------------------+-------------+-----------------+-------+-------+---------------+---------------+-------+--------+-----------+--------------------+--------+----+\n",
      "|2023-10-01 03:19:03|2236747991119|edwards-patel.com| 999910| 283407|   78.178.15.26|   132.242.86.8|  Wales|    1.92|       HTTP|Mozilla/5.0 (iPod...|     Mac|   1|\n",
      "|2023-10-01 23:03:56|4887900415183|obrien-davies.biz| 999862| 592320| 14.115.162.182| 75.140.101.114|  Wales|    0.56|       HTTP|Mozilla/5.0 (Wind...|   Linux|   2|\n",
      "|2023-10-01 17:21:28|1006503238036|evans-clarke.info| 999847| 256124|  67.147.205.26| 174.149.86.105|  Wales|    1.18|      HTTPS|Mozilla/5.0 (Wind...| Windows|   3|\n",
      "|2023-10-04 19:43:01|5693808975373|        moore.com| 999795| 164739| 87.246.198.215|   155.95.71.18|  Wales|    2.27|       HTTP|Opera/8.67.(X11; ...| Android|   4|\n",
      "|2023-10-02 18:33:41|5055662748737|     woodward.biz| 999774| 256933|118.209.136.212| 167.230.244.79|  Wales|    0.62|      HTTPS|Mozilla/5.0 (iPod...|   Linux|   5|\n",
      "|2023-10-04 03:03:35|6018090253293|        smith.com| 999731| 253840|   30.23.194.87| 144.81.198.104|  Wales|    0.77|      HTTPS|Mozilla/5.0 (Andr...|     Mac|   6|\n",
      "|2023-10-05 23:39:56|8858077846640| brooks-smith.biz| 999709|  49322|    186.1.65.79| 216.89.233.226|  Wales|    0.03|       HTTP|Mozilla/5.0 (Wind...|     Mac|   7|\n",
      "|2023-10-01 13:16:11|8119931903100|        payne.com| 999656| 135282|  199.87.144.27| 103.127.200.45|  Wales|    0.68|      HTTPS|Opera/8.89.(Windo...|   Linux|   8|\n",
      "|2023-10-01 00:45:34|8897406817755|  king-wright.net| 999492| 380118| 164.194.156.14|   123.66.74.36|  Wales|    0.01|      HTTPS|Mozilla/5.0 (Maci...|   Linux|   9|\n",
      "|2023-10-03 02:16:12|0952129850008|davies-akhtar.com| 999484| 254097|   37.108.90.32| 194.123.54.143|  Wales|    2.58|       HTTP|Opera/9.31.(X11; ...|     Mac|  10|\n",
      "|2023-10-02 21:45:08|3702122568697|       barton.net| 999482| 822537|  152.77.21.201| 116.161.42.152|  Wales|    1.54|       HTTP|Mozilla/5.0 (comp...| Windows|  11|\n",
      "|2023-10-05 07:56:06|2546924648238|     sharpe.co.uk| 999445| 532171| 189.86.205.198|100.244.104.134|  Wales|    2.67|      HTTPS|Mozilla/5.0 (Maci...|     Mac|  12|\n",
      "|2023-10-02 09:15:55|3412393909796|  horton-ross.com| 999345| 707231| 217.104.132.42| 43.252.199.105|  Wales|    0.25|       HTTP|Mozilla/5.0 (Wind...| Android|  13|\n",
      "|2023-10-02 00:19:07|8134013620902|        white.net| 999335| 368264|   67.89.10.113| 138.128.170.70|  Wales|    1.06|      HTTPS|Mozilla/5.0 (Maci...|   Linux|  14|\n",
      "|2023-10-04 19:07:04|7372079402786|       martin.org| 999208| 770663|  84.44.240.104|150.188.227.205|  Wales|    2.89|       HTTP|Mozilla/5.0 (iPod...| Android|  15|\n",
      "|2023-10-02 07:51:10|8211900257138|      osborne.net| 999193| 540960|   50.96.205.57|   7.225.117.44|  Wales|     0.3|      HTTPS|Mozilla/5.0 (Maci...|     Mac|  16|\n",
      "|2023-10-03 08:12:24|7448205880567|         lowe.com| 999162| 901986| 165.33.219.240| 195.116.172.39|  Wales|     1.0|       HTTP|Mozilla/5.0 (Maci...|     iOS|  17|\n",
      "|2023-10-03 16:54:48|4788641950158|  barton-ward.biz| 999098| 742954|   13.184.22.50| 114.66.221.204|  Wales|    2.84|      HTTPS|Mozilla/5.0 (Wind...|     Mac|  18|\n",
      "|2023-10-01 12:20:28|2586395558129|     williams.com| 999065| 625706| 161.216.97.113|141.167.207.248|  Wales|    2.65|      HTTPS|Mozilla/5.0 (Maci...| Android|  19|\n",
      "|2023-10-04 15:16:10|9891825676807|       watson.com| 999006| 565772|  77.197.43.174|    4.154.79.94|  Wales|    1.93|       HTTP|Mozilla/5.0 (iPho...|   Linux|  20|\n",
      "+-------------------+-------------+-----------------+-------+-------+---------------+---------------+-------+--------+-----------+--------------------+--------+----+\n",
      "only showing top 20 rows\n",
      "\n"
     ]
    }
   ],
   "source": [
    "df.withColumn(\"rank\", rank().over(window_spec)).show()"
   ]
  },
  {
   "cell_type": "code",
   "execution_count": 45,
   "metadata": {
    "executionInfo": {
     "elapsed": 2,
     "status": "ok",
     "timestamp": 1705214027395,
     "user": {
      "displayName": "Ivan Omazic (BionicleBear)",
      "userId": "18178661664072419302"
     },
     "user_tz": 480
    },
    "id": "iGwwLkubNhql"
   },
   "outputs": [],
   "source": [
    "window_spec = Window.partitionBy(\"country\").orderBy(\"date_time\")"
   ]
  },
  {
   "cell_type": "code",
   "execution_count": 46,
   "metadata": {
    "colab": {
     "base_uri": "https://localhost:8080/"
    },
    "executionInfo": {
     "elapsed": 2243,
     "status": "ok",
     "timestamp": 1705214029637,
     "user": {
      "displayName": "Ivan Omazic (BionicleBear)",
      "userId": "18178661664072419302"
     },
     "user_tz": 480
    },
    "id": "rPUaSgZxOepZ",
    "outputId": "235c76c5-daaf-4ca1-fa47-a1d99c451500"
   },
   "outputs": [
    {
     "name": "stdout",
     "output_type": "stream",
     "text": [
      "+-------------------+-------------+-------------------+-------+-------+---------------+---------------+-------+--------+-----------+--------------------+--------+----------+\n",
      "|          date_time|       userid|             domain|dlbytes|ulbytes|       clientip|       serverip|country|txn_time|http_method|          user_agent|platform|row_number|\n",
      "+-------------------+-------------+-------------------+-------+-------+---------------+---------------+-------+--------+-----------+--------------------+--------+----------+\n",
      "|2023-10-01 00:00:01|0434470039855|    pritchard.co.uk| 350605| 860883|  70.236.57.196| 33.243.179.115|  Wales|     0.4|       HTTP|Mozilla/5.0 (Maci...| Android|         1|\n",
      "|2023-10-01 00:01:15|5209250274907|          mason.com| 776949| 127553|    70.80.2.225| 210.37.227.198|  Wales|     0.7|      HTTPS|Mozilla/5.0 (Maci...|     iOS|         2|\n",
      "|2023-10-01 00:03:28|8395569790526|          hayes.com| 901828| 251710|114.185.183.112|  14.33.205.237|  Wales|    0.51|      HTTPS|Mozilla/5.0 (X11;...|   Linux|         3|\n",
      "|2023-10-01 00:04:36|0749005929294| horton-russell.net| 668268| 560040|216.121.180.252| 219.202.88.124|  Wales|    1.29|       HTTP|Opera/9.71.(Windo...| Android|         4|\n",
      "|2023-10-01 00:05:49|1717165922988|          cooke.com| 472646| 661390|  80.53.175.183| 74.191.246.234|  Wales|     0.5|      HTTPS|Mozilla/5.0 (Maci...|     iOS|         5|\n",
      "|2023-10-01 00:07:01|0547681341140|      dickinson.com| 905884| 694328|  168.240.47.96|212.215.101.172|  Wales|    0.56|      HTTPS|Mozilla/5.0 (comp...|     Mac|         6|\n",
      "|2023-10-01 00:07:21|6066852294988|           cook.net| 538267| 897596|   76.225.60.17|184.188.215.209|  Wales|     2.1|       HTTP|Opera/9.38.(Windo...|     Mac|         7|\n",
      "|2023-10-01 00:07:45|4977531272731|        wheeler.com|  69872| 788981| 118.63.173.252|163.192.247.117|  Wales|    1.07|       HTTP|Opera/8.85.(Windo...| Windows|         8|\n",
      "|2023-10-01 00:08:04|6764337702613|           hyde.com|  50913| 520643|   88.160.9.132| 140.213.57.233|  Wales|    0.55|      HTTPS|Mozilla/5.0 (iPad...|     iOS|         9|\n",
      "|2023-10-01 00:10:25|6760806727862|shepherd-clarke.com| 830295|  36852|  12.114.108.65|   23.156.210.8|  Wales|     0.8|      HTTPS|Opera/8.81.(X11; ...| Android|        10|\n",
      "|2023-10-01 00:10:42|3822215975541| robson-francis.com| 407990| 787647|208.169.102.149| 134.245.34.143|  Wales|    0.35|       HTTP|Mozilla/5.0 (iPad...|     iOS|        11|\n",
      "|2023-10-01 00:10:58|5582501494964|          hobbs.com| 416250| 554095| 28.245.152.110| 191.170.39.180|  Wales|    0.28|       HTTP|Mozilla/5.0 (Andr...|     iOS|        12|\n",
      "|2023-10-01 00:11:07|5197626748074|          jones.com| 550325| 316367|182.207.196.137| 180.171.43.179|  Wales|    2.75|       HTTP|Mozilla/5.0 (Maci...|     iOS|        13|\n",
      "|2023-10-01 00:11:37|7056671658375|           holt.net| 456089| 721915|  189.223.17.74|  41.68.122.115|  Wales|    2.36|      HTTPS|Mozilla/5.0 (comp...| Android|        14|\n",
      "|2023-10-01 00:12:01|6918975841523|        farrell.org| 877956| 478873| 138.249.43.147| 189.44.171.204|  Wales|    1.75|      HTTPS|Mozilla/5.0 (comp...| Windows|        15|\n",
      "|2023-10-01 00:12:22|9588320705122|   patel-harper.com| 637912| 162116|104.109.221.205|  93.203.118.50|  Wales|    0.96|       HTTP|Mozilla/5.0 (Maci...| Android|        16|\n",
      "|2023-10-01 00:12:49|1228971824720|         morgan.com| 727355|  71018|  87.47.219.140|187.253.185.186|  Wales|    1.05|      HTTPS|Mozilla/5.0 (Wind...|   Linux|        17|\n",
      "|2023-10-01 00:13:21|7094449248935|         morris.org| 214821| 540270| 49.254.131.160|  187.40.179.77|  Wales|    0.45|      HTTPS|Mozilla/5.0 (Andr...|   Linux|        18|\n",
      "|2023-10-01 00:14:09|8163938572651|         warren.com| 796066| 322291| 102.50.161.131|    84.13.98.74|  Wales|    1.17|       HTTP|Mozilla/5.0 (Linu...| Android|        19|\n",
      "|2023-10-01 00:14:59|2649684800411|    wilson-reid.biz| 350470| 215884| 162.123.171.58|   21.71.41.214|  Wales|    0.75|      HTTPS|Mozilla/5.0 (Wind...|   Linux|        20|\n",
      "+-------------------+-------------+-------------------+-------+-------+---------------+---------------+-------+--------+-----------+--------------------+--------+----------+\n",
      "only showing top 20 rows\n",
      "\n"
     ]
    }
   ],
   "source": [
    "df.withColumn(\"row_number\", row_number().over(window_spec)).show()"
   ]
  },
  {
   "cell_type": "code",
   "execution_count": 47,
   "metadata": {
    "executionInfo": {
     "elapsed": 1,
     "status": "ok",
     "timestamp": 1705214029637,
     "user": {
      "displayName": "Ivan Omazic (BionicleBear)",
      "userId": "18178661664072419302"
     },
     "user_tz": 480
    },
    "id": "sD41Vb7OOn7p"
   },
   "outputs": [],
   "source": [
    "window_spec = Window.partitionBy().orderBy(\"date_time\")"
   ]
  },
  {
   "cell_type": "code",
   "execution_count": 48,
   "metadata": {
    "colab": {
     "base_uri": "https://localhost:8080/"
    },
    "executionInfo": {
     "elapsed": 3944,
     "status": "ok",
     "timestamp": 1705214033580,
     "user": {
      "displayName": "Ivan Omazic (BionicleBear)",
      "userId": "18178661664072419302"
     },
     "user_tz": 480
    },
    "id": "-2_I_pERPeFf",
    "outputId": "f4586005-6e7c-42e6-ae8b-f81b08016710"
   },
   "outputs": [
    {
     "name": "stdout",
     "output_type": "stream",
     "text": [
      "+-------------------+-------------+--------------------+-------+-------+---------------+--------------+--------+--------+-----------+--------------------+--------+----------+\n",
      "|          date_time|       userid|              domain|dlbytes|ulbytes|       clientip|      serverip| country|txn_time|http_method|          user_agent|platform|next_bytes|\n",
      "+-------------------+-------------+--------------------+-------+-------+---------------+--------------+--------+--------+-----------+--------------------+--------+----------+\n",
      "|2023-10-01 00:00:01|0434470039855|     pritchard.co.uk| 350605| 860883|  70.236.57.196|33.243.179.115|   Wales|     0.4|       HTTP|Mozilla/5.0 (Maci...| Android|     60865|\n",
      "|2023-10-01 00:00:01|6242602789270|      ellis-hale.com|  60865| 378320|    65.219.1.13|     2.4.27.23| Ireland|    1.89|      HTTPS|Opera/9.61.(X11; ...|   Linux|    523144|\n",
      "|2023-10-01 00:00:26|0013344619567|          rogers.com| 523144| 629889|   81.57.118.57|181.88.216.240| Ireland|    2.08|       HTTP|Mozilla/5.0 (iPod...|   Linux|    453615|\n",
      "|2023-10-01 00:00:33|1257097244953|        sinclair.com| 453615| 101344|    21.7.230.27| 96.228.72.187| England|    2.81|       HTTP|Mozilla/5.0 (Maci...|     Mac|    385154|\n",
      "|2023-10-01 00:00:39|2742638991362|roberts-mitchell.com| 385154| 852843|  22.109.67.174| 153.29.23.221|Scotland|    2.15|       HTTP|Mozilla/5.0 (X11;...|   Linux|    825479|\n",
      "|2023-10-01 00:00:43|9362066668508|           duffy.biz| 825479| 779228|  88.121.104.58| 69.180.131.65| England|    2.29|       HTTP|Mozilla/5.0 (Andr...|   Linux|    947893|\n",
      "|2023-10-01 00:00:56|5679480964263|          cooper.com| 947893| 519038|    41.64.61.18| 160.38.86.197| Ireland|    2.84|      HTTPS|Mozilla/5.0 (iPad...|     iOS|     51447|\n",
      "|2023-10-01 00:01:08|3749660422880|        harrison.com|  51447| 336481|123.253.193.228|  92.116.51.79| Ireland|    1.66|       HTTP|Mozilla/5.0 (iPod...| Android|    776949|\n",
      "|2023-10-01 00:01:15|5209250274907|           mason.com| 776949| 127553|    70.80.2.225|210.37.227.198|   Wales|     0.7|      HTTPS|Mozilla/5.0 (Maci...|     iOS|     21886|\n",
      "|2023-10-01 00:01:17|6797261423662|richardson-bowen....|  21886| 435152| 172.76.147.223|  65.1.145.166|Scotland|    2.44|      HTTPS|Opera/8.97.(Windo...| Windows|    152527|\n",
      "|2023-10-01 00:01:19|4085137405483|         vincent.com| 152527| 312663| 144.49.239.213| 211.194.209.0| Ireland|    0.33|       HTTP|Mozilla/5.0 (Andr...|     iOS|    925857|\n",
      "|2023-10-01 00:01:20|4554900892058|          curtis.com| 925857| 275959|   86.70.141.37| 42.96.204.147| Ireland|    0.49|      HTTPS|Mozilla/5.0 (Maci...|   Linux|    402757|\n",
      "|2023-10-01 00:01:21|1755376690978|         wallace.com| 402757| 855570|  197.67.169.28|64.213.189.106| England|    2.41|       HTTP|Mozilla/5.0 (Maci...|     Mac|    445074|\n",
      "|2023-10-01 00:01:34|1523305341172|           davis.net| 445074| 371297|  178.190.76.69| 133.198.18.62| Ireland|    2.46|       HTTP|Mozilla/5.0 (Linu...| Android|    734903|\n",
      "|2023-10-01 00:01:37|9878359479448|           perry.com| 734903| 775594|173.157.178.162|102.46.153.239| Ireland|    2.57|      HTTPS|Mozilla/5.0 (Maci...|   Linux|    510253|\n",
      "|2023-10-01 00:01:44|9830450536357|          rhodes.com| 510253| 902701|  97.163.41.144| 195.83.237.71| Ireland|    2.54|      HTTPS|Mozilla/5.0 (Wind...| Android|    435012|\n",
      "|2023-10-01 00:02:11|6472245926553|            hall.com| 435012| 268114|    124.63.11.0| 215.41.192.12|Scotland|    0.47|      HTTPS|Opera/8.26.(Windo...| Android|    410156|\n",
      "|2023-10-01 00:02:17|1758409874341|         johnson.com| 410156| 761466| 17.254.182.158| 14.249.221.52|Scotland|    1.16|      HTTPS|Mozilla/5.0 (X11;...| Android|    820691|\n",
      "|2023-10-01 00:02:24|8219719926342| williams-burton.com| 820691| 879382|   19.41.220.17| 177.90.98.151| England|    2.59|       HTTP|Mozilla/5.0 (comp...| Android|    410508|\n",
      "|2023-10-01 00:02:32|8415811526281|           jones.biz| 410508| 628565|  134.240.27.64| 213.10.85.212| Ireland|     1.6|      HTTPS|Mozilla/5.0 (comp...|     iOS|    860420|\n",
      "+-------------------+-------------+--------------------+-------+-------+---------------+--------------+--------+--------+-----------+--------------------+--------+----------+\n",
      "only showing top 20 rows\n",
      "\n"
     ]
    }
   ],
   "source": [
    "df.withColumn(\"next_bytes\", lead(\"dlbytes\").over(window_spec)).show()"
   ]
  },
  {
   "cell_type": "code",
   "execution_count": 49,
   "metadata": {
    "executionInfo": {
     "elapsed": 7,
     "status": "ok",
     "timestamp": 1705214033580,
     "user": {
      "displayName": "Ivan Omazic (BionicleBear)",
      "userId": "18178661664072419302"
     },
     "user_tz": 480
    },
    "id": "5QCBxkuwPnfj"
   },
   "outputs": [],
   "source": [
    "window_spec = Window.partitionBy(\"userid\")"
   ]
  },
  {
   "cell_type": "code",
   "execution_count": 50,
   "metadata": {
    "colab": {
     "base_uri": "https://localhost:8080/"
    },
    "executionInfo": {
     "elapsed": 2712,
     "status": "ok",
     "timestamp": 1705214036285,
     "user": {
      "displayName": "Ivan Omazic (BionicleBear)",
      "userId": "18178661664072419302"
     },
     "user_tz": 480
    },
    "id": "ZPIW6g9gQha6",
    "outputId": "3052c9cd-62d0-48e9-cfd9-9d47ad18d21e"
   },
   "outputs": [
    {
     "name": "stdout",
     "output_type": "stream",
     "text": [
      "+-------------------+-------------+-------------------+-------+-------+---------------+--------------+--------+--------+-----------+--------------------+--------+-----------+\n",
      "|          date_time|       userid|             domain|dlbytes|ulbytes|       clientip|      serverip| country|txn_time|http_method|          user_agent|platform|sumfunction|\n",
      "+-------------------+-------------+-------------------+-------+-------+---------------+--------------+--------+--------+-----------+--------------------+--------+-----------+\n",
      "|2023-10-01 11:05:24|0004910615244|         robson.org| 756778| 236550| 35.242.245.157| 85.188.139.63|Scotland|    0.83|      HTTPS|Opera/9.66.(Windo...|     iOS|     756778|\n",
      "|2023-10-02 18:02:00|0007469702985|          smith.biz| 988049| 116727|  86.195.34.204|153.106.210.57| Ireland|    1.18|       HTTP|Mozilla/5.0 (comp...|   Linux|     988049|\n",
      "|2023-10-05 16:34:30|0009633130876|davies-phillips.com| 546244| 819216|   37.140.78.51|    40.4.95.67|Scotland|    0.31|      HTTPS|Opera/8.85.(X11; ...|     Mac|     546244|\n",
      "|2023-10-02 09:45:20|0012930422298|   rees-banks.co.uk| 367563| 261045|  171.30.238.90| 116.247.247.4|   Wales|    1.58|      HTTPS|Mozilla/5.0 (iPod...| Android|     367563|\n",
      "|2023-10-05 02:49:31|0012989976074|           ryan.com| 186727| 285270|  97.61.198.125| 35.115.52.150| England|    1.09|      HTTPS|Opera/8.32.(X11; ...| Windows|     186727|\n",
      "|2023-10-03 04:39:45|0017256894984|     stephenson.com| 569508| 694193|  138.135.49.78|  31.66.186.60| England|    2.71|      HTTPS|Opera/9.57.(X11; ...| Windows|     569508|\n",
      "|2023-10-02 09:58:03|0021965045228|          singh.com| 666113| 758342| 183.157.35.221| 15.102.89.121|   Wales|    0.01|       HTTP|Mozilla/5.0 (Maci...| Windows|     666113|\n",
      "|2023-10-05 19:55:15|0024041687755|       williams.biz| 889239|  88760|  191.83.61.197| 172.21.44.190|   Wales|    0.77|      HTTPS|Mozilla/5.0 (Maci...|     Mac|     889239|\n",
      "|2023-10-02 08:19:43|0025484554969|  barnett-singh.com| 228620| 295478|  12.80.235.224|  20.62.31.155|Scotland|    1.43|      HTTPS|Mozilla/5.0 (iPho...| Windows|     228620|\n",
      "|2023-10-05 12:30:25|0025889674784|          kelly.com| 529849|  88942|158.209.218.154| 96.225.195.89| Ireland|    2.21|      HTTPS|Opera/8.81.(Windo...|     iOS|     529849|\n",
      "|2023-10-05 12:27:40|0031114146803|          field.com| 440625| 234036|  55.125.35.253|129.250.133.98| England|    2.82|      HTTPS|Mozilla/5.0 (iPho...|     iOS|     440625|\n",
      "|2023-10-05 10:43:38|0036507369284|   cameron-cole.com| 854978| 439845| 222.23.206.248|54.239.130.107|   Wales|     2.4|      HTTPS|Mozilla/5.0 (Wind...|     iOS|     854978|\n",
      "|2023-10-03 10:18:55|0040725515529|    richardson.info| 993629| 811829|   53.204.53.11|174.157.32.151| England|     0.2|       HTTP|Mozilla/5.0 (X11;...|     iOS|     993629|\n",
      "|2023-10-01 05:28:01|0041663944115|   allen-parkes.com| 132221| 386620|   88.3.170.178|220.145.56.244| Ireland|    2.82|       HTTP|Mozilla/5.0 (comp...|     iOS|     132221|\n",
      "|2023-10-03 13:15:55|0043380513253|  baldwin-smith.net| 263112| 406907|  40.56.141.148|74.124.132.122| Ireland|    1.96|       HTTP|Opera/9.64.(Windo...| Android|     263112|\n",
      "|2023-10-05 06:11:30|0048475824782|        spencer.biz| 136059| 521915|   2.144.125.59| 60.46.106.164| Ireland|    2.56|      HTTPS|Mozilla/5.0 (Wind...| Windows|     136059|\n",
      "|2023-10-04 15:37:21|0051250090454|          cross.com|  33170| 479426|  21.249.59.139|166.61.101.165| England|    2.42|      HTTPS|Mozilla/5.0 (iPad...|     iOS|      33170|\n",
      "|2023-10-01 03:15:11|0056658573255|       knowles.info| 757486| 162988|106.231.222.148|  141.88.54.38| England|    1.54|      HTTPS|Mozilla/5.0 (comp...|     Mac|     757486|\n",
      "|2023-10-01 08:28:05|0061740797901|         graham.com|  27639| 791490|  65.124.225.50|  17.225.12.76|   Wales|     1.1|       HTTP|Opera/8.82.(Windo...| Android|      27639|\n",
      "|2023-10-03 02:01:19|0062525464248|         davies.biz| 517197| 259999|  104.59.89.242| 91.206.142.81|Scotland|    0.86|       HTTP|Mozilla/5.0 (Wind...|     iOS|     517197|\n",
      "+-------------------+-------------+-------------------+-------+-------+---------------+--------------+--------+--------+-----------+--------------------+--------+-----------+\n",
      "only showing top 20 rows\n",
      "\n"
     ]
    }
   ],
   "source": [
    "df.withColumn(\"sumfunction\", sum(\"dlbytes\").over(window_spec)).show()"
   ]
  },
  {
   "cell_type": "code",
   "execution_count": 51,
   "metadata": {
    "executionInfo": {
     "elapsed": 7,
     "status": "ok",
     "timestamp": 1705214036285,
     "user": {
      "displayName": "Ivan Omazic (BionicleBear)",
      "userId": "18178661664072419302"
     },
     "user_tz": 480
    },
    "id": "MmIzUsBxQqE5"
   },
   "outputs": [],
   "source": [
    "window_spec = Window.partitionBy(\"domain\")"
   ]
  },
  {
   "cell_type": "code",
   "execution_count": 52,
   "metadata": {
    "id": "dDSkH3bFRiKf"
   },
   "outputs": [
    {
     "name": "stdout",
     "output_type": "stream",
     "text": [
      "+-------------------+-------------+--------------------+-------+-------+---------------+---------------+--------+--------+-----------+--------------------+--------+--------+\n",
      "|          date_time|       userid|              domain|dlbytes|ulbytes|       clientip|       serverip| country|txn_time|http_method|          user_agent|platform|avgbytes|\n",
      "+-------------------+-------------+--------------------+-------+-------+---------------+---------------+--------+--------+-----------+--------------------+--------+--------+\n",
      "|2023-10-02 08:20:20|2765945342037|     adams-ahmed.com| 616224| 768126| 10.161.122.159|   159.83.81.10| Ireland|     2.3|      HTTPS|Mozilla/5.0 (comp...|   Linux|616224.0|\n",
      "|2023-10-01 21:31:02|2826207025615|    adams-bell.co.uk| 435697| 834184|   65.7.157.224|  23.97.116.137| Ireland|    0.62|      HTTPS|Mozilla/5.0 (Wind...|   Linux|435697.0|\n",
      "|2023-10-03 07:40:05|0602650180307|  adams-crawford.org| 479062| 520187|   191.11.47.18|203.207.117.158| England|     2.8|      HTTPS|Opera/9.82.(X11; ...|     Mac|479062.0|\n",
      "|2023-10-03 12:31:47|3238665726626|   adams-harding.com| 474109| 925181| 17.241.245.116|  75.184.220.53| Ireland|    1.15|       HTTP|Mozilla/5.0 (comp...| Android|474109.0|\n",
      "|2023-10-05 06:30:50|6998023865123|adams-hargreaves.biz| 349589| 649154| 49.104.172.101| 22.189.101.108|   Wales|    0.83|       HTTP|Opera/9.69.(X11; ...|     iOS|349589.0|\n",
      "|2023-10-02 13:58:58|7615838967472|    adams-talbot.org| 996023| 196039|   83.227.84.18|  189.198.40.40| England|    0.16|      HTTPS|Mozilla/5.0 (Wind...| Android|996023.0|\n",
      "|2023-10-05 02:45:36|2297559380380|     adams-young.com| 720299| 789663| 210.156.194.10|  191.77.201.22|Scotland|    0.14|       HTTP|Mozilla/5.0 (iPod...|     iOS|720299.0|\n",
      "|2023-10-04 21:12:57|2475654750978|   ahmed-farrell.com| 440099| 487439|   206.113.25.1| 217.209.213.76|Scotland|    0.57|      HTTPS|Opera/8.13.(Windo...| Windows|440099.0|\n",
      "|2023-10-05 19:15:52|5547454428201|  ahmed-phillips.net| 148611| 913298|   82.62.86.186|  19.109.142.52|   Wales|    2.02|       HTTP|Mozilla/5.0 (iPho...|     Mac|148611.0|\n",
      "|2023-10-02 13:28:15|6495792755993|    akhtar-finch.biz| 137816|  20466|  109.5.108.240|  188.83.136.73| England|    1.22|       HTTP|Opera/9.92.(X11; ...| Android|137816.0|\n",
      "|2023-10-02 01:04:32|2728530834945| akhtar-thomas.co.uk| 711731| 980076| 116.21.224.233|  102.126.92.29|Scotland|    0.69|       HTTP|Mozilla/5.0 (iPod...|   Linux|711731.0|\n",
      "|2023-10-03 09:26:54|2214720769567| akhtar-williams.org| 387105| 396328|161.130.190.130|  22.117.149.48| Ireland|    1.46|       HTTP|Mozilla/5.0 (Maci...| Android|387105.0|\n",
      "|2023-10-05 19:55:06|9042854540165|          akhtar.net| 943063| 532306|  185.74.85.249|  138.4.150.249| Ireland|    1.28|       HTTP|Mozilla/5.0 (iPod...| Windows|949819.0|\n",
      "|2023-10-04 16:59:17|2015721343522|          akhtar.net| 974993| 962191|139.237.121.242|  38.167.130.51| England|    2.63|       HTTP|Mozilla/5.0 (comp...|     Mac|949819.0|\n",
      "|2023-10-02 05:22:39|6696887723636|          akhtar.net| 897954| 450142|  170.36.185.63|218.195.159.246| Ireland|     1.2|       HTTP|Mozilla/5.0 (Wind...|     Mac|949819.0|\n",
      "|2023-10-04 07:18:42|7004918130638|          akhtar.net| 983266| 617138|     98.2.79.48| 117.172.163.90|   Wales|    2.25|      HTTPS|Mozilla/5.0 (X11;...|     iOS|949819.0|\n",
      "|2023-10-03 09:40:06|1406647690174|alexander-edwards...| 188054| 799985|141.184.165.246|114.229.101.255| England|    0.23|      HTTPS|Mozilla/5.0 (Linu...|   Linux|188054.0|\n",
      "|2023-10-03 07:39:48|2722477779179|       alexander.net| 890738| 185255| 143.81.240.199|  5.144.163.207|   Wales|    0.62|       HTTP|Mozilla/5.0 (comp...|   Linux|600675.4|\n",
      "|2023-10-01 14:20:41|1881958741485|       alexander.net| 473768| 502317| 100.139.125.54| 185.32.127.197|   Wales|     0.5|      HTTPS|Opera/8.97.(Windo...| Android|600675.4|\n",
      "|2023-10-01 16:28:53|2397216184415|       alexander.net| 359536| 827431|  61.224.123.23|    24.89.90.26|   Wales|    1.77|       HTTP|Mozilla/5.0 (Maci...|     iOS|600675.4|\n",
      "+-------------------+-------------+--------------------+-------+-------+---------------+---------------+--------+--------+-----------+--------------------+--------+--------+\n",
      "only showing top 20 rows\n",
      "\n"
     ]
    }
   ],
   "source": [
    "df.withColumn(\"avgbytes\", avg(\"dlbytes\").over(window_spec)).show()"
   ]
  },
  {
   "cell_type": "code",
   "execution_count": 53,
   "metadata": {
    "id": "d0u1k3KyR_Pq"
   },
   "outputs": [
    {
     "name": "stdout",
     "output_type": "stream",
     "text": [
      "+-------------------+-------------+-------------------+-------+-------+---------------+---------------+--------+--------+-----------+--------------------+--------+\n",
      "|          date_time|       userid|             domain|dlbytes|ulbytes|       clientip|       serverip| country|txn_time|http_method|          user_agent|platform|\n",
      "+-------------------+-------------+-------------------+-------+-------+---------------+---------------+--------+--------+-----------+--------------------+--------+\n",
      "|2023-10-01 11:05:24|0004910615244|         robson.org| 756778| 236550| 35.242.245.157|  85.188.139.63|Scotland|    0.83|      HTTPS|Opera/9.66.(Windo...|     iOS|\n",
      "|2023-10-02 18:02:00|0007469702985|          smith.biz| 988049| 116727|  86.195.34.204| 153.106.210.57| Ireland|    1.18|       HTTP|Mozilla/5.0 (comp...|   Linux|\n",
      "|2023-10-05 16:34:30|0009633130876|davies-phillips.com| 546244| 819216|   37.140.78.51|     40.4.95.67|Scotland|    0.31|      HTTPS|Opera/8.85.(X11; ...|     Mac|\n",
      "|2023-10-05 02:49:31|0012989976074|           ryan.com| 186727| 285270|  97.61.198.125|  35.115.52.150| England|    1.09|      HTTPS|Opera/8.32.(X11; ...| Windows|\n",
      "|2023-10-03 04:39:45|0017256894984|     stephenson.com| 569508| 694193|  138.135.49.78|   31.66.186.60| England|    2.71|      HTTPS|Opera/9.57.(X11; ...| Windows|\n",
      "|2023-10-02 08:19:43|0025484554969|  barnett-singh.com| 228620| 295478|  12.80.235.224|   20.62.31.155|Scotland|    1.43|      HTTPS|Mozilla/5.0 (iPho...| Windows|\n",
      "|2023-10-05 12:30:25|0025889674784|          kelly.com| 529849|  88942|158.209.218.154|  96.225.195.89| Ireland|    2.21|      HTTPS|Opera/8.81.(Windo...|     iOS|\n",
      "|2023-10-05 12:27:40|0031114146803|          field.com| 440625| 234036|  55.125.35.253| 129.250.133.98| England|    2.82|      HTTPS|Mozilla/5.0 (iPho...|     iOS|\n",
      "|2023-10-03 10:18:55|0040725515529|    richardson.info| 993629| 811829|   53.204.53.11| 174.157.32.151| England|     0.2|       HTTP|Mozilla/5.0 (X11;...|     iOS|\n",
      "|2023-10-01 05:28:01|0041663944115|   allen-parkes.com| 132221| 386620|   88.3.170.178| 220.145.56.244| Ireland|    2.82|       HTTP|Mozilla/5.0 (comp...|     iOS|\n",
      "|2023-10-03 13:15:55|0043380513253|  baldwin-smith.net| 263112| 406907|  40.56.141.148| 74.124.132.122| Ireland|    1.96|       HTTP|Opera/9.64.(Windo...| Android|\n",
      "|2023-10-05 06:11:30|0048475824782|        spencer.biz| 136059| 521915|   2.144.125.59|  60.46.106.164| Ireland|    2.56|      HTTPS|Mozilla/5.0 (Wind...| Windows|\n",
      "|2023-10-04 15:37:21|0051250090454|          cross.com|  33170| 479426|  21.249.59.139| 166.61.101.165| England|    2.42|      HTTPS|Mozilla/5.0 (iPad...|     iOS|\n",
      "|2023-10-01 03:15:11|0056658573255|       knowles.info| 757486| 162988|106.231.222.148|   141.88.54.38| England|    1.54|      HTTPS|Mozilla/5.0 (comp...|     Mac|\n",
      "|2023-10-03 02:01:19|0062525464248|         davies.biz| 517197| 259999|  104.59.89.242|  91.206.142.81|Scotland|    0.86|       HTTP|Mozilla/5.0 (Wind...|     iOS|\n",
      "|2023-10-01 10:23:56|0063409425428|          carr.info| 380785|  35249| 152.113.62.126|    72.235.29.9| Ireland|    0.51|      HTTPS|Opera/9.56.(Windo...|   Linux|\n",
      "|2023-10-01 10:26:36|0064195727968|  gibbons-sharp.com| 565950| 297534|112.194.121.174|   84.188.81.54|Scotland|    0.18|      HTTPS|Mozilla/5.0 (iPod...|   Linux|\n",
      "|2023-10-04 11:48:29|0072617465463|carey-patterson.com| 198229| 477063| 190.217.139.28| 59.112.112.109|Scotland|    0.97|       HTTP|Mozilla/5.0 (Maci...|     Mac|\n",
      "|2023-10-03 22:26:52|0082297742139|         dobson.com|  28869| 667721|176.126.205.123|  123.15.100.19|Scotland|    2.14|      HTTPS|Mozilla/5.0 (iPho...|     iOS|\n",
      "|2023-10-04 08:16:46|0083118227639|           dunn.com| 413736| 728667| 160.197.37.109|212.165.149.197| Ireland|    0.48|      HTTPS|Mozilla/5.0 (Wind...|   Linux|\n",
      "+-------------------+-------------+-------------------+-------+-------+---------------+---------------+--------+--------+-----------+--------------------+--------+\n",
      "only showing top 20 rows\n",
      "\n"
     ]
    }
   ],
   "source": [
    "df.filter(   ~(df[\"country\"] == 'Wales')   & ~(df[\"domain\"] == \"hopkins.org\")  ).show()"
   ]
  },
  {
   "cell_type": "code",
   "execution_count": 54,
   "metadata": {
    "id": "Kbr6DBQypwI1"
   },
   "outputs": [
    {
     "name": "stdout",
     "output_type": "stream",
     "text": [
      "+-------------------+-------------+-------------------+-------+-------+---------------+---------------+--------+--------+-----------+--------------------+--------+\n",
      "|          date_time|       userid|             domain|dlbytes|ulbytes|       clientip|       serverip| country|txn_time|http_method|          user_agent|platform|\n",
      "+-------------------+-------------+-------------------+-------+-------+---------------+---------------+--------+--------+-----------+--------------------+--------+\n",
      "|2023-10-01 11:05:24|0004910615244|         robson.org| 756778| 236550| 35.242.245.157|  85.188.139.63|Scotland|    0.83|      HTTPS|Opera/9.66.(Windo...|     iOS|\n",
      "|2023-10-05 16:34:30|0009633130876|davies-phillips.com| 546244| 819216|   37.140.78.51|     40.4.95.67|Scotland|    0.31|      HTTPS|Opera/8.85.(X11; ...|     Mac|\n",
      "|2023-10-05 02:49:31|0012989976074|           ryan.com| 186727| 285270|  97.61.198.125|  35.115.52.150| England|    1.09|      HTTPS|Opera/8.32.(X11; ...| Windows|\n",
      "|2023-10-03 04:39:45|0017256894984|     stephenson.com| 569508| 694193|  138.135.49.78|   31.66.186.60| England|    2.71|      HTTPS|Opera/9.57.(X11; ...| Windows|\n",
      "|2023-10-02 08:19:43|0025484554969|  barnett-singh.com| 228620| 295478|  12.80.235.224|   20.62.31.155|Scotland|    1.43|      HTTPS|Mozilla/5.0 (iPho...| Windows|\n",
      "|2023-10-05 12:27:40|0031114146803|          field.com| 440625| 234036|  55.125.35.253| 129.250.133.98| England|    2.82|      HTTPS|Mozilla/5.0 (iPho...|     iOS|\n",
      "|2023-10-03 10:18:55|0040725515529|    richardson.info| 993629| 811829|   53.204.53.11| 174.157.32.151| England|     0.2|       HTTP|Mozilla/5.0 (X11;...|     iOS|\n",
      "|2023-10-04 15:37:21|0051250090454|          cross.com|  33170| 479426|  21.249.59.139| 166.61.101.165| England|    2.42|      HTTPS|Mozilla/5.0 (iPad...|     iOS|\n",
      "|2023-10-01 03:15:11|0056658573255|       knowles.info| 757486| 162988|106.231.222.148|   141.88.54.38| England|    1.54|      HTTPS|Mozilla/5.0 (comp...|     Mac|\n",
      "|2023-10-03 02:01:19|0062525464248|         davies.biz| 517197| 259999|  104.59.89.242|  91.206.142.81|Scotland|    0.86|       HTTP|Mozilla/5.0 (Wind...|     iOS|\n",
      "|2023-10-01 10:26:36|0064195727968|  gibbons-sharp.com| 565950| 297534|112.194.121.174|   84.188.81.54|Scotland|    0.18|      HTTPS|Mozilla/5.0 (iPod...|   Linux|\n",
      "|2023-10-04 11:48:29|0072617465463|carey-patterson.com| 198229| 477063| 190.217.139.28| 59.112.112.109|Scotland|    0.97|       HTTP|Mozilla/5.0 (Maci...|     Mac|\n",
      "|2023-10-03 22:26:52|0082297742139|         dobson.com|  28869| 667721|176.126.205.123|  123.15.100.19|Scotland|    2.14|      HTTPS|Mozilla/5.0 (iPho...|     iOS|\n",
      "|2023-10-02 14:25:54|0083334956874|       williams.com|  40482|  50894| 13.178.174.125|  160.68.64.116| England|    0.05|       HTTP|Opera/9.99.(Windo...|     Mac|\n",
      "|2023-10-01 16:25:51|0085535772733|         hall.co.uk| 444290| 961531| 117.51.207.243|   86.93.77.185| England|    2.39|      HTTPS|Mozilla/5.0 (Maci...|     iOS|\n",
      "|2023-10-05 16:36:49|0100063935894|        stevens.com|  97195| 155557| 219.174.63.205|  210.63.130.27|Scotland|    1.05|       HTTP|Mozilla/5.0 (comp...|     Mac|\n",
      "|2023-10-02 05:19:21|0111692713786|         hughes.com| 852441| 286534|    74.44.33.76|  156.210.3.210| England|    0.99|      HTTPS|Mozilla/5.0 (Wind...|     iOS|\n",
      "|2023-10-03 12:13:34|0120575435511|    evans-wells.com| 620643| 401217|  136.74.122.93|  140.81.180.76|Scotland|    0.34|       HTTP|Mozilla/5.0 (X11;...|   Linux|\n",
      "|2023-10-03 01:33:31|0122535842647|   jarvis-adams.org| 422229| 650391| 137.158.104.35|181.162.146.232| England|    2.64|      HTTPS|Mozilla/5.0 (Wind...|   Linux|\n",
      "|2023-10-03 16:19:10|0133655322728|       andrews.info| 792191| 756061| 212.122.45.194|  27.66.215.101| England|    2.79|       HTTP|Mozilla/5.0 (comp...| Android|\n",
      "+-------------------+-------------+-------------------+-------+-------+---------------+---------------+--------+--------+-----------+--------------------+--------+\n",
      "only showing top 20 rows\n",
      "\n"
     ]
    }
   ],
   "source": [
    "countries = [\"England\", \"Scotland\"]\n",
    "\n",
    "df.filter(df[\"country\"].isin(countries)).show()"
   ]
  },
  {
   "cell_type": "code",
   "execution_count": 55,
   "metadata": {},
   "outputs": [
    {
     "name": "stdout",
     "output_type": "stream",
     "text": [
      "+-------------------+-------------+-------------------+-------+-------+---------------+--------------+--------+--------+-----------+--------------------+--------+\n",
      "|          date_time|       userid|             domain|dlbytes|ulbytes|       clientip|      serverip| country|txn_time|http_method|          user_agent|platform|\n",
      "+-------------------+-------------+-------------------+-------+-------+---------------+--------------+--------+--------+-----------+--------------------+--------+\n",
      "|2023-10-01 11:05:24|0004910615244|         robson.org| 756778| 236550| 35.242.245.157| 85.188.139.63|Scotland|    0.83|      HTTPS|Opera/9.66.(Windo...|     iOS|\n",
      "|2023-10-05 16:34:30|0009633130876|davies-phillips.com| 546244| 819216|   37.140.78.51|    40.4.95.67|Scotland|    0.31|      HTTPS|Opera/8.85.(X11; ...|     Mac|\n",
      "|2023-10-02 08:19:43|0025484554969|  barnett-singh.com| 228620| 295478|  12.80.235.224|  20.62.31.155|Scotland|    1.43|      HTTPS|Mozilla/5.0 (iPho...| Windows|\n",
      "|2023-10-03 02:01:19|0062525464248|         davies.biz| 517197| 259999|  104.59.89.242| 91.206.142.81|Scotland|    0.86|       HTTP|Mozilla/5.0 (Wind...|     iOS|\n",
      "|2023-10-01 10:26:36|0064195727968|  gibbons-sharp.com| 565950| 297534|112.194.121.174|  84.188.81.54|Scotland|    0.18|      HTTPS|Mozilla/5.0 (iPod...|   Linux|\n",
      "|2023-10-04 11:48:29|0072617465463|carey-patterson.com| 198229| 477063| 190.217.139.28|59.112.112.109|Scotland|    0.97|       HTTP|Mozilla/5.0 (Maci...|     Mac|\n",
      "|2023-10-03 22:26:52|0082297742139|         dobson.com|  28869| 667721|176.126.205.123| 123.15.100.19|Scotland|    2.14|      HTTPS|Mozilla/5.0 (iPho...|     iOS|\n",
      "|2023-10-05 16:36:49|0100063935894|        stevens.com|  97195| 155557| 219.174.63.205| 210.63.130.27|Scotland|    1.05|       HTTP|Mozilla/5.0 (comp...|     Mac|\n",
      "|2023-10-03 12:13:34|0120575435511|    evans-wells.com| 620643| 401217|  136.74.122.93| 140.81.180.76|Scotland|    0.34|       HTTP|Mozilla/5.0 (X11;...|   Linux|\n",
      "|2023-10-05 13:20:40|0141941706146| spencer-butler.com| 147064| 208252|  113.42.79.244| 69.155.187.54|Scotland|    1.26|      HTTPS|Mozilla/5.0 (iPod...| Windows|\n",
      "|2023-10-02 14:37:49|0142314404736|        vincent.net| 178828| 649191|  54.100.15.164| 212.102.32.44|Scotland|    1.78|       HTTP|Mozilla/5.0 (Wind...| Android|\n",
      "|2023-10-02 06:35:43|0154603546029|        clayton.net|  78835| 849182| 159.94.100.233|    80.3.9.124|Scotland|    1.75|       HTTP|Mozilla/5.0 (Andr...|     Mac|\n",
      "|2023-10-04 06:43:26|0184265240831|   davies-brown.biz| 200270| 785648| 123.217.23.144| 49.219.11.192|Scotland|    0.11|       HTTP|Opera/8.33.(Windo...|   Linux|\n",
      "|2023-10-04 00:59:12|0196995600300|harris-spencer.info| 613619| 552407| 132.27.213.149|217.131.137.17|Scotland|    1.64|      HTTPS|Mozilla/5.0 (Maci...| Windows|\n",
      "|2023-10-05 11:51:36|0202349911157| grant-townsend.com| 817886| 560350|126.131.114.100|    5.30.143.5|Scotland|    2.26|      HTTPS|Opera/8.29.(Windo...|     iOS|\n",
      "|2023-10-05 16:30:48|0206109800059|        jones.co.uk| 260105| 327696|  64.163.100.60|   53.73.72.30|Scotland|     1.6|       HTTP|Mozilla/5.0 (comp...|   Linux|\n",
      "|2023-10-05 23:02:45|0220721147972|reynolds-fowler.com| 545362| 735046| 128.241.191.31| 26.249.162.98|Scotland|    1.54|      HTTPS|Mozilla/5.0 (Andr...|     iOS|\n",
      "|2023-10-04 04:43:06|0234347372202|   davies-mason.biz| 671245|   8762|176.162.203.125| 123.8.243.215|Scotland|    0.42|       HTTP|Mozilla/5.0 (comp...|     iOS|\n",
      "|2023-10-02 17:50:57|0235349813086|     cook-brown.net| 891658| 477091|    134.3.5.214| 112.222.87.47|Scotland|    1.38|       HTTP|Mozilla/5.0 (comp...| Windows|\n",
      "|2023-10-05 20:58:19|0253130567376|   gray-bennett.org| 313254| 971771|  54.50.196.189|  146.28.98.66|Scotland|    0.93|      HTTPS|Mozilla/5.0 (Maci...|     Mac|\n",
      "+-------------------+-------------+-------------------+-------+-------+---------------+--------------+--------+--------+-----------+--------------------+--------+\n",
      "only showing top 20 rows\n",
      "\n"
     ]
    }
   ],
   "source": [
    "df.filter(df[\"country\"].rlike(\"tland\")).show()"
   ]
  },
  {
   "cell_type": "code",
   "execution_count": 56,
   "metadata": {},
   "outputs": [],
   "source": [
    "from pyspark.sql.functions import udf"
   ]
  },
  {
   "cell_type": "code",
   "execution_count": 57,
   "metadata": {},
   "outputs": [],
   "source": [
    "from pyspark.sql.types import IntegerType"
   ]
  },
  {
   "cell_type": "code",
   "execution_count": 58,
   "metadata": {},
   "outputs": [
    {
     "name": "stdout",
     "output_type": "stream",
     "text": [
      "+-------------------+-------------+-------------------+-------+-------+---------------+--------------+--------+--------+-----------+--------------------+--------+-----------+\n",
      "|          date_time|       userid|             domain|dlbytes|ulbytes|       clientip|      serverip| country|txn_time|http_method|          user_agent|platform|total_bytes|\n",
      "+-------------------+-------------+-------------------+-------+-------+---------------+--------------+--------+--------+-----------+--------------------+--------+-----------+\n",
      "|2023-10-01 11:05:24|0004910615244|         robson.org| 756778| 236550| 35.242.245.157| 85.188.139.63|Scotland|    0.83|      HTTPS|Opera/9.66.(Windo...|     iOS|     993328|\n",
      "|2023-10-02 18:02:00|0007469702985|          smith.biz| 988049| 116727|  86.195.34.204|153.106.210.57| Ireland|    1.18|       HTTP|Mozilla/5.0 (comp...|   Linux|    1104776|\n",
      "|2023-10-05 16:34:30|0009633130876|davies-phillips.com| 546244| 819216|   37.140.78.51|    40.4.95.67|Scotland|    0.31|      HTTPS|Opera/8.85.(X11; ...|     Mac|    1365460|\n",
      "|2023-10-02 09:45:20|0012930422298|   rees-banks.co.uk| 367563| 261045|  171.30.238.90| 116.247.247.4|   Wales|    1.58|      HTTPS|Mozilla/5.0 (iPod...| Android|     628608|\n",
      "|2023-10-05 02:49:31|0012989976074|           ryan.com| 186727| 285270|  97.61.198.125| 35.115.52.150| England|    1.09|      HTTPS|Opera/8.32.(X11; ...| Windows|     471997|\n",
      "|2023-10-03 04:39:45|0017256894984|     stephenson.com| 569508| 694193|  138.135.49.78|  31.66.186.60| England|    2.71|      HTTPS|Opera/9.57.(X11; ...| Windows|    1263701|\n",
      "|2023-10-02 09:58:03|0021965045228|          singh.com| 666113| 758342| 183.157.35.221| 15.102.89.121|   Wales|    0.01|       HTTP|Mozilla/5.0 (Maci...| Windows|    1424455|\n",
      "|2023-10-05 19:55:15|0024041687755|       williams.biz| 889239|  88760|  191.83.61.197| 172.21.44.190|   Wales|    0.77|      HTTPS|Mozilla/5.0 (Maci...|     Mac|     977999|\n",
      "|2023-10-02 08:19:43|0025484554969|  barnett-singh.com| 228620| 295478|  12.80.235.224|  20.62.31.155|Scotland|    1.43|      HTTPS|Mozilla/5.0 (iPho...| Windows|     524098|\n",
      "|2023-10-05 12:30:25|0025889674784|          kelly.com| 529849|  88942|158.209.218.154| 96.225.195.89| Ireland|    2.21|      HTTPS|Opera/8.81.(Windo...|     iOS|     618791|\n",
      "|2023-10-05 12:27:40|0031114146803|          field.com| 440625| 234036|  55.125.35.253|129.250.133.98| England|    2.82|      HTTPS|Mozilla/5.0 (iPho...|     iOS|     674661|\n",
      "|2023-10-05 10:43:38|0036507369284|   cameron-cole.com| 854978| 439845| 222.23.206.248|54.239.130.107|   Wales|     2.4|      HTTPS|Mozilla/5.0 (Wind...|     iOS|    1294823|\n",
      "|2023-10-03 10:18:55|0040725515529|    richardson.info| 993629| 811829|   53.204.53.11|174.157.32.151| England|     0.2|       HTTP|Mozilla/5.0 (X11;...|     iOS|    1805458|\n",
      "|2023-10-01 05:28:01|0041663944115|   allen-parkes.com| 132221| 386620|   88.3.170.178|220.145.56.244| Ireland|    2.82|       HTTP|Mozilla/5.0 (comp...|     iOS|     518841|\n",
      "|2023-10-03 13:15:55|0043380513253|  baldwin-smith.net| 263112| 406907|  40.56.141.148|74.124.132.122| Ireland|    1.96|       HTTP|Opera/9.64.(Windo...| Android|     670019|\n",
      "|2023-10-05 06:11:30|0048475824782|        spencer.biz| 136059| 521915|   2.144.125.59| 60.46.106.164| Ireland|    2.56|      HTTPS|Mozilla/5.0 (Wind...| Windows|     657974|\n",
      "|2023-10-04 15:37:21|0051250090454|          cross.com|  33170| 479426|  21.249.59.139|166.61.101.165| England|    2.42|      HTTPS|Mozilla/5.0 (iPad...|     iOS|     512596|\n",
      "|2023-10-01 03:15:11|0056658573255|       knowles.info| 757486| 162988|106.231.222.148|  141.88.54.38| England|    1.54|      HTTPS|Mozilla/5.0 (comp...|     Mac|     920474|\n",
      "|2023-10-01 08:28:05|0061740797901|         graham.com|  27639| 791490|  65.124.225.50|  17.225.12.76|   Wales|     1.1|       HTTP|Opera/8.82.(Windo...| Android|     819129|\n",
      "|2023-10-03 02:01:19|0062525464248|         davies.biz| 517197| 259999|  104.59.89.242| 91.206.142.81|Scotland|    0.86|       HTTP|Mozilla/5.0 (Wind...|     iOS|     777196|\n",
      "+-------------------+-------------+-------------------+-------+-------+---------------+--------------+--------+--------+-----------+--------------------+--------+-----------+\n",
      "only showing top 20 rows\n",
      "\n"
     ]
    }
   ],
   "source": [
    "def calculate_total_bytes(dlbytes, ulbytes):\n",
    "    return dlbytes + ulbytes\n",
    "\n",
    "total_bytes_udf = udf(calculate_total_bytes, IntegerType())\n",
    "\n",
    "df.withColumn(\"total_bytes\", total_bytes_udf(df[\"dlbytes\"], df[\"ulbytes\"])).show()"
   ]
  },
  {
   "cell_type": "code",
   "execution_count": 59,
   "metadata": {},
   "outputs": [],
   "source": [
    "from pyspark.sql.types import StringType"
   ]
  },
  {
   "cell_type": "code",
   "execution_count": 60,
   "metadata": {},
   "outputs": [
    {
     "name": "stdout",
     "output_type": "stream",
     "text": [
      "+-------------------+-------------+-------------------+-------+-------+---------------+--------------+--------+--------+-----------+--------------------+--------+--------------+\n",
      "|          date_time|       userid|             domain|dlbytes|ulbytes|       clientip|      serverip| country|txn_time|http_method|          user_agent|platform|processed_http|\n",
      "+-------------------+-------------+-------------------+-------+-------+---------------+--------------+--------+--------+-----------+--------------------+--------+--------------+\n",
      "|2023-10-01 11:05:24|0004910615244|         robson.org| 756778| 236550| 35.242.245.157| 85.188.139.63|Scotland|    0.83|      HTTPS|Opera/9.66.(Windo...|     iOS|         https|\n",
      "|2023-10-02 18:02:00|0007469702985|          smith.biz| 988049| 116727|  86.195.34.204|153.106.210.57| Ireland|    1.18|       HTTP|Mozilla/5.0 (comp...|   Linux|          http|\n",
      "|2023-10-05 16:34:30|0009633130876|davies-phillips.com| 546244| 819216|   37.140.78.51|    40.4.95.67|Scotland|    0.31|      HTTPS|Opera/8.85.(X11; ...|     Mac|         https|\n",
      "|2023-10-02 09:45:20|0012930422298|   rees-banks.co.uk| 367563| 261045|  171.30.238.90| 116.247.247.4|   Wales|    1.58|      HTTPS|Mozilla/5.0 (iPod...| Android|         https|\n",
      "|2023-10-05 02:49:31|0012989976074|           ryan.com| 186727| 285270|  97.61.198.125| 35.115.52.150| England|    1.09|      HTTPS|Opera/8.32.(X11; ...| Windows|         https|\n",
      "|2023-10-03 04:39:45|0017256894984|     stephenson.com| 569508| 694193|  138.135.49.78|  31.66.186.60| England|    2.71|      HTTPS|Opera/9.57.(X11; ...| Windows|         https|\n",
      "|2023-10-02 09:58:03|0021965045228|          singh.com| 666113| 758342| 183.157.35.221| 15.102.89.121|   Wales|    0.01|       HTTP|Mozilla/5.0 (Maci...| Windows|          http|\n",
      "|2023-10-05 19:55:15|0024041687755|       williams.biz| 889239|  88760|  191.83.61.197| 172.21.44.190|   Wales|    0.77|      HTTPS|Mozilla/5.0 (Maci...|     Mac|         https|\n",
      "|2023-10-02 08:19:43|0025484554969|  barnett-singh.com| 228620| 295478|  12.80.235.224|  20.62.31.155|Scotland|    1.43|      HTTPS|Mozilla/5.0 (iPho...| Windows|         https|\n",
      "|2023-10-05 12:30:25|0025889674784|          kelly.com| 529849|  88942|158.209.218.154| 96.225.195.89| Ireland|    2.21|      HTTPS|Opera/8.81.(Windo...|     iOS|         https|\n",
      "|2023-10-05 12:27:40|0031114146803|          field.com| 440625| 234036|  55.125.35.253|129.250.133.98| England|    2.82|      HTTPS|Mozilla/5.0 (iPho...|     iOS|         https|\n",
      "|2023-10-05 10:43:38|0036507369284|   cameron-cole.com| 854978| 439845| 222.23.206.248|54.239.130.107|   Wales|     2.4|      HTTPS|Mozilla/5.0 (Wind...|     iOS|         https|\n",
      "|2023-10-03 10:18:55|0040725515529|    richardson.info| 993629| 811829|   53.204.53.11|174.157.32.151| England|     0.2|       HTTP|Mozilla/5.0 (X11;...|     iOS|          http|\n",
      "|2023-10-01 05:28:01|0041663944115|   allen-parkes.com| 132221| 386620|   88.3.170.178|220.145.56.244| Ireland|    2.82|       HTTP|Mozilla/5.0 (comp...|     iOS|          http|\n",
      "|2023-10-03 13:15:55|0043380513253|  baldwin-smith.net| 263112| 406907|  40.56.141.148|74.124.132.122| Ireland|    1.96|       HTTP|Opera/9.64.(Windo...| Android|          http|\n",
      "|2023-10-05 06:11:30|0048475824782|        spencer.biz| 136059| 521915|   2.144.125.59| 60.46.106.164| Ireland|    2.56|      HTTPS|Mozilla/5.0 (Wind...| Windows|         https|\n",
      "|2023-10-04 15:37:21|0051250090454|          cross.com|  33170| 479426|  21.249.59.139|166.61.101.165| England|    2.42|      HTTPS|Mozilla/5.0 (iPad...|     iOS|         https|\n",
      "|2023-10-01 03:15:11|0056658573255|       knowles.info| 757486| 162988|106.231.222.148|  141.88.54.38| England|    1.54|      HTTPS|Mozilla/5.0 (comp...|     Mac|         https|\n",
      "|2023-10-01 08:28:05|0061740797901|         graham.com|  27639| 791490|  65.124.225.50|  17.225.12.76|   Wales|     1.1|       HTTP|Opera/8.82.(Windo...| Android|          http|\n",
      "|2023-10-03 02:01:19|0062525464248|         davies.biz| 517197| 259999|  104.59.89.242| 91.206.142.81|Scotland|    0.86|       HTTP|Mozilla/5.0 (Wind...|     iOS|          http|\n",
      "+-------------------+-------------+-------------------+-------+-------+---------------+--------------+--------+--------+-----------+--------------------+--------+--------------+\n",
      "only showing top 20 rows\n",
      "\n"
     ]
    }
   ],
   "source": [
    "def custom_text_processing(http_method):\n",
    "    return http_method.lower()\n",
    "\n",
    "custom_text_processing_udf = udf(custom_text_processing, StringType())\n",
    "\n",
    "df.withColumn(\"processed_http\", custom_text_processing_udf(df[\"http_method\"])).show()"
   ]
  },
  {
   "cell_type": "code",
   "execution_count": 61,
   "metadata": {},
   "outputs": [],
   "source": [
    "from pyspark.sql.types import DoubleType\n",
    "from pyspark.sql.functions import round"
   ]
  },
  {
   "cell_type": "code",
   "execution_count": 62,
   "metadata": {},
   "outputs": [
    {
     "name": "stdout",
     "output_type": "stream",
     "text": [
      "+-------------------+-------------+-------------------+-------+-------+---------------+--------------+--------+--------+-----------+--------------------+--------+-----------------+\n",
      "|          date_time|       userid|             domain|dlbytes|ulbytes|       clientip|      serverip| country|txn_time|http_method|          user_agent|platform|txn_time_millisec|\n",
      "+-------------------+-------------+-------------------+-------+-------+---------------+--------------+--------+--------+-----------+--------------------+--------+-----------------+\n",
      "|2023-10-01 11:05:24|0004910615244|         robson.org| 756778| 236550| 35.242.245.157| 85.188.139.63|Scotland|    0.83|      HTTPS|Opera/9.66.(Windo...|     iOS|            830.0|\n",
      "|2023-10-02 18:02:00|0007469702985|          smith.biz| 988049| 116727|  86.195.34.204|153.106.210.57| Ireland|    1.18|       HTTP|Mozilla/5.0 (comp...|   Linux|           1180.0|\n",
      "|2023-10-05 16:34:30|0009633130876|davies-phillips.com| 546244| 819216|   37.140.78.51|    40.4.95.67|Scotland|    0.31|      HTTPS|Opera/8.85.(X11; ...|     Mac|            310.0|\n",
      "|2023-10-02 09:45:20|0012930422298|   rees-banks.co.uk| 367563| 261045|  171.30.238.90| 116.247.247.4|   Wales|    1.58|      HTTPS|Mozilla/5.0 (iPod...| Android|           1580.0|\n",
      "|2023-10-05 02:49:31|0012989976074|           ryan.com| 186727| 285270|  97.61.198.125| 35.115.52.150| England|    1.09|      HTTPS|Opera/8.32.(X11; ...| Windows|           1090.0|\n",
      "|2023-10-03 04:39:45|0017256894984|     stephenson.com| 569508| 694193|  138.135.49.78|  31.66.186.60| England|    2.71|      HTTPS|Opera/9.57.(X11; ...| Windows|           2710.0|\n",
      "|2023-10-02 09:58:03|0021965045228|          singh.com| 666113| 758342| 183.157.35.221| 15.102.89.121|   Wales|    0.01|       HTTP|Mozilla/5.0 (Maci...| Windows|             10.0|\n",
      "|2023-10-05 19:55:15|0024041687755|       williams.biz| 889239|  88760|  191.83.61.197| 172.21.44.190|   Wales|    0.77|      HTTPS|Mozilla/5.0 (Maci...|     Mac|            770.0|\n",
      "|2023-10-02 08:19:43|0025484554969|  barnett-singh.com| 228620| 295478|  12.80.235.224|  20.62.31.155|Scotland|    1.43|      HTTPS|Mozilla/5.0 (iPho...| Windows|           1430.0|\n",
      "|2023-10-05 12:30:25|0025889674784|          kelly.com| 529849|  88942|158.209.218.154| 96.225.195.89| Ireland|    2.21|      HTTPS|Opera/8.81.(Windo...|     iOS|           2210.0|\n",
      "|2023-10-05 12:27:40|0031114146803|          field.com| 440625| 234036|  55.125.35.253|129.250.133.98| England|    2.82|      HTTPS|Mozilla/5.0 (iPho...|     iOS|           2820.0|\n",
      "|2023-10-05 10:43:38|0036507369284|   cameron-cole.com| 854978| 439845| 222.23.206.248|54.239.130.107|   Wales|     2.4|      HTTPS|Mozilla/5.0 (Wind...|     iOS|           2400.0|\n",
      "|2023-10-03 10:18:55|0040725515529|    richardson.info| 993629| 811829|   53.204.53.11|174.157.32.151| England|     0.2|       HTTP|Mozilla/5.0 (X11;...|     iOS|            200.0|\n",
      "|2023-10-01 05:28:01|0041663944115|   allen-parkes.com| 132221| 386620|   88.3.170.178|220.145.56.244| Ireland|    2.82|       HTTP|Mozilla/5.0 (comp...|     iOS|           2820.0|\n",
      "|2023-10-03 13:15:55|0043380513253|  baldwin-smith.net| 263112| 406907|  40.56.141.148|74.124.132.122| Ireland|    1.96|       HTTP|Opera/9.64.(Windo...| Android|           1960.0|\n",
      "|2023-10-05 06:11:30|0048475824782|        spencer.biz| 136059| 521915|   2.144.125.59| 60.46.106.164| Ireland|    2.56|      HTTPS|Mozilla/5.0 (Wind...| Windows|           2560.0|\n",
      "|2023-10-04 15:37:21|0051250090454|          cross.com|  33170| 479426|  21.249.59.139|166.61.101.165| England|    2.42|      HTTPS|Mozilla/5.0 (iPad...|     iOS|           2420.0|\n",
      "|2023-10-01 03:15:11|0056658573255|       knowles.info| 757486| 162988|106.231.222.148|  141.88.54.38| England|    1.54|      HTTPS|Mozilla/5.0 (comp...|     Mac|           1540.0|\n",
      "|2023-10-01 08:28:05|0061740797901|         graham.com|  27639| 791490|  65.124.225.50|  17.225.12.76|   Wales|     1.1|       HTTP|Opera/8.82.(Windo...| Android|           1100.0|\n",
      "|2023-10-03 02:01:19|0062525464248|         davies.biz| 517197| 259999|  104.59.89.242| 91.206.142.81|Scotland|    0.86|       HTTP|Mozilla/5.0 (Wind...|     iOS|            860.0|\n",
      "+-------------------+-------------+-------------------+-------+-------+---------------+--------------+--------+--------+-----------+--------------------+--------+-----------------+\n",
      "only showing top 20 rows\n",
      "\n"
     ]
    }
   ],
   "source": [
    "def new_txn_time(txn_time):\n",
    "    return txn_time*1000\n",
    "\n",
    "new_txn_time_udf = udf(new_txn_time, DoubleType())\n",
    "\n",
    "df.withColumn(\"txn_time_millisec\", round(new_txn_time(df[\"txn_time\"]),0)).show()"
   ]
  },
  {
   "cell_type": "code",
   "execution_count": 63,
   "metadata": {},
   "outputs": [],
   "source": [
    "from pyspark.sql.functions import year, month, dayofmonth, date_format"
   ]
  },
  {
   "cell_type": "code",
   "execution_count": 64,
   "metadata": {},
   "outputs": [
    {
     "name": "stdout",
     "output_type": "stream",
     "text": [
      "+-------------------+\n",
      "|          date_time|\n",
      "+-------------------+\n",
      "|2023-10-04 06:21:05|\n",
      "|2023-10-03 23:34:32|\n",
      "|2023-10-01 07:30:22|\n",
      "|2023-10-02 20:14:20|\n",
      "|2023-10-03 17:53:45|\n",
      "|2023-10-05 22:07:58|\n",
      "|2023-10-02 10:45:43|\n",
      "|2023-10-02 06:26:16|\n",
      "|2023-10-03 12:55:00|\n",
      "|2023-10-01 11:05:24|\n",
      "|2023-10-04 04:31:36|\n",
      "|2023-10-05 02:30:26|\n",
      "|2023-10-05 15:06:32|\n",
      "|2023-10-02 09:27:40|\n",
      "|2023-10-03 21:14:25|\n",
      "|2023-10-04 00:30:59|\n",
      "|2023-10-04 16:00:00|\n",
      "|2023-10-02 18:02:00|\n",
      "|2023-10-01 14:18:26|\n",
      "|2023-10-01 16:03:24|\n",
      "+-------------------+\n",
      "only showing top 20 rows\n",
      "\n"
     ]
    }
   ],
   "source": [
    "df2 = df.select(\"date_time\")\n",
    "df2.show()"
   ]
  },
  {
   "cell_type": "code",
   "execution_count": 65,
   "metadata": {},
   "outputs": [
    {
     "name": "stdout",
     "output_type": "stream",
     "text": [
      "+-------------------+----+-----+---+----------+\n",
      "|          date_time|year|month|day|  new_date|\n",
      "+-------------------+----+-----+---+----------+\n",
      "|2023-10-04 06:21:05|2023|   10|  4|2023-10-04|\n",
      "|2023-10-03 23:34:32|2023|   10|  3|2023-10-03|\n",
      "|2023-10-01 07:30:22|2023|   10|  1|2023-10-01|\n",
      "|2023-10-02 20:14:20|2023|   10|  2|2023-10-02|\n",
      "|2023-10-03 17:53:45|2023|   10|  3|2023-10-03|\n",
      "|2023-10-05 22:07:58|2023|   10|  5|2023-10-05|\n",
      "|2023-10-02 10:45:43|2023|   10|  2|2023-10-02|\n",
      "|2023-10-02 06:26:16|2023|   10|  2|2023-10-02|\n",
      "|2023-10-03 12:55:00|2023|   10|  3|2023-10-03|\n",
      "|2023-10-01 11:05:24|2023|   10|  1|2023-10-01|\n",
      "|2023-10-04 04:31:36|2023|   10|  4|2023-10-04|\n",
      "|2023-10-05 02:30:26|2023|   10|  5|2023-10-05|\n",
      "|2023-10-05 15:06:32|2023|   10|  5|2023-10-05|\n",
      "|2023-10-02 09:27:40|2023|   10|  2|2023-10-02|\n",
      "|2023-10-03 21:14:25|2023|   10|  3|2023-10-03|\n",
      "|2023-10-04 00:30:59|2023|   10|  4|2023-10-04|\n",
      "|2023-10-04 16:00:00|2023|   10|  4|2023-10-04|\n",
      "|2023-10-02 18:02:00|2023|   10|  2|2023-10-02|\n",
      "|2023-10-01 14:18:26|2023|   10|  1|2023-10-01|\n",
      "|2023-10-01 16:03:24|2023|   10|  1|2023-10-01|\n",
      "+-------------------+----+-----+---+----------+\n",
      "only showing top 20 rows\n",
      "\n"
     ]
    }
   ],
   "source": [
    "df2.withColumn(\"year\" , year(df2[\"date_time\"]))\\\n",
    ".withColumn(\"month\" , month(df2[\"date_time\"]))\\\n",
    ".withColumn(\"day\" , dayofmonth(df2[\"date_time\"]))\\\n",
    ".withColumn(\"new_date\", date_format(df2[\"date_time\"], \"yyyy-MM-dd\"))\\\n",
    ".show()"
   ]
  },
  {
   "cell_type": "code",
   "execution_count": 66,
   "metadata": {},
   "outputs": [],
   "source": [
    "from pyspark.sql.functions import dayofweek, when"
   ]
  },
  {
   "cell_type": "code",
   "execution_count": 67,
   "metadata": {},
   "outputs": [],
   "source": [
    "challenge = df.select(\"date_time\")"
   ]
  },
  {
   "cell_type": "code",
   "execution_count": 68,
   "metadata": {},
   "outputs": [],
   "source": [
    "step = challenge.withColumn(\"daynumber\", dayofweek(challenge[\"date_time\"]))"
   ]
  },
  {
   "cell_type": "code",
   "execution_count": 69,
   "metadata": {},
   "outputs": [
    {
     "name": "stdout",
     "output_type": "stream",
     "text": [
      "+-------------------+---------+-------+\n",
      "|          date_time|daynumber|weekend|\n",
      "+-------------------+---------+-------+\n",
      "|2023-10-04 06:21:05|        4|weekday|\n",
      "|2023-10-03 23:34:32|        3|weekday|\n",
      "|2023-10-01 07:30:22|        1|weekend|\n",
      "|2023-10-02 20:14:20|        2|weekday|\n",
      "|2023-10-03 17:53:45|        3|weekday|\n",
      "|2023-10-05 22:07:58|        5|weekday|\n",
      "|2023-10-02 10:45:43|        2|weekday|\n",
      "|2023-10-02 06:26:16|        2|weekday|\n",
      "|2023-10-03 12:55:00|        3|weekday|\n",
      "|2023-10-01 11:05:24|        1|weekend|\n",
      "|2023-10-04 04:31:36|        4|weekday|\n",
      "|2023-10-05 02:30:26|        5|weekday|\n",
      "|2023-10-05 15:06:32|        5|weekday|\n",
      "|2023-10-02 09:27:40|        2|weekday|\n",
      "|2023-10-03 21:14:25|        3|weekday|\n",
      "|2023-10-04 00:30:59|        4|weekday|\n",
      "|2023-10-04 16:00:00|        4|weekday|\n",
      "|2023-10-02 18:02:00|        2|weekday|\n",
      "|2023-10-01 14:18:26|        1|weekend|\n",
      "|2023-10-01 16:03:24|        1|weekend|\n",
      "+-------------------+---------+-------+\n",
      "only showing top 20 rows\n",
      "\n"
     ]
    }
   ],
   "source": [
    "step.withColumn(\"weekend\", when(step[\"daynumber\"].between(2,6), \"weekday\").otherwise(\"weekend\")).show()"
   ]
  },
  {
   "cell_type": "markdown",
   "metadata": {},
   "source": [
    "END"
   ]
  }
 ],
 "metadata": {
  "colab": {
   "authorship_tag": "ABX9TyORzcUTMtq3ugkcqcsR0KUP",
   "provenance": []
  },
  "kernelspec": {
   "display_name": "Python 3 (ipykernel)",
   "language": "python",
   "name": "python3"
  },
  "language_info": {
   "codemirror_mode": {
    "name": "ipython",
    "version": 3
   },
   "file_extension": ".py",
   "mimetype": "text/x-python",
   "name": "python",
   "nbconvert_exporter": "python",
   "pygments_lexer": "ipython3",
   "version": "3.11.5"
  }
 },
 "nbformat": 4,
 "nbformat_minor": 4
}
