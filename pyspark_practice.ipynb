{
 "cells": [
  {
   "cell_type": "code",
   "execution_count": 4,
   "metadata": {
    "colab": {
     "base_uri": "https://localhost:8080/"
    },
    "executionInfo": {
     "elapsed": 55821,
     "status": "ok",
     "timestamp": 1705213719983,
     "user": {
      "displayName": "Ivan Omazic (BionicleBear)",
      "userId": "18178661664072419302"
     },
     "user_tz": 480
    },
    "id": "0tCoVxuU9g9U",
    "outputId": "c4721015-2771-4499-f067-3dba3e80cbc1"
   },
   "outputs": [
    {
     "name": "stdout",
     "output_type": "stream",
     "text": [
      "Collecting pyspark\n",
      "  Downloading pyspark-3.5.0.tar.gz (316.9 MB)\n",
      "\u001b[2K     \u001b[90m━━━━━━━━━━━━━━━━━━━━━━━━━━━━━━━━━━━━━━━━\u001b[0m \u001b[32m316.9/316.9 MB\u001b[0m \u001b[31m4.6 MB/s\u001b[0m eta \u001b[36m0:00:00\u001b[0m\n",
      "\u001b[?25h  Preparing metadata (setup.py) ... \u001b[?25l\u001b[?25hdone\n",
      "Requirement already satisfied: py4j==0.10.9.7 in /usr/local/lib/python3.10/dist-packages (from pyspark) (0.10.9.7)\n",
      "Building wheels for collected packages: pyspark\n",
      "  Building wheel for pyspark (setup.py) ... \u001b[?25l\u001b[?25hdone\n",
      "  Created wheel for pyspark: filename=pyspark-3.5.0-py2.py3-none-any.whl size=317425345 sha256=93df8ed0e75a90313a4dabf6409b0e7d3f61d8ab50e9edcb0d5c54047fdd96fc\n",
      "  Stored in directory: /root/.cache/pip/wheels/41/4e/10/c2cf2467f71c678cfc8a6b9ac9241e5e44a01940da8fbb17fc\n",
      "Successfully built pyspark\n",
      "Installing collected packages: pyspark\n",
      "Successfully installed pyspark-3.5.0\n"
     ]
    }
   ],
   "source": [
    "!pip install pyspark\n"
   ]
  },
  {
   "cell_type": "code",
   "execution_count": 1,
   "metadata": {
    "executionInfo": {
     "elapsed": 3,
     "status": "ok",
     "timestamp": 1705213719983,
     "user": {
      "displayName": "Ivan Omazic (BionicleBear)",
      "userId": "18178661664072419302"
     },
     "user_tz": 480
    },
    "id": "jxxcVTbd-Ban"
   },
   "outputs": [],
   "source": [
    "from pyspark.sql import SparkSession"
   ]
  },
  {
   "cell_type": "code",
   "execution_count": 2,
   "metadata": {
    "executionInfo": {
     "elapsed": 404,
     "status": "ok",
     "timestamp": 1705213969588,
     "user": {
      "displayName": "Ivan Omazic (BionicleBear)",
      "userId": "18178661664072419302"
     },
     "user_tz": 480
    },
    "id": "E3q2in6R-T0C"
   },
   "outputs": [],
   "source": [
    "spark = SparkSession.builder.appName(\"mycourse\").getOrCreate()"
   ]
  },
  {
   "cell_type": "code",
   "execution_count": 5,
   "metadata": {
    "executionInfo": {
     "elapsed": 7879,
     "status": "ok",
     "timestamp": 1705213977853,
     "user": {
      "displayName": "Ivan Omazic (BionicleBear)",
      "userId": "18178661664072419302"
     },
     "user_tz": 480
    },
    "id": "CjURDwBA-eZ_"
   },
   "outputs": [],
   "source": [
    "df = spark.read.csv('./course_file.csv', header = True)"
   ]
  },
  {
   "cell_type": "code",
   "execution_count": 6,
   "metadata": {
    "colab": {
     "base_uri": "https://localhost:8080/"
    },
    "executionInfo": {
     "elapsed": 990,
     "status": "ok",
     "timestamp": 1705213978841,
     "user": {
      "displayName": "Ivan Omazic (BionicleBear)",
      "userId": "18178661664072419302"
     },
     "user_tz": 480
    },
    "id": "HqxsUTmi_Nmq",
    "outputId": "303de720-5627-4936-a81e-dd35514820ca"
   },
   "outputs": [
    {
     "name": "stdout",
     "output_type": "stream",
     "text": [
      "+-------------------+-------------+----------------+-------+-------+---------------+-------------+-------+--------+-----------+--------------------+--------+\n",
      "|          date_time|       userid|          domain|dlbytes|ulbytes|       clientip|     serverip|country|txn_time|http_method|          user_agent|platform|\n",
      "+-------------------+-------------+----------------+-------+-------+---------------+-------------+-------+--------+-----------+--------------------+--------+\n",
      "|2023-10-04 11:37:11|7773153683656|ryan-wells.co.uk| 872807| 741526|142.132.219.110|62.42.184.180|England|    2.33|      HTTPS|Mozilla/5.0 (Wind...| Android|\n",
      "|2023-10-04 12:17:07|1886351675683|     hopkins.org|  50898| 529504|  184.205.48.78|152.123.41.39|  Wales|     1.2|       HTTP|Mozilla/5.0 (Wind...| Android|\n",
      "+-------------------+-------------+----------------+-------+-------+---------------+-------------+-------+--------+-----------+--------------------+--------+\n",
      "only showing top 2 rows\n",
      "\n"
     ]
    }
   ],
   "source": [
    "df.show(2)"
   ]
  },
  {
   "cell_type": "code",
   "execution_count": 7,
   "metadata": {
    "colab": {
     "base_uri": "https://localhost:8080/"
    },
    "executionInfo": {
     "elapsed": 3,
     "status": "ok",
     "timestamp": 1705213978842,
     "user": {
      "displayName": "Ivan Omazic (BionicleBear)",
      "userId": "18178661664072419302"
     },
     "user_tz": 480
    },
    "id": "6tzwhbGs_QYs",
    "outputId": "29eed398-6d46-4c71-c190-be701372bf26"
   },
   "outputs": [
    {
     "name": "stdout",
     "output_type": "stream",
     "text": [
      "root\n",
      " |-- date_time: string (nullable = true)\n",
      " |-- userid: string (nullable = true)\n",
      " |-- domain: string (nullable = true)\n",
      " |-- dlbytes: string (nullable = true)\n",
      " |-- ulbytes: string (nullable = true)\n",
      " |-- clientip: string (nullable = true)\n",
      " |-- serverip: string (nullable = true)\n",
      " |-- country: string (nullable = true)\n",
      " |-- txn_time: string (nullable = true)\n",
      " |-- http_method: string (nullable = true)\n",
      " |-- user_agent: string (nullable = true)\n",
      " |-- platform: string (nullable = true)\n",
      "\n"
     ]
    }
   ],
   "source": [
    "df.printSchema()"
   ]
  },
  {
   "cell_type": "code",
   "execution_count": 8,
   "metadata": {
    "colab": {
     "base_uri": "https://localhost:8080/"
    },
    "executionInfo": {
     "elapsed": 9601,
     "status": "ok",
     "timestamp": 1705213988442,
     "user": {
      "displayName": "Ivan Omazic (BionicleBear)",
      "userId": "18178661664072419302"
     },
     "user_tz": 480
    },
    "id": "SvdPjH_H_cY9",
    "outputId": "9aed825c-f367-479a-cfb3-f9358a071cf8"
   },
   "outputs": [
    {
     "name": "stdout",
     "output_type": "stream",
     "text": [
      "+-------+-------------------+--------------------+-----------------+------------------+-----------------+-----------+------------+-------+------------------+-----------+--------------------+--------+\n",
      "|summary|          date_time|              userid|           domain|           dlbytes|          ulbytes|   clientip|    serverip|country|          txn_time|http_method|          user_agent|platform|\n",
      "+-------+-------------------+--------------------+-----------------+------------------+-----------------+-----------+------------+-------+------------------+-----------+--------------------+--------+\n",
      "|  count|             100000|              100000|           100000|            100000|           100000|     100000|      100000| 100000|            100000|     100000|              100000|  100000|\n",
      "|   mean|               NULL|5.010135665120539E12|             NULL|      499993.58573|     499925.16314|       NULL|        NULL|   NULL|1.4980519999999975|       NULL|                NULL|    NULL|\n",
      "| stddev|               NULL|2.898286126875014...|             NULL|288565.82296079345|288284.7692300469|       NULL|        NULL|   NULL|0.8669253606232833|       NULL|                NULL|    NULL|\n",
      "|    min|2023-10-01 00:00:01|       0000034807482|abbott-barnes.com|            100000|           100022|1.0.166.229|  1.1.144.16|England|               0.0|       HTTP|Mozilla/5.0 (Andr...| Android|\n",
      "|    max|2023-10-05 23:58:52|       9999986035271|        young.org|            999994|           999975|99.99.69.51|99.97.24.198|  Wales|               3.0|      HTTPS|Opera/9.99.(X11; ...|     iOS|\n",
      "+-------+-------------------+--------------------+-----------------+------------------+-----------------+-----------+------------+-------+------------------+-----------+--------------------+--------+\n",
      "\n"
     ]
    }
   ],
   "source": [
    "df.describe().show()"
   ]
  },
  {
   "cell_type": "code",
   "execution_count": 9,
   "metadata": {
    "colab": {
     "base_uri": "https://localhost:8080/"
    },
    "executionInfo": {
     "elapsed": 927,
     "status": "ok",
     "timestamp": 1705213989367,
     "user": {
      "displayName": "Ivan Omazic (BionicleBear)",
      "userId": "18178661664072419302"
     },
     "user_tz": 480
    },
    "id": "VrhmG4Ll_jg2",
    "outputId": "959a4ecd-285f-4579-f41e-a4e93a3015dd"
   },
   "outputs": [
    {
     "data": {
      "text/plain": [
       "100000"
      ]
     },
     "execution_count": 9,
     "metadata": {},
     "output_type": "execute_result"
    }
   ],
   "source": [
    "df.count()"
   ]
  },
  {
   "cell_type": "code",
   "execution_count": 10,
   "metadata": {
    "colab": {
     "base_uri": "https://localhost:8080/"
    },
    "executionInfo": {
     "elapsed": 4,
     "status": "ok",
     "timestamp": 1705213989367,
     "user": {
      "displayName": "Ivan Omazic (BionicleBear)",
      "userId": "18178661664072419302"
     },
     "user_tz": 480
    },
    "id": "73LShHBE_sHu",
    "outputId": "768ba22f-54a2-4847-fe37-37c793f6409a"
   },
   "outputs": [
    {
     "data": {
      "text/plain": [
       "['date_time',\n",
       " 'userid',\n",
       " 'domain',\n",
       " 'dlbytes',\n",
       " 'ulbytes',\n",
       " 'clientip',\n",
       " 'serverip',\n",
       " 'country',\n",
       " 'txn_time',\n",
       " 'http_method',\n",
       " 'user_agent',\n",
       " 'platform']"
      ]
     },
     "execution_count": 10,
     "metadata": {},
     "output_type": "execute_result"
    }
   ],
   "source": [
    "df.columns"
   ]
  },
  {
   "cell_type": "code",
   "execution_count": 11,
   "metadata": {
    "colab": {
     "base_uri": "https://localhost:8080/"
    },
    "executionInfo": {
     "elapsed": 3,
     "status": "ok",
     "timestamp": 1705213989367,
     "user": {
      "displayName": "Ivan Omazic (BionicleBear)",
      "userId": "18178661664072419302"
     },
     "user_tz": 480
    },
    "id": "V4Yj5eyu_ubD",
    "outputId": "e75d988f-81a4-4be1-c9a9-380541b70ed7"
   },
   "outputs": [
    {
     "data": {
      "text/plain": [
       "[('date_time', 'string'),\n",
       " ('userid', 'string'),\n",
       " ('domain', 'string'),\n",
       " ('dlbytes', 'string'),\n",
       " ('ulbytes', 'string'),\n",
       " ('clientip', 'string'),\n",
       " ('serverip', 'string'),\n",
       " ('country', 'string'),\n",
       " ('txn_time', 'string'),\n",
       " ('http_method', 'string'),\n",
       " ('user_agent', 'string'),\n",
       " ('platform', 'string')]"
      ]
     },
     "execution_count": 11,
     "metadata": {},
     "output_type": "execute_result"
    }
   ],
   "source": [
    "df.dtypes"
   ]
  },
  {
   "cell_type": "code",
   "execution_count": 12,
   "metadata": {
    "executionInfo": {
     "elapsed": 2,
     "status": "ok",
     "timestamp": 1705213989367,
     "user": {
      "displayName": "Ivan Omazic (BionicleBear)",
      "userId": "18178661664072419302"
     },
     "user_tz": 480
    },
    "id": "9r4wkerS_2De"
   },
   "outputs": [],
   "source": [
    "countries = df.select('country','dlbytes')"
   ]
  },
  {
   "cell_type": "code",
   "execution_count": 13,
   "metadata": {
    "colab": {
     "base_uri": "https://localhost:8080/"
    },
    "executionInfo": {
     "elapsed": 435,
     "status": "ok",
     "timestamp": 1705213989800,
     "user": {
      "displayName": "Ivan Omazic (BionicleBear)",
      "userId": "18178661664072419302"
     },
     "user_tz": 480
    },
    "id": "47anzlvO_9F2",
    "outputId": "6fb01c45-01f1-4855-b26d-2073626df9a3"
   },
   "outputs": [
    {
     "name": "stdout",
     "output_type": "stream",
     "text": [
      "+-------+-------+\n",
      "|country|dlbytes|\n",
      "+-------+-------+\n",
      "|England| 872807|\n",
      "|  Wales|  50898|\n",
      "+-------+-------+\n",
      "only showing top 2 rows\n",
      "\n"
     ]
    }
   ],
   "source": [
    "countries.show(2)"
   ]
  },
  {
   "cell_type": "code",
   "execution_count": 14,
   "metadata": {
    "colab": {
     "base_uri": "https://localhost:8080/"
    },
    "executionInfo": {
     "elapsed": 796,
     "status": "ok",
     "timestamp": 1705213990595,
     "user": {
      "displayName": "Ivan Omazic (BionicleBear)",
      "userId": "18178661664072419302"
     },
     "user_tz": 480
    },
    "id": "YjwSWjUkAHD5",
    "outputId": "fa4e416a-24d1-48ed-98ef-138081b2440b"
   },
   "outputs": [
    {
     "ename": "AnalysisException",
     "evalue": "[PATH_NOT_FOUND] Path does not exist: file:/content/course_file.csv.",
     "output_type": "error",
     "traceback": [
      "\u001b[1;31m---------------------------------------------------------------------------\u001b[0m",
      "\u001b[1;31mAnalysisException\u001b[0m                         Traceback (most recent call last)",
      "Cell \u001b[1;32mIn[14], line 20\u001b[0m\n\u001b[0;32m     18\u001b[0m \u001b[38;5;66;03m#Load the data with the custom schema\u001b[39;00m\n\u001b[0;32m     19\u001b[0m data_path \u001b[38;5;241m=\u001b[39m \u001b[38;5;124m\"\u001b[39m\u001b[38;5;124m/content/course_file.csv\u001b[39m\u001b[38;5;124m\"\u001b[39m\n\u001b[1;32m---> 20\u001b[0m df \u001b[38;5;241m=\u001b[39m \u001b[43mspark\u001b[49m\u001b[38;5;241;43m.\u001b[39;49m\u001b[43mread\u001b[49m\u001b[38;5;241;43m.\u001b[39;49m\u001b[43mcsv\u001b[49m\u001b[43m(\u001b[49m\u001b[43mdata_path\u001b[49m\u001b[43m,\u001b[49m\u001b[43m \u001b[49m\u001b[43mschema\u001b[49m\u001b[43m \u001b[49m\u001b[38;5;241;43m=\u001b[39;49m\u001b[43m \u001b[49m\u001b[43mcustom_schema\u001b[49m\u001b[43m,\u001b[49m\u001b[43m \u001b[49m\u001b[43mheader\u001b[49m\u001b[43m \u001b[49m\u001b[38;5;241;43m=\u001b[39;49m\u001b[43m \u001b[49m\u001b[38;5;28;43;01mTrue\u001b[39;49;00m\u001b[43m)\u001b[49m\n\u001b[0;32m     22\u001b[0m \u001b[38;5;66;03m#Show the loaded DataFrame\u001b[39;00m\n\u001b[0;32m     23\u001b[0m df\u001b[38;5;241m.\u001b[39mshow()\n",
      "File \u001b[1;32m~\\miniconda3\\Lib\\site-packages\\pyspark\\sql\\readwriter.py:740\u001b[0m, in \u001b[0;36mDataFrameReader.csv\u001b[1;34m(self, path, schema, sep, encoding, quote, escape, comment, header, inferSchema, ignoreLeadingWhiteSpace, ignoreTrailingWhiteSpace, nullValue, nanValue, positiveInf, negativeInf, dateFormat, timestampFormat, maxColumns, maxCharsPerColumn, maxMalformedLogPerPartition, mode, columnNameOfCorruptRecord, multiLine, charToEscapeQuoteEscaping, samplingRatio, enforceSchema, emptyValue, locale, lineSep, pathGlobFilter, recursiveFileLookup, modifiedBefore, modifiedAfter, unescapedQuoteHandling)\u001b[0m\n\u001b[0;32m    738\u001b[0m \u001b[38;5;28;01mif\u001b[39;00m \u001b[38;5;28mtype\u001b[39m(path) \u001b[38;5;241m==\u001b[39m \u001b[38;5;28mlist\u001b[39m:\n\u001b[0;32m    739\u001b[0m     \u001b[38;5;28;01massert\u001b[39;00m \u001b[38;5;28mself\u001b[39m\u001b[38;5;241m.\u001b[39m_spark\u001b[38;5;241m.\u001b[39m_sc\u001b[38;5;241m.\u001b[39m_jvm \u001b[38;5;129;01mis\u001b[39;00m \u001b[38;5;129;01mnot\u001b[39;00m \u001b[38;5;28;01mNone\u001b[39;00m\n\u001b[1;32m--> 740\u001b[0m     \u001b[38;5;28;01mreturn\u001b[39;00m \u001b[38;5;28mself\u001b[39m\u001b[38;5;241m.\u001b[39m_df(\u001b[38;5;28;43mself\u001b[39;49m\u001b[38;5;241;43m.\u001b[39;49m\u001b[43m_jreader\u001b[49m\u001b[38;5;241;43m.\u001b[39;49m\u001b[43mcsv\u001b[49m\u001b[43m(\u001b[49m\u001b[38;5;28;43mself\u001b[39;49m\u001b[38;5;241;43m.\u001b[39;49m\u001b[43m_spark\u001b[49m\u001b[38;5;241;43m.\u001b[39;49m\u001b[43m_sc\u001b[49m\u001b[38;5;241;43m.\u001b[39;49m\u001b[43m_jvm\u001b[49m\u001b[38;5;241;43m.\u001b[39;49m\u001b[43mPythonUtils\u001b[49m\u001b[38;5;241;43m.\u001b[39;49m\u001b[43mtoSeq\u001b[49m\u001b[43m(\u001b[49m\u001b[43mpath\u001b[49m\u001b[43m)\u001b[49m\u001b[43m)\u001b[49m)\n\u001b[0;32m    741\u001b[0m \u001b[38;5;28;01melif\u001b[39;00m \u001b[38;5;28misinstance\u001b[39m(path, RDD):\n\u001b[0;32m    743\u001b[0m     \u001b[38;5;28;01mdef\u001b[39;00m \u001b[38;5;21mfunc\u001b[39m(iterator):\n",
      "File \u001b[1;32m~\\miniconda3\\Lib\\site-packages\\py4j\\java_gateway.py:1322\u001b[0m, in \u001b[0;36mJavaMember.__call__\u001b[1;34m(self, *args)\u001b[0m\n\u001b[0;32m   1316\u001b[0m command \u001b[38;5;241m=\u001b[39m proto\u001b[38;5;241m.\u001b[39mCALL_COMMAND_NAME \u001b[38;5;241m+\u001b[39m\\\n\u001b[0;32m   1317\u001b[0m     \u001b[38;5;28mself\u001b[39m\u001b[38;5;241m.\u001b[39mcommand_header \u001b[38;5;241m+\u001b[39m\\\n\u001b[0;32m   1318\u001b[0m     args_command \u001b[38;5;241m+\u001b[39m\\\n\u001b[0;32m   1319\u001b[0m     proto\u001b[38;5;241m.\u001b[39mEND_COMMAND_PART\n\u001b[0;32m   1321\u001b[0m answer \u001b[38;5;241m=\u001b[39m \u001b[38;5;28mself\u001b[39m\u001b[38;5;241m.\u001b[39mgateway_client\u001b[38;5;241m.\u001b[39msend_command(command)\n\u001b[1;32m-> 1322\u001b[0m return_value \u001b[38;5;241m=\u001b[39m \u001b[43mget_return_value\u001b[49m\u001b[43m(\u001b[49m\n\u001b[0;32m   1323\u001b[0m \u001b[43m    \u001b[49m\u001b[43manswer\u001b[49m\u001b[43m,\u001b[49m\u001b[43m \u001b[49m\u001b[38;5;28;43mself\u001b[39;49m\u001b[38;5;241;43m.\u001b[39;49m\u001b[43mgateway_client\u001b[49m\u001b[43m,\u001b[49m\u001b[43m \u001b[49m\u001b[38;5;28;43mself\u001b[39;49m\u001b[38;5;241;43m.\u001b[39;49m\u001b[43mtarget_id\u001b[49m\u001b[43m,\u001b[49m\u001b[43m \u001b[49m\u001b[38;5;28;43mself\u001b[39;49m\u001b[38;5;241;43m.\u001b[39;49m\u001b[43mname\u001b[49m\u001b[43m)\u001b[49m\n\u001b[0;32m   1325\u001b[0m \u001b[38;5;28;01mfor\u001b[39;00m temp_arg \u001b[38;5;129;01min\u001b[39;00m temp_args:\n\u001b[0;32m   1326\u001b[0m     \u001b[38;5;28;01mif\u001b[39;00m \u001b[38;5;28mhasattr\u001b[39m(temp_arg, \u001b[38;5;124m\"\u001b[39m\u001b[38;5;124m_detach\u001b[39m\u001b[38;5;124m\"\u001b[39m):\n",
      "File \u001b[1;32m~\\miniconda3\\Lib\\site-packages\\pyspark\\errors\\exceptions\\captured.py:185\u001b[0m, in \u001b[0;36mcapture_sql_exception.<locals>.deco\u001b[1;34m(*a, **kw)\u001b[0m\n\u001b[0;32m    181\u001b[0m converted \u001b[38;5;241m=\u001b[39m convert_exception(e\u001b[38;5;241m.\u001b[39mjava_exception)\n\u001b[0;32m    182\u001b[0m \u001b[38;5;28;01mif\u001b[39;00m \u001b[38;5;129;01mnot\u001b[39;00m \u001b[38;5;28misinstance\u001b[39m(converted, UnknownException):\n\u001b[0;32m    183\u001b[0m     \u001b[38;5;66;03m# Hide where the exception came from that shows a non-Pythonic\u001b[39;00m\n\u001b[0;32m    184\u001b[0m     \u001b[38;5;66;03m# JVM exception message.\u001b[39;00m\n\u001b[1;32m--> 185\u001b[0m     \u001b[38;5;28;01mraise\u001b[39;00m converted \u001b[38;5;28;01mfrom\u001b[39;00m \u001b[38;5;28;01mNone\u001b[39;00m\n\u001b[0;32m    186\u001b[0m \u001b[38;5;28;01melse\u001b[39;00m:\n\u001b[0;32m    187\u001b[0m     \u001b[38;5;28;01mraise\u001b[39;00m\n",
      "\u001b[1;31mAnalysisException\u001b[0m: [PATH_NOT_FOUND] Path does not exist: file:/content/course_file.csv."
     ]
    }
   ],
   "source": [
    "from pyspark.sql.types import *\n",
    "#Define custom schema\n",
    "custom_schema = StructType([\n",
    "    StructField(\"date_time\", StringType(), True),\n",
    "    StructField(\"userid\", StringType(), True),\n",
    "    StructField(\"domain\", StringType(), True),\n",
    "    StructField(\"dlbytes\", IntegerType(), True),\n",
    "    StructField(\"ulbytes\", IntegerType(), True),\n",
    "    StructField(\"clientip\", StringType(), True),\n",
    "    StructField(\"serverip\", StringType(), True),\n",
    "    StructField(\"country\", StringType(), True),\n",
    "    StructField(\"txn_time\", FloatType(), True),\n",
    "    StructField(\"http_method\", StringType(), True),\n",
    "    StructField(\"user_agent\", StringType(), True),\n",
    "    StructField(\"platform\", StringType(), True)\n",
    "])\n",
    "\n",
    "#Load the data with the custom schema\n",
    "data_path = \"/content/course_file.csv\"\n",
    "df = spark.read.csv(data_path, schema = custom_schema, header = True)\n",
    "\n",
    "#Show the loaded DataFrame\n",
    "df.show()"
   ]
  },
  {
   "cell_type": "code",
   "execution_count": null,
   "metadata": {
    "colab": {
     "base_uri": "https://localhost:8080/"
    },
    "executionInfo": {
     "elapsed": 3,
     "status": "ok",
     "timestamp": 1705213990595,
     "user": {
      "displayName": "Ivan Omazic (BionicleBear)",
      "userId": "18178661664072419302"
     },
     "user_tz": 480
    },
    "id": "SUcpl6enB2la",
    "outputId": "c5f6829b-f620-44e7-9d2e-375bfa67c662"
   },
   "outputs": [],
   "source": [
    "df.printSchema()"
   ]
  },
  {
   "cell_type": "code",
   "execution_count": null,
   "metadata": {
    "colab": {
     "base_uri": "https://localhost:8080/"
    },
    "executionInfo": {
     "elapsed": 857,
     "status": "ok",
     "timestamp": 1705213991451,
     "user": {
      "displayName": "Ivan Omazic (BionicleBear)",
      "userId": "18178661664072419302"
     },
     "user_tz": 480
    },
    "id": "O2_P_yr8B6IG",
    "outputId": "afc94864-49f0-46a0-8bf0-e7389b1cc094"
   },
   "outputs": [],
   "source": [
    "df.fillna(\n",
    "    {\n",
    "        'dlbytes' : 0,\n",
    "        'ulbytes' : 0,\n",
    "        'country' : 'Unknown'\n",
    "    }\n",
    ").show()"
   ]
  },
  {
   "cell_type": "code",
   "execution_count": null,
   "metadata": {
    "colab": {
     "base_uri": "https://localhost:8080/"
    },
    "executionInfo": {
     "elapsed": 533,
     "status": "ok",
     "timestamp": 1705213991982,
     "user": {
      "displayName": "Ivan Omazic (BionicleBear)",
      "userId": "18178661664072419302"
     },
     "user_tz": 480
    },
    "id": "d2TL0YkSCPLQ",
    "outputId": "67084002-1ffe-4fef-fb00-da0c8ef41cdd"
   },
   "outputs": [],
   "source": [
    "df.fillna('1').show()"
   ]
  },
  {
   "cell_type": "code",
   "execution_count": null,
   "metadata": {
    "colab": {
     "base_uri": "https://localhost:8080/"
    },
    "executionInfo": {
     "elapsed": 426,
     "status": "ok",
     "timestamp": 1705213992406,
     "user": {
      "displayName": "Ivan Omazic (BionicleBear)",
      "userId": "18178661664072419302"
     },
     "user_tz": 480
    },
    "id": "9AnzuBw_CmQ6",
    "outputId": "dcd615e6-9022-46bc-83c2-917c1caece09"
   },
   "outputs": [],
   "source": [
    "df.dropna(subset = ['country']).show()"
   ]
  },
  {
   "cell_type": "code",
   "execution_count": null,
   "metadata": {
    "executionInfo": {
     "elapsed": 2,
     "status": "ok",
     "timestamp": 1705213992406,
     "user": {
      "displayName": "Ivan Omazic (BionicleBear)",
      "userId": "18178661664072419302"
     },
     "user_tz": 480
    },
    "id": "54sVdkA_CsTM"
   },
   "outputs": [],
   "source": [
    "from pyspark.sql import functions as F"
   ]
  },
  {
   "cell_type": "code",
   "execution_count": null,
   "metadata": {
    "executionInfo": {
     "elapsed": 1379,
     "status": "ok",
     "timestamp": 1705213993783,
     "user": {
      "displayName": "Ivan Omazic (BionicleBear)",
      "userId": "18178661664072419302"
     },
     "user_tz": 480
    },
    "id": "fGynpeXxC8YM"
   },
   "outputs": [],
   "source": [
    "average = df.agg(F.avg('dlbytes')).collect()[0][0]"
   ]
  },
  {
   "cell_type": "code",
   "execution_count": null,
   "metadata": {
    "colab": {
     "base_uri": "https://localhost:8080/"
    },
    "executionInfo": {
     "elapsed": 4,
     "status": "ok",
     "timestamp": 1705213993783,
     "user": {
      "displayName": "Ivan Omazic (BionicleBear)",
      "userId": "18178661664072419302"
     },
     "user_tz": 480
    },
    "id": "grtYJFpqDEyE",
    "outputId": "1a10aec1-c28b-4759-8614-9092ec4daf8a"
   },
   "outputs": [],
   "source": [
    "print(average)"
   ]
  },
  {
   "cell_type": "code",
   "execution_count": null,
   "metadata": {
    "colab": {
     "base_uri": "https://localhost:8080/"
    },
    "executionInfo": {
     "elapsed": 2,
     "status": "ok",
     "timestamp": 1705213993783,
     "user": {
      "displayName": "Ivan Omazic (BionicleBear)",
      "userId": "18178661664072419302"
     },
     "user_tz": 480
    },
    "id": "dyTaKzhEDHTM",
    "outputId": "a3a68d33-4ffc-4cac-ae24-dfc73e245a86"
   },
   "outputs": [],
   "source": [
    "df.fillna(\n",
    "    {\n",
    "        'dlbytes' : average,\n",
    "        'ulbytes' : 0,\n",
    "        'country' : 'Unknown'\n",
    "    }\n",
    ").show()"
   ]
  },
  {
   "cell_type": "code",
   "execution_count": null,
   "metadata": {
    "colab": {
     "base_uri": "https://localhost:8080/"
    },
    "executionInfo": {
     "elapsed": 583,
     "status": "ok",
     "timestamp": 1705213994365,
     "user": {
      "displayName": "Ivan Omazic (BionicleBear)",
      "userId": "18178661664072419302"
     },
     "user_tz": 480
    },
    "id": "-Yzx-KZ_DfJJ",
    "outputId": "df50f746-d1ba-4ade-8408-99740d853dfd"
   },
   "outputs": [],
   "source": [
    "df.show(2)"
   ]
  },
  {
   "cell_type": "code",
   "execution_count": null,
   "metadata": {
    "executionInfo": {
     "elapsed": 1,
     "status": "ok",
     "timestamp": 1705213994365,
     "user": {
      "displayName": "Ivan Omazic (BionicleBear)",
      "userId": "18178661664072419302"
     },
     "user_tz": 480
    },
    "id": "Kcs-7bmmDnKO"
   },
   "outputs": [],
   "source": [
    "df.createOrReplaceTempView(\"dfsql\")"
   ]
  },
  {
   "cell_type": "code",
   "execution_count": null,
   "metadata": {
    "colab": {
     "base_uri": "https://localhost:8080/"
    },
    "executionInfo": {
     "elapsed": 1320,
     "status": "ok",
     "timestamp": 1705213995684,
     "user": {
      "displayName": "Ivan Omazic (BionicleBear)",
      "userId": "18178661664072419302"
     },
     "user_tz": 480
    },
    "id": "XkxpVIv7DthY",
    "outputId": "2b552e04-7e9b-4a10-e541-00bcd14cd2a1"
   },
   "outputs": [],
   "source": [
    "spark.sql(\"select country, count(*) from dfsql where dlbytes > 50000 group by country \").show()"
   ]
  },
  {
   "cell_type": "code",
   "execution_count": null,
   "metadata": {
    "colab": {
     "base_uri": "https://localhost:8080/"
    },
    "executionInfo": {
     "elapsed": 1096,
     "status": "ok",
     "timestamp": 1705213996778,
     "user": {
      "displayName": "Ivan Omazic (BionicleBear)",
      "userId": "18178661664072419302"
     },
     "user_tz": 480
    },
    "id": "Hd7AegURDygN",
    "outputId": "a6d96420-ad7d-4b21-a418-609cd4ef1e59"
   },
   "outputs": [],
   "source": [
    "grouped_df_1 = df.groupBy('country').agg(\n",
    "    {\n",
    "        'dlbytes': 'sum',\n",
    "        'ulbytes': 'avg'\n",
    "    }\n",
    ")\n",
    "\n",
    "grouped_df_1.withColumnRenamed('avg(ulbytes)','AvgUL').show()"
   ]
  },
  {
   "cell_type": "code",
   "execution_count": null,
   "metadata": {
    "colab": {
     "base_uri": "https://localhost:8080/"
    },
    "executionInfo": {
     "elapsed": 975,
     "status": "ok",
     "timestamp": 1705213997751,
     "user": {
      "displayName": "Ivan Omazic (BionicleBear)",
      "userId": "18178661664072419302"
     },
     "user_tz": 480
    },
    "id": "hO2mMe8pEoLl",
    "outputId": "c5eb1173-0e26-4071-a19b-b3626bca128e"
   },
   "outputs": [],
   "source": [
    "from pyspark.sql.functions import *\n",
    "\n",
    "df.groupBy('country', 'platform').agg(\n",
    "    sum('dlbytes').alias('DL'),\n",
    "    avg('ulbytes').alias('UL'),\n",
    "    count('*').alias('row count')\n",
    ").show()"
   ]
  },
  {
   "cell_type": "code",
   "execution_count": null,
   "metadata": {
    "colab": {
     "base_uri": "https://localhost:8080/"
    },
    "executionInfo": {
     "elapsed": 412,
     "status": "ok",
     "timestamp": 1705213998162,
     "user": {
      "displayName": "Ivan Omazic (BionicleBear)",
      "userId": "18178661664072419302"
     },
     "user_tz": 480
    },
    "id": "-PB4HScFFXTX",
    "outputId": "3719aa98-968e-41c6-d681-bfaabe733f51"
   },
   "outputs": [],
   "source": [
    "df.withColumn('totalbytes', col('dlbytes') + col('ulbytes')).show(5)"
   ]
  },
  {
   "cell_type": "code",
   "execution_count": null,
   "metadata": {
    "colab": {
     "base_uri": "https://localhost:8080/"
    },
    "executionInfo": {
     "elapsed": 420,
     "status": "ok",
     "timestamp": 1705213998581,
     "user": {
      "displayName": "Ivan Omazic (BionicleBear)",
      "userId": "18178661664072419302"
     },
     "user_tz": 480
    },
    "id": "J8NplrGwGA3i",
    "outputId": "f6ec9460-7289-47a9-93be-7a694b265577"
   },
   "outputs": [],
   "source": [
    "df.withColumn('year', year('date_time')).show()"
   ]
  },
  {
   "cell_type": "code",
   "execution_count": null,
   "metadata": {
    "colab": {
     "base_uri": "https://localhost:8080/"
    },
    "executionInfo": {
     "elapsed": 3,
     "status": "ok",
     "timestamp": 1705213998581,
     "user": {
      "displayName": "Ivan Omazic (BionicleBear)",
      "userId": "18178661664072419302"
     },
     "user_tz": 480
    },
    "id": "DMRsQaOPGKIg",
    "outputId": "f0014bd0-33d0-4f7d-cbbc-727412fc7bd0"
   },
   "outputs": [],
   "source": [
    "df.withColumn('txntime_milliseconds', col('txn_time') * 1000).show()"
   ]
  },
  {
   "cell_type": "code",
   "execution_count": null,
   "metadata": {
    "colab": {
     "base_uri": "https://localhost:8080/"
    },
    "executionInfo": {
     "elapsed": 477,
     "status": "ok",
     "timestamp": 1705213999057,
     "user": {
      "displayName": "Ivan Omazic (BionicleBear)",
      "userId": "18178661664072419302"
     },
     "user_tz": 480
    },
    "id": "yw7G-18aGUg-",
    "outputId": "e478b43e-dae7-42f8-af72-bf78cb56d736"
   },
   "outputs": [],
   "source": [
    "df.withColumn('device_type',\n",
    "              when(\n",
    "                  col('platform').isin('ios', 'Android'), \\\n",
    "                  'Mobile') \\\n",
    "              .otherwise('desktop')).show()"
   ]
  },
  {
   "cell_type": "code",
   "execution_count": null,
   "metadata": {
    "executionInfo": {
     "elapsed": 2,
     "status": "ok",
     "timestamp": 1705213999057,
     "user": {
      "displayName": "Ivan Omazic (BionicleBear)",
      "userId": "18178661664072419302"
     },
     "user_tz": 480
    },
    "id": "5Ql9LNNjGqzm"
   },
   "outputs": [],
   "source": [
    "df = df.dropDuplicates(['userid'])"
   ]
  },
  {
   "cell_type": "code",
   "execution_count": null,
   "metadata": {
    "colab": {
     "base_uri": "https://localhost:8080/"
    },
    "executionInfo": {
     "elapsed": 1954,
     "status": "ok",
     "timestamp": 1705214001009,
     "user": {
      "displayName": "Ivan Omazic (BionicleBear)",
      "userId": "18178661664072419302"
     },
     "user_tz": 480
    },
    "id": "TQKU1Q0tHH6e",
    "outputId": "fb389913-b0dc-4654-c330-415d2ace9ba1"
   },
   "outputs": [],
   "source": [
    "df.groupBy('userid').count().show()"
   ]
  },
  {
   "cell_type": "code",
   "execution_count": null,
   "metadata": {
    "executionInfo": {
     "elapsed": 6922,
     "status": "ok",
     "timestamp": 1705214007930,
     "user": {
      "displayName": "Ivan Omazic (BionicleBear)",
      "userId": "18178661664072419302"
     },
     "user_tz": 480
    },
    "id": "ie0e0EeUHT7-"
   },
   "outputs": [],
   "source": [
    "df.write.csv('mycsvfile')"
   ]
  },
  {
   "cell_type": "code",
   "execution_count": null,
   "metadata": {
    "executionInfo": {
     "elapsed": 3,
     "status": "ok",
     "timestamp": 1705214007930,
     "user": {
      "displayName": "Ivan Omazic (BionicleBear)",
      "userId": "18178661664072419302"
     },
     "user_tz": 480
    },
    "id": "hwf6Tq9cHorc"
   },
   "outputs": [],
   "source": [
    "df = df.coalesce(1) #only one file"
   ]
  },
  {
   "cell_type": "code",
   "execution_count": null,
   "metadata": {
    "executionInfo": {
     "elapsed": 3932,
     "status": "ok",
     "timestamp": 1705214011860,
     "user": {
      "displayName": "Ivan Omazic (BionicleBear)",
      "userId": "18178661664072419302"
     },
     "user_tz": 480
    },
    "id": "uxVsLBhiIHrk"
   },
   "outputs": [],
   "source": [
    "df.write.csv('mycsvfile2')"
   ]
  },
  {
   "cell_type": "code",
   "execution_count": null,
   "metadata": {
    "executionInfo": {
     "elapsed": 3148,
     "status": "ok",
     "timestamp": 1705214015001,
     "user": {
      "displayName": "Ivan Omazic (BionicleBear)",
      "userId": "18178661664072419302"
     },
     "user_tz": 480
    },
    "id": "Dvx8RiznHzgT"
   },
   "outputs": [],
   "source": [
    "df.write.json('myjsonfile')"
   ]
  },
  {
   "cell_type": "code",
   "execution_count": 15,
   "metadata": {
    "executionInfo": {
     "elapsed": 2,
     "status": "ok",
     "timestamp": 1705214015001,
     "user": {
      "displayName": "Ivan Omazic (BionicleBear)",
      "userId": "18178661664072419302"
     },
     "user_tz": 480
    },
    "id": "kAJ_RnYnIDDd"
   },
   "outputs": [],
   "source": [
    "from pyspark.sql.functions import when"
   ]
  },
  {
   "cell_type": "code",
   "execution_count": 16,
   "metadata": {
    "colab": {
     "base_uri": "https://localhost:8080/"
    },
    "executionInfo": {
     "elapsed": 2683,
     "status": "ok",
     "timestamp": 1705214017683,
     "user": {
      "displayName": "Ivan Omazic (BionicleBear)",
      "userId": "18178661664072419302"
     },
     "user_tz": 480
    },
    "id": "hDzFpBmFIeIf",
    "outputId": "ddb749dd-8d8c-4a46-e584-f59732476dab"
   },
   "outputs": [
    {
     "name": "stdout",
     "output_type": "stream",
     "text": [
      "+-------------------+-------------+--------------------+-------+-------+---------------+---------------+--------+--------+-----------+--------------------+--------+-----------+\n",
      "|          date_time|       userid|              domain|dlbytes|ulbytes|       clientip|       serverip| country|txn_time|http_method|          user_agent|platform|caseexample|\n",
      "+-------------------+-------------+--------------------+-------+-------+---------------+---------------+--------+--------+-----------+--------------------+--------+-----------+\n",
      "|2023-10-04 11:37:11|7773153683656|    ryan-wells.co.uk| 872807| 741526|142.132.219.110|  62.42.184.180| England|    2.33|      HTTPS|Mozilla/5.0 (Wind...| Android|      large|\n",
      "|2023-10-04 12:17:07|1886351675683|         hopkins.org|  50898| 529504|  184.205.48.78|  152.123.41.39|   Wales|     1.2|       HTTP|Mozilla/5.0 (Wind...| Android|      small|\n",
      "|2023-10-02 23:25:12|1597721345356|           evans.com| 964276| 952420|  189.30.60.163|  68.171.236.18|Scotland|    1.32|       HTTP|Mozilla/5.0 (Wind...|   Linux|      large|\n",
      "|2023-10-03 09:43:11|9766845800247|           kelly.com| 212529| 811887|   13.144.79.35|  63.141.80.109| England|    2.58|      HTTPS|Opera/8.54.(X11; ...| Android|      small|\n",
      "|2023-10-01 08:16:46|1546762097287|richardson-walker...| 553626| 901428| 143.74.163.248|  26.253.17.223|   Wales|    1.53|       HTTP|Mozilla/5.0 (Maci...| Windows|      large|\n",
      "|2023-10-01 13:49:39|8949163845658|            lowe.com|  43595|  77597|  148.15.214.37|     4.33.9.229| England|    1.68|       HTTP|Mozilla/5.0 (Linu...|     Mac|      small|\n",
      "|2023-10-02 02:22:30|8035878244556|            webb.com| 270574|  94701|  73.78.116.223|    82.69.61.25| England|    2.19|      HTTPS|Mozilla/5.0 (Wind...| Windows|      small|\n",
      "|2023-10-03 11:48:19|3400788003398|           watts.com| 342378| 715125|  142.37.27.131| 41.152.174.228|Scotland|    2.92|       HTTP|Opera/8.53.(Windo...|   Linux|      small|\n",
      "|2023-10-02 12:45:41|7007039082075|   kemp-robinson.org| 613214| 239494| 80.245.249.129|198.186.190.149|Scotland|    1.78|      HTTPS|Mozilla/5.0 (X11;...|     Mac|      large|\n",
      "|2023-10-03 08:59:16|0893913938070|           smith.com| 643362| 146752|    21.239.54.8|  136.170.182.7| England|    0.58|      HTTPS|Mozilla/5.0 (Andr...| Windows|      large|\n",
      "|2023-10-05 21:36:53|3102780874474|   wilson-butler.com| 603759| 616834| 57.113.168.155|162.232.192.227| Ireland|    2.42|      HTTPS|Mozilla/5.0 (Andr...|     Mac|      large|\n",
      "|2023-10-02 03:26:59|7214908687567|            hunt.com| 707145| 995270|  98.141.197.15| 107.239.246.38| England|    1.95|       HTTP|Opera/9.31.(Windo...|     iOS|      large|\n",
      "|2023-10-04 03:09:58|0291279030607|           jones.org| 640439| 373389|       98.3.2.5|   148.44.76.68|   Wales|    2.47|       HTTP|Mozilla/5.0 (Maci...|     Mac|      large|\n",
      "|2023-10-02 10:16:25|1042763747479|         thomas.info| 764956| 952036|187.182.236.233|   85.61.114.36| England|    1.42|       HTTP|Mozilla/5.0 (Andr...| Android|      large|\n",
      "|2023-10-05 02:22:40|2322746906974|franklin-whittake...| 651947| 183369| 26.138.157.236| 142.176.162.10| Ireland|    1.35|      HTTPS|Opera/8.74.(Windo...|   Linux|      large|\n",
      "|2023-10-01 18:12:17|0316289568864|         godfrey.com| 428528|  78946| 65.224.238.100|  128.90.192.17| Ireland|    1.61|       HTTP|Opera/9.16.(Windo...|   Linux|      small|\n",
      "|2023-10-01 20:09:39|1093994305313|          wilson.com|  23710|  84942|  129.221.29.97|  18.191.29.117|   Wales|    1.25|       HTTP|Opera/9.17.(X11; ...|     iOS|      small|\n",
      "|2023-10-03 04:45:13|7035874783254|      cole-jones.com| 447095| 390148|   94.98.62.187|172.173.228.171|   Wales|    2.43|       HTTP|Mozilla/5.0 (comp...| Android|      small|\n",
      "|2023-10-05 18:48:05|7798663185667|            hall.net| 809701|  11489|  82.141.112.88|  110.103.99.71| England|    2.66|      HTTPS|Mozilla/5.0 (iPad...|     iOS|      large|\n",
      "|2023-10-02 13:47:58|0150443056843|            todd.com| 204941| 114006|   161.8.210.40| 208.230.61.215|Scotland|    2.69|       HTTP|Opera/9.36.(X11; ...| Android|      small|\n",
      "+-------------------+-------------+--------------------+-------+-------+---------------+---------------+--------+--------+-----------+--------------------+--------+-----------+\n",
      "only showing top 20 rows\n",
      "\n"
     ]
    }
   ],
   "source": [
    "df.withColumn(\"caseexample\", when(df[\"dlbytes\"] > 500000, \"large\").otherwise(\"small\")).show()"
   ]
  },
  {
   "cell_type": "code",
   "execution_count": 17,
   "metadata": {
    "executionInfo": {
     "elapsed": 2,
     "status": "ok",
     "timestamp": 1705214017684,
     "user": {
      "displayName": "Ivan Omazic (BionicleBear)",
      "userId": "18178661664072419302"
     },
     "user_tz": 480
    },
    "id": "JTT8EAuNIq6M"
   },
   "outputs": [],
   "source": [
    "from pyspark.sql.functions import isnull"
   ]
  },
  {
   "cell_type": "code",
   "execution_count": 18,
   "metadata": {
    "colab": {
     "base_uri": "https://localhost:8080/"
    },
    "executionInfo": {
     "elapsed": 2988,
     "status": "ok",
     "timestamp": 1705214020670,
     "user": {
      "displayName": "Ivan Omazic (BionicleBear)",
      "userId": "18178661664072419302"
     },
     "user_tz": 480
    },
    "id": "gof7fZBqJASP",
    "outputId": "ae3a0cdf-f72c-49e7-d200-75525f4080c1"
   },
   "outputs": [
    {
     "name": "stdout",
     "output_type": "stream",
     "text": [
      "+-------------------+-------------+--------------------+-------+-------+---------------+---------------+--------+--------+-----------+--------------------+--------+-----------+\n",
      "|          date_time|       userid|              domain|dlbytes|ulbytes|       clientip|       serverip| country|txn_time|http_method|          user_agent|platform|nullexample|\n",
      "+-------------------+-------------+--------------------+-------+-------+---------------+---------------+--------+--------+-----------+--------------------+--------+-----------+\n",
      "|2023-10-04 11:37:11|7773153683656|    ryan-wells.co.uk| 872807| 741526|142.132.219.110|  62.42.184.180| England|    2.33|      HTTPS|Mozilla/5.0 (Wind...| Android|          0|\n",
      "|2023-10-04 12:17:07|1886351675683|         hopkins.org|  50898| 529504|  184.205.48.78|  152.123.41.39|   Wales|     1.2|       HTTP|Mozilla/5.0 (Wind...| Android|          0|\n",
      "|2023-10-02 23:25:12|1597721345356|           evans.com| 964276| 952420|  189.30.60.163|  68.171.236.18|Scotland|    1.32|       HTTP|Mozilla/5.0 (Wind...|   Linux|          0|\n",
      "|2023-10-03 09:43:11|9766845800247|           kelly.com| 212529| 811887|   13.144.79.35|  63.141.80.109| England|    2.58|      HTTPS|Opera/8.54.(X11; ...| Android|          0|\n",
      "|2023-10-01 08:16:46|1546762097287|richardson-walker...| 553626| 901428| 143.74.163.248|  26.253.17.223|   Wales|    1.53|       HTTP|Mozilla/5.0 (Maci...| Windows|          0|\n",
      "|2023-10-01 13:49:39|8949163845658|            lowe.com|  43595|  77597|  148.15.214.37|     4.33.9.229| England|    1.68|       HTTP|Mozilla/5.0 (Linu...|     Mac|          0|\n",
      "|2023-10-02 02:22:30|8035878244556|            webb.com| 270574|  94701|  73.78.116.223|    82.69.61.25| England|    2.19|      HTTPS|Mozilla/5.0 (Wind...| Windows|          0|\n",
      "|2023-10-03 11:48:19|3400788003398|           watts.com| 342378| 715125|  142.37.27.131| 41.152.174.228|Scotland|    2.92|       HTTP|Opera/8.53.(Windo...|   Linux|          0|\n",
      "|2023-10-02 12:45:41|7007039082075|   kemp-robinson.org| 613214| 239494| 80.245.249.129|198.186.190.149|Scotland|    1.78|      HTTPS|Mozilla/5.0 (X11;...|     Mac|          0|\n",
      "|2023-10-03 08:59:16|0893913938070|           smith.com| 643362| 146752|    21.239.54.8|  136.170.182.7| England|    0.58|      HTTPS|Mozilla/5.0 (Andr...| Windows|          0|\n",
      "|2023-10-05 21:36:53|3102780874474|   wilson-butler.com| 603759| 616834| 57.113.168.155|162.232.192.227| Ireland|    2.42|      HTTPS|Mozilla/5.0 (Andr...|     Mac|          0|\n",
      "|2023-10-02 03:26:59|7214908687567|            hunt.com| 707145| 995270|  98.141.197.15| 107.239.246.38| England|    1.95|       HTTP|Opera/9.31.(Windo...|     iOS|          0|\n",
      "|2023-10-04 03:09:58|0291279030607|           jones.org| 640439| 373389|       98.3.2.5|   148.44.76.68|   Wales|    2.47|       HTTP|Mozilla/5.0 (Maci...|     Mac|          0|\n",
      "|2023-10-02 10:16:25|1042763747479|         thomas.info| 764956| 952036|187.182.236.233|   85.61.114.36| England|    1.42|       HTTP|Mozilla/5.0 (Andr...| Android|          0|\n",
      "|2023-10-05 02:22:40|2322746906974|franklin-whittake...| 651947| 183369| 26.138.157.236| 142.176.162.10| Ireland|    1.35|      HTTPS|Opera/8.74.(Windo...|   Linux|          0|\n",
      "|2023-10-01 18:12:17|0316289568864|         godfrey.com| 428528|  78946| 65.224.238.100|  128.90.192.17| Ireland|    1.61|       HTTP|Opera/9.16.(Windo...|   Linux|          0|\n",
      "|2023-10-01 20:09:39|1093994305313|          wilson.com|  23710|  84942|  129.221.29.97|  18.191.29.117|   Wales|    1.25|       HTTP|Opera/9.17.(X11; ...|     iOS|          0|\n",
      "|2023-10-03 04:45:13|7035874783254|      cole-jones.com| 447095| 390148|   94.98.62.187|172.173.228.171|   Wales|    2.43|       HTTP|Mozilla/5.0 (comp...| Android|          0|\n",
      "|2023-10-05 18:48:05|7798663185667|            hall.net| 809701|  11489|  82.141.112.88|  110.103.99.71| England|    2.66|      HTTPS|Mozilla/5.0 (iPad...|     iOS|          0|\n",
      "|2023-10-02 13:47:58|0150443056843|            todd.com| 204941| 114006|   161.8.210.40| 208.230.61.215|Scotland|    2.69|       HTTP|Opera/9.36.(X11; ...| Android|          0|\n",
      "+-------------------+-------------+--------------------+-------+-------+---------------+---------------+--------+--------+-----------+--------------------+--------+-----------+\n",
      "only showing top 20 rows\n",
      "\n"
     ]
    }
   ],
   "source": [
    "df.withColumn(\"nullexample\", when(isnull(df[\"user_agent\"]),1).otherwise(0)).show()"
   ]
  },
  {
   "cell_type": "code",
   "execution_count": 19,
   "metadata": {
    "colab": {
     "base_uri": "https://localhost:8080/"
    },
    "executionInfo": {
     "elapsed": 2066,
     "status": "ok",
     "timestamp": 1705214022735,
     "user": {
      "displayName": "Ivan Omazic (BionicleBear)",
      "userId": "18178661664072419302"
     },
     "user_tz": 480
    },
    "id": "a4IVdWQkJJqQ",
    "outputId": "1546f3d5-043f-4c77-c95d-5a546c30e636"
   },
   "outputs": [
    {
     "name": "stdout",
     "output_type": "stream",
     "text": [
      "+-------------------+-------------+--------------------+-------+-------+---------------+---------------+--------+--------+-----------+--------------------+--------+---------------+\n",
      "|          date_time|       userid|              domain|dlbytes|ulbytes|       clientip|       serverip| country|txn_time|http_method|          user_agent|platform|transactionsize|\n",
      "+-------------------+-------------+--------------------+-------+-------+---------------+---------------+--------+--------+-----------+--------------------+--------+---------------+\n",
      "|2023-10-04 11:37:11|7773153683656|    ryan-wells.co.uk| 872807| 741526|142.132.219.110|  62.42.184.180| England|    2.33|      HTTPS|Mozilla/5.0 (Wind...| Android|          large|\n",
      "|2023-10-04 12:17:07|1886351675683|         hopkins.org|  50898| 529504|  184.205.48.78|  152.123.41.39|   Wales|     1.2|       HTTP|Mozilla/5.0 (Wind...| Android|           tiny|\n",
      "|2023-10-02 23:25:12|1597721345356|           evans.com| 964276| 952420|  189.30.60.163|  68.171.236.18|Scotland|    1.32|       HTTP|Mozilla/5.0 (Wind...|   Linux|          large|\n",
      "|2023-10-03 09:43:11|9766845800247|           kelly.com| 212529| 811887|   13.144.79.35|  63.141.80.109| England|    2.58|      HTTPS|Opera/8.54.(X11; ...| Android|          small|\n",
      "|2023-10-01 08:16:46|1546762097287|richardson-walker...| 553626| 901428| 143.74.163.248|  26.253.17.223|   Wales|    1.53|       HTTP|Mozilla/5.0 (Maci...| Windows|          large|\n",
      "|2023-10-01 13:49:39|8949163845658|            lowe.com|  43595|  77597|  148.15.214.37|     4.33.9.229| England|    1.68|       HTTP|Mozilla/5.0 (Linu...|     Mac|           tiny|\n",
      "|2023-10-02 02:22:30|8035878244556|            webb.com| 270574|  94701|  73.78.116.223|    82.69.61.25| England|    2.19|      HTTPS|Mozilla/5.0 (Wind...| Windows|           tiny|\n",
      "|2023-10-03 11:48:19|3400788003398|           watts.com| 342378| 715125|  142.37.27.131| 41.152.174.228|Scotland|    2.92|       HTTP|Opera/8.53.(Windo...|   Linux|         medium|\n",
      "|2023-10-02 12:45:41|7007039082075|   kemp-robinson.org| 613214| 239494| 80.245.249.129|198.186.190.149|Scotland|    1.78|      HTTPS|Mozilla/5.0 (X11;...|     Mac|          small|\n",
      "|2023-10-03 08:59:16|0893913938070|           smith.com| 643362| 146752|    21.239.54.8|  136.170.182.7| England|    0.58|      HTTPS|Mozilla/5.0 (Andr...| Windows|           tiny|\n",
      "|2023-10-05 21:36:53|3102780874474|   wilson-butler.com| 603759| 616834| 57.113.168.155|162.232.192.227| Ireland|    2.42|      HTTPS|Mozilla/5.0 (Andr...|     Mac|          large|\n",
      "|2023-10-02 03:26:59|7214908687567|            hunt.com| 707145| 995270|  98.141.197.15| 107.239.246.38| England|    1.95|       HTTP|Opera/9.31.(Windo...|     iOS|          large|\n",
      "|2023-10-04 03:09:58|0291279030607|           jones.org| 640439| 373389|       98.3.2.5|   148.44.76.68|   Wales|    2.47|       HTTP|Mozilla/5.0 (Maci...|     Mac|         medium|\n",
      "|2023-10-02 10:16:25|1042763747479|         thomas.info| 764956| 952036|187.182.236.233|   85.61.114.36| England|    1.42|       HTTP|Mozilla/5.0 (Andr...| Android|          large|\n",
      "|2023-10-05 02:22:40|2322746906974|franklin-whittake...| 651947| 183369| 26.138.157.236| 142.176.162.10| Ireland|    1.35|      HTTPS|Opera/8.74.(Windo...|   Linux|          small|\n",
      "|2023-10-01 18:12:17|0316289568864|         godfrey.com| 428528|  78946| 65.224.238.100|  128.90.192.17| Ireland|    1.61|       HTTP|Opera/9.16.(Windo...|   Linux|           tiny|\n",
      "|2023-10-01 20:09:39|1093994305313|          wilson.com|  23710|  84942|  129.221.29.97|  18.191.29.117|   Wales|    1.25|       HTTP|Opera/9.17.(X11; ...|     iOS|           tiny|\n",
      "|2023-10-03 04:45:13|7035874783254|      cole-jones.com| 447095| 390148|   94.98.62.187|172.173.228.171|   Wales|    2.43|       HTTP|Mozilla/5.0 (comp...| Android|         medium|\n",
      "|2023-10-05 18:48:05|7798663185667|            hall.net| 809701|  11489|  82.141.112.88|  110.103.99.71| England|    2.66|      HTTPS|Mozilla/5.0 (iPad...|     iOS|           tiny|\n",
      "|2023-10-02 13:47:58|0150443056843|            todd.com| 204941| 114006|   161.8.210.40| 208.230.61.215|Scotland|    2.69|       HTTP|Opera/9.36.(X11; ...| Android|           tiny|\n",
      "+-------------------+-------------+--------------------+-------+-------+---------------+---------------+--------+--------+-----------+--------------------+--------+---------------+\n",
      "only showing top 20 rows\n",
      "\n"
     ]
    }
   ],
   "source": [
    "df.withColumn(\"transactionsize\",\n",
    "\n",
    "              when((df[\"dlbytes\"] > 500000) & (df[\"ulbytes\"] > 500000), \"large\")  \\\n",
    "\n",
    "              .when((df[\"dlbytes\"] > 250000) & (df[\"ulbytes\"] > 250000), \"medium\") \\\n",
    "\n",
    "              .when((df[\"dlbytes\"] > 150000) & (df[\"ulbytes\"] > 150000), \"small\")\n",
    "\n",
    "    .otherwise(\"tiny\")).show()"
   ]
  },
  {
   "cell_type": "code",
   "execution_count": 20,
   "metadata": {
    "colab": {
     "base_uri": "https://localhost:8080/"
    },
    "executionInfo": {
     "elapsed": 1476,
     "status": "ok",
     "timestamp": 1705214024210,
     "user": {
      "displayName": "Ivan Omazic (BionicleBear)",
      "userId": "18178661664072419302"
     },
     "user_tz": 480
    },
    "id": "c3K1tF6oJ1-W",
    "outputId": "700d3d90-3af1-4b56-ee5d-60590772966f"
   },
   "outputs": [
    {
     "name": "stdout",
     "output_type": "stream",
     "text": [
      "+-------------------+-------------+--------------------+-------+-------+---------------+---------------+--------+--------+-----------+--------------------+--------+--------+\n",
      "|          date_time|       userid|              domain|dlbytes|ulbytes|       clientip|       serverip| country|txn_time|http_method|          user_agent|platform|solution|\n",
      "+-------------------+-------------+--------------------+-------+-------+---------------+---------------+--------+--------+-----------+--------------------+--------+--------+\n",
      "|2023-10-04 11:37:11|7773153683656|    ryan-wells.co.uk| 872807| 741526|142.132.219.110|  62.42.184.180| England|    2.33|      HTTPS|Mozilla/5.0 (Wind...| Android|  active|\n",
      "|2023-10-04 12:17:07|1886351675683|         hopkins.org|  50898| 529504|  184.205.48.78|  152.123.41.39|   Wales|     1.2|       HTTP|Mozilla/5.0 (Wind...| Android|inactive|\n",
      "|2023-10-02 23:25:12|1597721345356|           evans.com| 964276| 952420|  189.30.60.163|  68.171.236.18|Scotland|    1.32|       HTTP|Mozilla/5.0 (Wind...|   Linux|inactive|\n",
      "|2023-10-03 09:43:11|9766845800247|           kelly.com| 212529| 811887|   13.144.79.35|  63.141.80.109| England|    2.58|      HTTPS|Opera/8.54.(X11; ...| Android|  active|\n",
      "|2023-10-01 08:16:46|1546762097287|richardson-walker...| 553626| 901428| 143.74.163.248|  26.253.17.223|   Wales|    1.53|       HTTP|Mozilla/5.0 (Maci...| Windows|inactive|\n",
      "|2023-10-01 13:49:39|8949163845658|            lowe.com|  43595|  77597|  148.15.214.37|     4.33.9.229| England|    1.68|       HTTP|Mozilla/5.0 (Linu...|     Mac|  active|\n",
      "|2023-10-02 02:22:30|8035878244556|            webb.com| 270574|  94701|  73.78.116.223|    82.69.61.25| England|    2.19|      HTTPS|Mozilla/5.0 (Wind...| Windows|  active|\n",
      "|2023-10-03 11:48:19|3400788003398|           watts.com| 342378| 715125|  142.37.27.131| 41.152.174.228|Scotland|    2.92|       HTTP|Opera/8.53.(Windo...|   Linux|  active|\n",
      "|2023-10-02 12:45:41|7007039082075|   kemp-robinson.org| 613214| 239494| 80.245.249.129|198.186.190.149|Scotland|    1.78|      HTTPS|Mozilla/5.0 (X11;...|     Mac|  active|\n",
      "|2023-10-03 08:59:16|0893913938070|           smith.com| 643362| 146752|    21.239.54.8|  136.170.182.7| England|    0.58|      HTTPS|Mozilla/5.0 (Andr...| Windows|inactive|\n",
      "|2023-10-05 21:36:53|3102780874474|   wilson-butler.com| 603759| 616834| 57.113.168.155|162.232.192.227| Ireland|    2.42|      HTTPS|Mozilla/5.0 (Andr...|     Mac|  active|\n",
      "|2023-10-02 03:26:59|7214908687567|            hunt.com| 707145| 995270|  98.141.197.15| 107.239.246.38| England|    1.95|       HTTP|Opera/9.31.(Windo...|     iOS|  active|\n",
      "|2023-10-04 03:09:58|0291279030607|           jones.org| 640439| 373389|       98.3.2.5|   148.44.76.68|   Wales|    2.47|       HTTP|Mozilla/5.0 (Maci...|     Mac|  active|\n",
      "|2023-10-02 10:16:25|1042763747479|         thomas.info| 764956| 952036|187.182.236.233|   85.61.114.36| England|    1.42|       HTTP|Mozilla/5.0 (Andr...| Android|inactive|\n",
      "|2023-10-05 02:22:40|2322746906974|franklin-whittake...| 651947| 183369| 26.138.157.236| 142.176.162.10| Ireland|    1.35|      HTTPS|Opera/8.74.(Windo...|   Linux|inactive|\n",
      "|2023-10-01 18:12:17|0316289568864|         godfrey.com| 428528|  78946| 65.224.238.100|  128.90.192.17| Ireland|    1.61|       HTTP|Opera/9.16.(Windo...|   Linux|  active|\n",
      "|2023-10-01 20:09:39|1093994305313|          wilson.com|  23710|  84942|  129.221.29.97|  18.191.29.117|   Wales|    1.25|       HTTP|Opera/9.17.(X11; ...|     iOS|inactive|\n",
      "|2023-10-03 04:45:13|7035874783254|      cole-jones.com| 447095| 390148|   94.98.62.187|172.173.228.171|   Wales|    2.43|       HTTP|Mozilla/5.0 (comp...| Android|  active|\n",
      "|2023-10-05 18:48:05|7798663185667|            hall.net| 809701|  11489|  82.141.112.88|  110.103.99.71| England|    2.66|      HTTPS|Mozilla/5.0 (iPad...|     iOS|  active|\n",
      "|2023-10-02 13:47:58|0150443056843|            todd.com| 204941| 114006|   161.8.210.40| 208.230.61.215|Scotland|    2.69|       HTTP|Opera/9.36.(X11; ...| Android|  active|\n",
      "+-------------------+-------------+--------------------+-------+-------+---------------+---------------+--------+--------+-----------+--------------------+--------+--------+\n",
      "only showing top 20 rows\n",
      "\n"
     ]
    }
   ],
   "source": [
    "df.withColumn(\"solution\", when(df[\"txn_time\"] > 1.6, \"active\").otherwise(\"inactive\")).show()"
   ]
  },
  {
   "cell_type": "code",
   "execution_count": 21,
   "metadata": {
    "executionInfo": {
     "elapsed": 1,
     "status": "ok",
     "timestamp": 1705214024210,
     "user": {
      "displayName": "Ivan Omazic (BionicleBear)",
      "userId": "18178661664072419302"
     },
     "user_tz": 480
    },
    "id": "JYG3WjJeMDVG"
   },
   "outputs": [],
   "source": [
    "from pyspark.sql.window import Window\n",
    "from pyspark.sql.functions import rank, col, lead, lag, row_number, avg, sum"
   ]
  },
  {
   "cell_type": "code",
   "execution_count": 22,
   "metadata": {
    "executionInfo": {
     "elapsed": 1,
     "status": "ok",
     "timestamp": 1705214024210,
     "user": {
      "displayName": "Ivan Omazic (BionicleBear)",
      "userId": "18178661664072419302"
     },
     "user_tz": 480
    },
    "id": "cg50KBX8NJ0t"
   },
   "outputs": [],
   "source": [
    "window_spec = Window.partitionBy(\"country\").orderBy(df[\"dlbytes\"].desc())"
   ]
  },
  {
   "cell_type": "code",
   "execution_count": 23,
   "metadata": {
    "colab": {
     "base_uri": "https://localhost:8080/"
    },
    "executionInfo": {
     "elapsed": 3186,
     "status": "ok",
     "timestamp": 1705214027395,
     "user": {
      "displayName": "Ivan Omazic (BionicleBear)",
      "userId": "18178661664072419302"
     },
     "user_tz": 480
    },
    "id": "xXZZSysdNZEV",
    "outputId": "9a171c58-f09b-4759-a5e9-970ecf811add"
   },
   "outputs": [
    {
     "name": "stdout",
     "output_type": "stream",
     "text": [
      "+-------------------+-------------+--------------------+-------+-------+---------------+---------------+-------+--------+-----------+--------------------+--------+----+\n",
      "|          date_time|       userid|              domain|dlbytes|ulbytes|       clientip|       serverip|country|txn_time|http_method|          user_agent|platform|rank|\n",
      "+-------------------+-------------+--------------------+-------+-------+---------------+---------------+-------+--------+-----------+--------------------+--------+----+\n",
      "|2023-10-04 01:21:13|3144906514401|            page.com| 999946| 769910| 133.226.106.69|  43.150.184.67|  Wales|    2.73|       HTTP|Mozilla/5.0 (comp...| Windows|   1|\n",
      "|2023-10-05 14:52:07|2736616479279|         watkins.com| 999912| 181045|  192.85.230.16|134.179.193.195|  Wales|    2.31|       HTTP|Mozilla/5.0 (comp...|     Mac|   2|\n",
      "|2023-10-01 03:19:03|2236747991119|   edwards-patel.com| 999910| 283407|   78.178.15.26|   132.242.86.8|  Wales|    1.92|       HTTP|Mozilla/5.0 (iPod...|     Mac|   3|\n",
      "|2023-10-01 23:03:56|4887900415183|   obrien-davies.biz| 999862| 592320| 14.115.162.182| 75.140.101.114|  Wales|    0.56|       HTTP|Mozilla/5.0 (Wind...|   Linux|   4|\n",
      "|2023-10-01 17:21:28|1006503238036|   evans-clarke.info| 999847| 256124|  67.147.205.26| 174.149.86.105|  Wales|    1.18|      HTTPS|Mozilla/5.0 (Wind...| Windows|   5|\n",
      "|2023-10-04 15:41:32|7880960653855|bennett-phillips.org| 999796| 165615|  49.33.106.105|   42.109.20.30|  Wales|     0.6|       HTTP|Mozilla/5.0 (comp...|     Mac|   6|\n",
      "|2023-10-04 19:43:01|5693808975373|           moore.com| 999795| 164739| 87.246.198.215|   155.95.71.18|  Wales|    2.27|       HTTP|Opera/8.67.(X11; ...| Android|   7|\n",
      "|2023-10-02 18:33:41|5055662748737|        woodward.biz| 999774| 256933|118.209.136.212| 167.230.244.79|  Wales|    0.62|      HTTPS|Mozilla/5.0 (iPod...|   Linux|   8|\n",
      "|2023-10-04 03:03:35|6018090253293|           smith.com| 999731| 253840|   30.23.194.87| 144.81.198.104|  Wales|    0.77|      HTTPS|Mozilla/5.0 (Andr...|     Mac|   9|\n",
      "|2023-10-01 12:15:47|4668299831317|marshall-woodward...| 999721|   7645|  6.210.253.234| 188.86.141.248|  Wales|    0.16|      HTTPS|Mozilla/5.0 (comp...|     iOS|  10|\n",
      "|2023-10-05 23:39:56|8858077846640|    brooks-smith.biz| 999709|  49322|    186.1.65.79| 216.89.233.226|  Wales|    0.03|       HTTP|Mozilla/5.0 (Wind...|     Mac|  11|\n",
      "|2023-10-05 11:50:20|0685363163107|    foster-owens.com| 999690| 599828|170.206.147.156|   84.69.14.246|  Wales|    1.68|      HTTPS|Mozilla/5.0 (Linu...|     Mac|  12|\n",
      "|2023-10-01 13:16:11|8119931903100|           payne.com| 999656| 135282|  199.87.144.27| 103.127.200.45|  Wales|    0.68|      HTTPS|Opera/8.89.(Windo...|   Linux|  13|\n",
      "|2023-10-05 12:32:36|7627849534765|            cook.com| 999581| 361129|170.137.184.123|  221.135.7.188|  Wales|     2.3|       HTTP|Mozilla/5.0 (comp...|   Linux|  14|\n",
      "|2023-10-04 05:15:27|4437061304922|   hughes-palmer.com|  99956| 778694| 28.216.104.138| 188.155.238.53|  Wales|    1.52|       HTTP|Opera/9.83.(X11; ...|   Linux|  15|\n",
      "|2023-10-01 00:45:34|8897406817755|     king-wright.net| 999492| 380118| 164.194.156.14|   123.66.74.36|  Wales|    0.01|      HTTPS|Mozilla/5.0 (Maci...|   Linux|  16|\n",
      "|2023-10-03 02:16:12|0952129850008|   davies-akhtar.com| 999484| 254097|   37.108.90.32| 194.123.54.143|  Wales|    2.58|       HTTP|Opera/9.31.(X11; ...|     Mac|  17|\n",
      "|2023-10-02 21:45:08|3702122568697|          barton.net| 999482| 822537|  152.77.21.201| 116.161.42.152|  Wales|    1.54|       HTTP|Mozilla/5.0 (comp...| Windows|  18|\n",
      "|2023-10-05 07:56:06|2546924648238|        sharpe.co.uk| 999445| 532171| 189.86.205.198|100.244.104.134|  Wales|    2.67|      HTTPS|Mozilla/5.0 (Maci...|     Mac|  19|\n",
      "|2023-10-02 00:45:39|6670174872503|           kelly.com| 999395| 267577| 133.133.178.38| 151.116.236.42|  Wales|    1.52|       HTTP|Opera/8.33.(Windo...|   Linux|  20|\n",
      "+-------------------+-------------+--------------------+-------+-------+---------------+---------------+-------+--------+-----------+--------------------+--------+----+\n",
      "only showing top 20 rows\n",
      "\n"
     ]
    }
   ],
   "source": [
    "df.withColumn(\"rank\", rank().over(window_spec)).show()"
   ]
  },
  {
   "cell_type": "code",
   "execution_count": 24,
   "metadata": {
    "executionInfo": {
     "elapsed": 2,
     "status": "ok",
     "timestamp": 1705214027395,
     "user": {
      "displayName": "Ivan Omazic (BionicleBear)",
      "userId": "18178661664072419302"
     },
     "user_tz": 480
    },
    "id": "iGwwLkubNhql"
   },
   "outputs": [],
   "source": [
    "window_spec = Window.partitionBy(\"country\").orderBy(\"date_time\")"
   ]
  },
  {
   "cell_type": "code",
   "execution_count": 25,
   "metadata": {
    "colab": {
     "base_uri": "https://localhost:8080/"
    },
    "executionInfo": {
     "elapsed": 2243,
     "status": "ok",
     "timestamp": 1705214029637,
     "user": {
      "displayName": "Ivan Omazic (BionicleBear)",
      "userId": "18178661664072419302"
     },
     "user_tz": 480
    },
    "id": "rPUaSgZxOepZ",
    "outputId": "235c76c5-daaf-4ca1-fa47-a1d99c451500"
   },
   "outputs": [
    {
     "name": "stdout",
     "output_type": "stream",
     "text": [
      "+-------------------+-------------+-------------------+-------+-------+---------------+---------------+-------+--------+-----------+--------------------+--------+----------+\n",
      "|          date_time|       userid|             domain|dlbytes|ulbytes|       clientip|       serverip|country|txn_time|http_method|          user_agent|platform|row_number|\n",
      "+-------------------+-------------+-------------------+-------+-------+---------------+---------------+-------+--------+-----------+--------------------+--------+----------+\n",
      "|2023-10-01 00:00:01|9935183354270|   white-murray.biz| 196289| 359714|223.212.132.129| 204.235.216.11|  Wales|    1.72|       HTTP|Mozilla/5.0 (comp...|     Mac|         1|\n",
      "|2023-10-01 00:00:01|0434470039855|    pritchard.co.uk| 350605| 860883|  70.236.57.196| 33.243.179.115|  Wales|     0.4|       HTTP|Mozilla/5.0 (Maci...| Android|         2|\n",
      "|2023-10-01 00:00:37|0253415742384|      wheeler.co.uk| 613899|  56659| 137.71.136.215| 128.248.57.164|  Wales|    0.67|      HTTPS|Mozilla/5.0 (comp...|     Mac|         3|\n",
      "|2023-10-01 00:00:53|2725911144553|          lewis.com| 427126| 527745|   124.152.0.67|   78.180.149.9|  Wales|    2.18|      HTTPS|Mozilla/5.0 (comp...|     Mac|         4|\n",
      "|2023-10-01 00:01:15|5209250274907|          mason.com| 776949| 127553|    70.80.2.225| 210.37.227.198|  Wales|     0.7|      HTTPS|Mozilla/5.0 (Maci...|     iOS|         5|\n",
      "|2023-10-01 00:01:58|4420146581353|  mason-godfrey.biz| 143497| 433267|   16.27.247.56|    6.62.106.99|  Wales|    2.03|      HTTPS|Mozilla/5.0 (Wind...|     iOS|         6|\n",
      "|2023-10-01 00:02:01|6910031214959| butcher-young.info| 217842| 189690|   137.138.6.77|  147.143.6.163|  Wales|    1.42|       HTTP|Mozilla/5.0 (Maci...| Windows|         7|\n",
      "|2023-10-01 00:02:23|2132265512427|  dixon-roberts.com| 190118| 740638| 132.223.79.199|107.156.176.171|  Wales|    0.44|      HTTPS|Opera/9.61.(X11; ...|     iOS|         8|\n",
      "|2023-10-01 00:02:54|8439315970767|        jenkins.com| 445874| 220617|194.114.121.118| 159.219.49.230|  Wales|    0.43|       HTTP|Opera/8.48.(X11; ...| Windows|         9|\n",
      "|2023-10-01 00:03:28|8395569790526|          hayes.com| 901828| 251710|114.185.183.112|  14.33.205.237|  Wales|    0.51|      HTTPS|Mozilla/5.0 (X11;...|   Linux|        10|\n",
      "|2023-10-01 00:03:35|6869756188899| field-harrison.com| 601887| 352761|    44.76.89.98| 18.183.191.136|  Wales|    1.48|      HTTPS|Mozilla/5.0 (Maci...| Android|        11|\n",
      "|2023-10-01 00:04:24|6736750669561|        wilkins.org| 395311| 816198|    4.103.22.45| 45.128.120.154|  Wales|    1.84|       HTTP|Mozilla/5.0 (iPho...| Windows|        12|\n",
      "|2023-10-01 00:04:36|0749005929294| horton-russell.net| 668268| 560040|216.121.180.252| 219.202.88.124|  Wales|    1.29|       HTTP|Opera/9.71.(Windo...| Android|        13|\n",
      "|2023-10-01 00:05:49|1717165922988|          cooke.com| 472646| 661390|  80.53.175.183| 74.191.246.234|  Wales|     0.5|      HTTPS|Mozilla/5.0 (Maci...|     iOS|        14|\n",
      "|2023-10-01 00:07:01|0547681341140|      dickinson.com| 905884| 694328|  168.240.47.96|212.215.101.172|  Wales|    0.56|      HTTPS|Mozilla/5.0 (comp...|     Mac|        15|\n",
      "|2023-10-01 00:07:21|6066852294988|           cook.net| 538267| 897596|   76.225.60.17|184.188.215.209|  Wales|     2.1|       HTTP|Opera/9.38.(Windo...|     Mac|        16|\n",
      "|2023-10-01 00:07:27|6289596409095|    hunt-parker.biz|  46345| 486583|  80.82.251.104|   167.164.1.30|  Wales|    2.11|       HTTP|Opera/9.80.(X11; ...|     Mac|        17|\n",
      "|2023-10-01 00:07:45|4977531272731|        wheeler.com|  69872| 788981| 118.63.173.252|163.192.247.117|  Wales|    1.07|       HTTP|Opera/8.85.(Windo...| Windows|        18|\n",
      "|2023-10-01 00:08:04|6764337702613|           hyde.com|  50913| 520643|   88.160.9.132| 140.213.57.233|  Wales|    0.55|      HTTPS|Mozilla/5.0 (iPad...|     iOS|        19|\n",
      "|2023-10-01 00:10:25|6760806727862|shepherd-clarke.com| 830295|  36852|  12.114.108.65|   23.156.210.8|  Wales|     0.8|      HTTPS|Opera/8.81.(X11; ...| Android|        20|\n",
      "+-------------------+-------------+-------------------+-------+-------+---------------+---------------+-------+--------+-----------+--------------------+--------+----------+\n",
      "only showing top 20 rows\n",
      "\n"
     ]
    }
   ],
   "source": [
    "df.withColumn(\"row_number\", row_number().over(window_spec)).show()"
   ]
  },
  {
   "cell_type": "code",
   "execution_count": 26,
   "metadata": {
    "executionInfo": {
     "elapsed": 1,
     "status": "ok",
     "timestamp": 1705214029637,
     "user": {
      "displayName": "Ivan Omazic (BionicleBear)",
      "userId": "18178661664072419302"
     },
     "user_tz": 480
    },
    "id": "sD41Vb7OOn7p"
   },
   "outputs": [],
   "source": [
    "window_spec = Window.partitionBy().orderBy(\"date_time\")"
   ]
  },
  {
   "cell_type": "code",
   "execution_count": 27,
   "metadata": {
    "colab": {
     "base_uri": "https://localhost:8080/"
    },
    "executionInfo": {
     "elapsed": 3944,
     "status": "ok",
     "timestamp": 1705214033580,
     "user": {
      "displayName": "Ivan Omazic (BionicleBear)",
      "userId": "18178661664072419302"
     },
     "user_tz": 480
    },
    "id": "-2_I_pERPeFf",
    "outputId": "f4586005-6e7c-42e6-ae8b-f81b08016710"
   },
   "outputs": [
    {
     "name": "stdout",
     "output_type": "stream",
     "text": [
      "+-------------------+-------------+--------------------+-------+-------+---------------+---------------+--------+--------+-----------+--------------------+--------+----------+\n",
      "|          date_time|       userid|              domain|dlbytes|ulbytes|       clientip|       serverip| country|txn_time|http_method|          user_agent|platform|next_bytes|\n",
      "+-------------------+-------------+--------------------+-------+-------+---------------+---------------+--------+--------+-----------+--------------------+--------+----------+\n",
      "|2023-10-01 00:00:01|6242602789270|      ellis-hale.com|  60865| 378320|    65.219.1.13|      2.4.27.23| Ireland|    1.89|      HTTPS|Opera/9.61.(X11; ...|   Linux|    196289|\n",
      "|2023-10-01 00:00:01|9935183354270|    white-murray.biz| 196289| 359714|223.212.132.129| 204.235.216.11|   Wales|    1.72|       HTTP|Mozilla/5.0 (comp...|     Mac|    350605|\n",
      "|2023-10-01 00:00:01|0434470039855|     pritchard.co.uk| 350605| 860883|  70.236.57.196| 33.243.179.115|   Wales|     0.4|       HTTP|Mozilla/5.0 (Maci...| Android|    210027|\n",
      "|2023-10-01 00:00:04|2729688430693|    jones-slater.com| 210027| 225830|  196.137.2.236|   105.44.8.190|Scotland|    2.29|      HTTPS|Mozilla/5.0 (iPod...|     Mac|    523144|\n",
      "|2023-10-01 00:00:26|0013344619567|          rogers.com| 523144| 629889|   81.57.118.57| 181.88.216.240| Ireland|    2.08|       HTTP|Mozilla/5.0 (iPod...|   Linux|     26727|\n",
      "|2023-10-01 00:00:32|4226878905650|  booth-phillips.com|  26727| 443163| 187.104.23.174|    143.158.9.2| Ireland|    0.34|      HTTPS|Mozilla/5.0 (Maci...|     Mac|    453615|\n",
      "|2023-10-01 00:00:33|1257097244953|        sinclair.com| 453615| 101344|    21.7.230.27|  96.228.72.187| England|    2.81|       HTTP|Mozilla/5.0 (Maci...|     Mac|    613899|\n",
      "|2023-10-01 00:00:37|0253415742384|       wheeler.co.uk| 613899|  56659| 137.71.136.215| 128.248.57.164|   Wales|    0.67|      HTTPS|Mozilla/5.0 (comp...|     Mac|    115888|\n",
      "|2023-10-01 00:00:38|6618513743757|        metcalfe.org| 115888| 541609|    20.96.26.69|    54.17.5.252|Scotland|    1.08|       HTTP|Mozilla/5.0 (Maci...| Windows|    385154|\n",
      "|2023-10-01 00:00:39|2742638991362|roberts-mitchell.com| 385154| 852843|  22.109.67.174|  153.29.23.221|Scotland|    2.15|       HTTP|Mozilla/5.0 (X11;...|   Linux|    825479|\n",
      "|2023-10-01 00:00:43|9362066668508|           duffy.biz| 825479| 779228|  88.121.104.58|  69.180.131.65| England|    2.29|       HTTP|Mozilla/5.0 (Andr...|   Linux|    692831|\n",
      "|2023-10-01 00:00:52|6953298810699|       lane-hale.net| 692831| 853146|   72.226.90.89|128.204.178.216| Ireland|    2.93|       HTTP|Mozilla/5.0 (iPod...| Android|    427126|\n",
      "|2023-10-01 00:00:53|2725911144553|           lewis.com| 427126| 527745|   124.152.0.67|   78.180.149.9|   Wales|    2.18|      HTTPS|Mozilla/5.0 (comp...|     Mac|    279175|\n",
      "|2023-10-01 00:00:53|7212425126143|        mckenzie.com| 279175| 314280|   85.72.253.46| 179.225.55.203| England|    1.15|       HTTP|Opera/8.11.(Windo...| Android|    947893|\n",
      "|2023-10-01 00:00:56|5679480964263|          cooper.com| 947893| 519038|    41.64.61.18|  160.38.86.197| Ireland|    2.84|      HTTPS|Mozilla/5.0 (iPad...|     iOS|     51447|\n",
      "|2023-10-01 00:01:08|3749660422880|        harrison.com|  51447| 336481|123.253.193.228|   92.116.51.79| Ireland|    1.66|       HTTP|Mozilla/5.0 (iPod...| Android|    776949|\n",
      "|2023-10-01 00:01:15|5209250274907|           mason.com| 776949| 127553|    70.80.2.225| 210.37.227.198|   Wales|     0.7|      HTTPS|Mozilla/5.0 (Maci...|     iOS|     21886|\n",
      "|2023-10-01 00:01:17|6797261423662|richardson-bowen....|  21886| 435152| 172.76.147.223|   65.1.145.166|Scotland|    2.44|      HTTPS|Opera/8.97.(Windo...| Windows|    152527|\n",
      "|2023-10-01 00:01:19|4085137405483|         vincent.com| 152527| 312663| 144.49.239.213|  211.194.209.0| Ireland|    0.33|       HTTP|Mozilla/5.0 (Andr...|     iOS|    925857|\n",
      "|2023-10-01 00:01:20|4554900892058|          curtis.com| 925857| 275959|   86.70.141.37|  42.96.204.147| Ireland|    0.49|      HTTPS|Mozilla/5.0 (Maci...|   Linux|    402757|\n",
      "+-------------------+-------------+--------------------+-------+-------+---------------+---------------+--------+--------+-----------+--------------------+--------+----------+\n",
      "only showing top 20 rows\n",
      "\n"
     ]
    }
   ],
   "source": [
    "df.withColumn(\"next_bytes\", lead(\"dlbytes\").over(window_spec)).show()"
   ]
  },
  {
   "cell_type": "code",
   "execution_count": 28,
   "metadata": {
    "executionInfo": {
     "elapsed": 7,
     "status": "ok",
     "timestamp": 1705214033580,
     "user": {
      "displayName": "Ivan Omazic (BionicleBear)",
      "userId": "18178661664072419302"
     },
     "user_tz": 480
    },
    "id": "5QCBxkuwPnfj"
   },
   "outputs": [],
   "source": [
    "window_spec = Window.partitionBy(\"userid\")"
   ]
  },
  {
   "cell_type": "code",
   "execution_count": 29,
   "metadata": {
    "colab": {
     "base_uri": "https://localhost:8080/"
    },
    "executionInfo": {
     "elapsed": 2712,
     "status": "ok",
     "timestamp": 1705214036285,
     "user": {
      "displayName": "Ivan Omazic (BionicleBear)",
      "userId": "18178661664072419302"
     },
     "user_tz": 480
    },
    "id": "ZPIW6g9gQha6",
    "outputId": "3052c9cd-62d0-48e9-cfd9-9d47ad18d21e"
   },
   "outputs": [
    {
     "name": "stdout",
     "output_type": "stream",
     "text": [
      "+-------------------+-------------+-------------------+-------+-------+---------------+--------------+--------+--------+-----------+--------------------+--------+-----------+\n",
      "|          date_time|       userid|             domain|dlbytes|ulbytes|       clientip|      serverip| country|txn_time|http_method|          user_agent|platform|sumfunction|\n",
      "+-------------------+-------------+-------------------+-------+-------+---------------+--------------+--------+--------+-----------+--------------------+--------+-----------+\n",
      "|2023-10-01 11:05:24|0004910615244|         robson.org| 756778| 236550| 35.242.245.157| 85.188.139.63|Scotland|    0.83|      HTTPS|Opera/9.66.(Windo...|     iOS|  1172217.0|\n",
      "|2023-10-05 11:36:59|0004910615244|         robson.org| 415439| 639504| 35.242.245.157| 85.188.139.63|Scotland|    2.37|       HTTP|Opera/9.66.(Windo...|     iOS|  1172217.0|\n",
      "|2023-10-02 18:02:00|0007469702985|          smith.biz| 988049| 116727|  86.195.34.204|153.106.210.57| Ireland|    1.18|       HTTP|Mozilla/5.0 (comp...|   Linux|  1619695.0|\n",
      "|2023-10-01 22:42:13|0007469702985|          smith.biz| 631646| 806609|  86.195.34.204|153.106.210.57|Scotland|     0.6|      HTTPS|Mozilla/5.0 (comp...| Windows|  1619695.0|\n",
      "|2023-10-05 16:34:30|0009633130876|davies-phillips.com| 546244| 819216|   37.140.78.51|    40.4.95.67|Scotland|    0.31|      HTTPS|Opera/8.85.(X11; ...|     Mac|   546244.0|\n",
      "|2023-10-02 09:45:20|0012930422298|   rees-banks.co.uk| 367563| 261045|  171.30.238.90| 116.247.247.4|   Wales|    1.58|      HTTPS|Mozilla/5.0 (iPod...| Android|  1205934.0|\n",
      "|2023-10-05 21:02:38|0012930422298|   rees-banks.co.uk| 838371| 535407|  171.30.238.90| 116.247.247.4| England|    2.84|       HTTP|Mozilla/5.0 (iPod...| Windows|  1205934.0|\n",
      "|2023-10-05 02:49:31|0012989976074|           ryan.com| 186727| 285270|  97.61.198.125| 35.115.52.150| England|    1.09|      HTTPS|Opera/8.32.(X11; ...| Windows|   186727.0|\n",
      "|2023-10-03 04:39:45|0017256894984|     stephenson.com| 569508| 694193|  138.135.49.78|  31.66.186.60| England|    2.71|      HTTPS|Opera/9.57.(X11; ...| Windows|  1279987.0|\n",
      "|2023-10-05 10:16:50|0017256894984|     stephenson.com| 710479| 235597|  138.135.49.78|  31.66.186.60|   Wales|    0.36|      HTTPS|Opera/9.57.(X11; ...|     Mac|  1279987.0|\n",
      "|2023-10-02 09:58:03|0021965045228|          singh.com| 666113| 758342| 183.157.35.221| 15.102.89.121|   Wales|    0.01|       HTTP|Mozilla/5.0 (Maci...| Windows|  1640370.0|\n",
      "|2023-10-05 13:29:52|0021965045228|          singh.com| 974257| 691161| 183.157.35.221| 15.102.89.121| England|     1.3|       HTTP|Mozilla/5.0 (Maci...| Windows|  1640370.0|\n",
      "|2023-10-05 19:55:15|0024041687755|       williams.biz| 889239|  88760|  191.83.61.197| 172.21.44.190|   Wales|    0.77|      HTTPS|Mozilla/5.0 (Maci...|     Mac|  1869763.0|\n",
      "|2023-10-02 18:57:56|0024041687755|       williams.biz| 980524| 636333|  191.83.61.197| 172.21.44.190|   Wales|    1.63|      HTTPS|Mozilla/5.0 (Maci...|     iOS|  1869763.0|\n",
      "|2023-10-02 08:19:43|0025484554969|  barnett-singh.com| 228620| 295478|  12.80.235.224|  20.62.31.155|Scotland|    1.43|      HTTPS|Mozilla/5.0 (iPho...| Windows|   228620.0|\n",
      "|2023-10-05 12:30:25|0025889674784|          kelly.com| 529849|  88942|158.209.218.154| 96.225.195.89| Ireland|    2.21|      HTTPS|Opera/8.81.(Windo...|     iOS|   580778.0|\n",
      "|2023-10-05 14:57:57|0025889674784|          kelly.com|  50929| 820120|158.209.218.154| 96.225.195.89| Ireland|    2.22|       HTTP|Opera/8.81.(Windo...|     Mac|   580778.0|\n",
      "|2023-10-05 12:27:40|0031114146803|          field.com| 440625| 234036|  55.125.35.253|129.250.133.98| England|    2.82|      HTTPS|Mozilla/5.0 (iPho...|     iOS|  1407545.0|\n",
      "|2023-10-05 01:06:47|0031114146803|          field.com| 966920| 407851|  55.125.35.253|129.250.133.98|Scotland|    0.46|      HTTPS|Mozilla/5.0 (iPho...|   Linux|  1407545.0|\n",
      "|2023-10-05 10:43:38|0036507369284|   cameron-cole.com| 854978| 439845| 222.23.206.248|54.239.130.107|   Wales|     2.4|      HTTPS|Mozilla/5.0 (Wind...|     iOS|  1040977.0|\n",
      "+-------------------+-------------+-------------------+-------+-------+---------------+--------------+--------+--------+-----------+--------------------+--------+-----------+\n",
      "only showing top 20 rows\n",
      "\n"
     ]
    }
   ],
   "source": [
    "df.withColumn(\"sumfunction\", sum(\"dlbytes\").over(window_spec)).show()"
   ]
  },
  {
   "cell_type": "code",
   "execution_count": 30,
   "metadata": {
    "executionInfo": {
     "elapsed": 7,
     "status": "ok",
     "timestamp": 1705214036285,
     "user": {
      "displayName": "Ivan Omazic (BionicleBear)",
      "userId": "18178661664072419302"
     },
     "user_tz": 480
    },
    "id": "MmIzUsBxQqE5"
   },
   "outputs": [],
   "source": [
    "window_spec = Window.partitionBy(\"domain\")"
   ]
  },
  {
   "cell_type": "code",
   "execution_count": 31,
   "metadata": {
    "id": "dDSkH3bFRiKf"
   },
   "outputs": [
    {
     "name": "stdout",
     "output_type": "stream",
     "text": [
      "+-------------------+-------------+------------------+-------+-------+---------------+---------------+--------+--------+-----------+--------------------+--------+-----------------+\n",
      "|          date_time|       userid|            domain|dlbytes|ulbytes|       clientip|       serverip| country|txn_time|http_method|          user_agent|platform|         avgbytes|\n",
      "+-------------------+-------------+------------------+-------+-------+---------------+---------------+--------+--------+-----------+--------------------+--------+-----------------+\n",
      "|2023-10-03 12:31:47|3238665726626| adams-harding.com| 474109| 925181| 17.241.245.116|  75.184.220.53| Ireland|    1.15|       HTTP|Mozilla/5.0 (comp...| Android|         649536.0|\n",
      "|2023-10-04 20:38:52|3238665726626| adams-harding.com| 824963| 350996| 17.241.245.116|  75.184.220.53| Ireland|    1.75|      HTTPS|Mozilla/5.0 (comp...|     Mac|         649536.0|\n",
      "|2023-10-02 13:58:58|7615838967472|  adams-talbot.org| 996023| 196039|   83.227.84.18|  189.198.40.40| England|    0.16|      HTTPS|Mozilla/5.0 (Wind...| Android|         857909.0|\n",
      "|2023-10-05 09:31:41|7615838967472|  adams-talbot.org| 719795|  56778|   83.227.84.18|  189.198.40.40| England|     2.4|      HTTPS|Mozilla/5.0 (Wind...|     Mac|         857909.0|\n",
      "|2023-10-05 02:45:36|2297559380380|   adams-young.com| 720299| 789663| 210.156.194.10|  191.77.201.22|Scotland|    0.14|       HTTP|Mozilla/5.0 (iPod...|     iOS|         830377.0|\n",
      "|2023-10-01 10:50:03|2297559380380|   adams-young.com| 940455| 747167| 210.156.194.10|  191.77.201.22| England|    0.27|      HTTPS|Mozilla/5.0 (iPod...| Windows|         830377.0|\n",
      "|2023-10-04 21:12:57|2475654750978| ahmed-farrell.com| 440099| 487439|   206.113.25.1| 217.209.213.76|Scotland|    0.57|      HTTPS|Opera/8.13.(Windo...| Windows|         440099.0|\n",
      "|2023-10-05 19:15:52|5547454428201|ahmed-phillips.net| 148611| 913298|   82.62.86.186|  19.109.142.52|   Wales|    2.02|       HTTP|Mozilla/5.0 (iPho...|     Mac|         289438.0|\n",
      "|2023-10-01 01:32:07|5547454428201|ahmed-phillips.net| 430265| 678478|   82.62.86.186|  19.109.142.52|Scotland|    1.71|      HTTPS|Mozilla/5.0 (iPho...| Android|         289438.0|\n",
      "|2023-10-04 07:18:42|7004918130638|        akhtar.net| 983266| 617138|     98.2.79.48| 117.172.163.90|   Wales|    2.25|      HTTPS|Mozilla/5.0 (X11;...|     iOS|787600.4285714285|\n",
      "|2023-10-02 05:22:39|6696887723636|        akhtar.net| 897954| 450142|  170.36.185.63|218.195.159.246| Ireland|     1.2|       HTTP|Mozilla/5.0 (Wind...|     Mac|787600.4285714285|\n",
      "|2023-10-05 19:55:06|9042854540165|        akhtar.net| 943063| 532306|  185.74.85.249|  138.4.150.249| Ireland|    1.28|       HTTP|Mozilla/5.0 (iPod...| Windows|787600.4285714285|\n",
      "|2023-10-02 01:12:47|7004918130638|        akhtar.net| 899652| 629487|     98.2.79.48| 117.172.163.90|   Wales|    0.21|       HTTP|Mozilla/5.0 (X11;...|     iOS|787600.4285714285|\n",
      "|2023-10-01 13:17:44|6696887723636|        akhtar.net| 333299| 539273|  170.36.185.63|218.195.159.246|Scotland|    1.44|      HTTPS|Mozilla/5.0 (Wind...|     Mac|787600.4285714285|\n",
      "|2023-10-02 19:04:18|9042854540165|        akhtar.net| 480976| 408713|  185.74.85.249|  138.4.150.249| Ireland|    1.22|      HTTPS|Mozilla/5.0 (iPod...|     iOS|787600.4285714285|\n",
      "|2023-10-04 16:59:17|2015721343522|        akhtar.net| 974993| 962191|139.237.121.242|  38.167.130.51| England|    2.63|       HTTP|Mozilla/5.0 (comp...|     Mac|787600.4285714285|\n",
      "|2023-10-03 07:39:48|2722477779179|     alexander.net| 890738| 185255| 143.81.240.199|  5.144.163.207|   Wales|    0.62|       HTTP|Mozilla/5.0 (comp...|   Linux|478325.3333333333|\n",
      "|2023-10-05 15:25:19|9802665968470|     alexander.net| 556092| 461269|    40.6.197.39|     1.16.83.12| England|    2.14|      HTTPS|Opera/8.28.(X11; ...|     iOS|478325.3333333333|\n",
      "|2023-10-01 16:28:53|2397216184415|     alexander.net| 359536| 827431|  61.224.123.23|    24.89.90.26|   Wales|    1.77|       HTTP|Mozilla/5.0 (Maci...|     iOS|478325.3333333333|\n",
      "|2023-10-03 06:43:34|2722477779179|     alexander.net| 140268| 418367| 143.81.240.199|  5.144.163.207|   Wales|    0.54|       HTTP|Mozilla/5.0 (comp...|     iOS|478325.3333333333|\n",
      "+-------------------+-------------+------------------+-------+-------+---------------+---------------+--------+--------+-----------+--------------------+--------+-----------------+\n",
      "only showing top 20 rows\n",
      "\n"
     ]
    }
   ],
   "source": [
    "df.withColumn(\"avgbytes\", avg(\"dlbytes\").over(window_spec)).show()"
   ]
  },
  {
   "cell_type": "code",
   "execution_count": 37,
   "metadata": {
    "id": "d0u1k3KyR_Pq"
   },
   "outputs": [
    {
     "name": "stdout",
     "output_type": "stream",
     "text": [
      "+-------------------+-------------+--------------------+-------+-------+---------------+---------------+--------+--------+-----------+--------------------+--------+\n",
      "|          date_time|       userid|              domain|dlbytes|ulbytes|       clientip|       serverip| country|txn_time|http_method|          user_agent|platform|\n",
      "+-------------------+-------------+--------------------+-------+-------+---------------+---------------+--------+--------+-----------+--------------------+--------+\n",
      "|2023-10-04 11:37:11|7773153683656|    ryan-wells.co.uk| 872807| 741526|142.132.219.110|  62.42.184.180| England|    2.33|      HTTPS|Mozilla/5.0 (Wind...| Android|\n",
      "|2023-10-02 23:25:12|1597721345356|           evans.com| 964276| 952420|  189.30.60.163|  68.171.236.18|Scotland|    1.32|       HTTP|Mozilla/5.0 (Wind...|   Linux|\n",
      "|2023-10-03 09:43:11|9766845800247|           kelly.com| 212529| 811887|   13.144.79.35|  63.141.80.109| England|    2.58|      HTTPS|Opera/8.54.(X11; ...| Android|\n",
      "|2023-10-01 13:49:39|8949163845658|            lowe.com|  43595|  77597|  148.15.214.37|     4.33.9.229| England|    1.68|       HTTP|Mozilla/5.0 (Linu...|     Mac|\n",
      "|2023-10-02 02:22:30|8035878244556|            webb.com| 270574|  94701|  73.78.116.223|    82.69.61.25| England|    2.19|      HTTPS|Mozilla/5.0 (Wind...| Windows|\n",
      "|2023-10-03 11:48:19|3400788003398|           watts.com| 342378| 715125|  142.37.27.131| 41.152.174.228|Scotland|    2.92|       HTTP|Opera/8.53.(Windo...|   Linux|\n",
      "|2023-10-02 12:45:41|7007039082075|   kemp-robinson.org| 613214| 239494| 80.245.249.129|198.186.190.149|Scotland|    1.78|      HTTPS|Mozilla/5.0 (X11;...|     Mac|\n",
      "|2023-10-03 08:59:16|0893913938070|           smith.com| 643362| 146752|    21.239.54.8|  136.170.182.7| England|    0.58|      HTTPS|Mozilla/5.0 (Andr...| Windows|\n",
      "|2023-10-05 21:36:53|3102780874474|   wilson-butler.com| 603759| 616834| 57.113.168.155|162.232.192.227| Ireland|    2.42|      HTTPS|Mozilla/5.0 (Andr...|     Mac|\n",
      "|2023-10-02 03:26:59|7214908687567|            hunt.com| 707145| 995270|  98.141.197.15| 107.239.246.38| England|    1.95|       HTTP|Opera/9.31.(Windo...|     iOS|\n",
      "|2023-10-02 10:16:25|1042763747479|         thomas.info| 764956| 952036|187.182.236.233|   85.61.114.36| England|    1.42|       HTTP|Mozilla/5.0 (Andr...| Android|\n",
      "|2023-10-05 02:22:40|2322746906974|franklin-whittake...| 651947| 183369| 26.138.157.236| 142.176.162.10| Ireland|    1.35|      HTTPS|Opera/8.74.(Windo...|   Linux|\n",
      "|2023-10-01 18:12:17|0316289568864|         godfrey.com| 428528|  78946| 65.224.238.100|  128.90.192.17| Ireland|    1.61|       HTTP|Opera/9.16.(Windo...|   Linux|\n",
      "|2023-10-05 18:48:05|7798663185667|            hall.net| 809701|  11489|  82.141.112.88|  110.103.99.71| England|    2.66|      HTTPS|Mozilla/5.0 (iPad...|     iOS|\n",
      "|2023-10-02 13:47:58|0150443056843|            todd.com| 204941| 114006|   161.8.210.40| 208.230.61.215|Scotland|    2.69|       HTTP|Opera/9.36.(X11; ...| Android|\n",
      "|2023-10-03 23:02:26|9285067550927|     banks-allen.net| 891172| 382048|   205.27.35.10| 68.207.246.122| Ireland|    1.76|       HTTP|Mozilla/5.0 (X11;...|     Mac|\n",
      "|2023-10-01 00:26:15|8281677807414|          wright.net|  82529| 786752| 121.203.163.91|  12.108.59.116| Ireland|     1.7|       HTTP|Mozilla/5.0 (Maci...|     Mac|\n",
      "|2023-10-02 08:11:17|3038775635633|        davidson.com|   3239|  55119| 152.72.183.220|186.114.252.248| Ireland|    1.26|       HTTP|Opera/8.63.(Windo...|     Mac|\n",
      "|2023-10-02 18:35:04|3586895522368|        johnston.com| 414506| 181446|  69.179.185.64|  192.86.129.48| England|    2.87|       HTTP|Mozilla/5.0 (comp...| Windows|\n",
      "|2023-10-02 16:31:19|9005687132733|  pratt-stephens.net|  24832| 700290|  60.137.227.62|   5.166.88.107|Scotland|    1.21|      HTTPS|Mozilla/5.0 (Linu...| Android|\n",
      "+-------------------+-------------+--------------------+-------+-------+---------------+---------------+--------+--------+-----------+--------------------+--------+\n",
      "only showing top 20 rows\n",
      "\n"
     ]
    }
   ],
   "source": [
    "df.filter(   ~(df[\"country\"] == 'Wales')   & ~(df[\"domain\"] == \"hopkins.org\")  ).show()"
   ]
  },
  {
   "cell_type": "code",
   "execution_count": 40,
   "metadata": {
    "id": "Kbr6DBQypwI1"
   },
   "outputs": [
    {
     "name": "stdout",
     "output_type": "stream",
     "text": [
      "+-------------------+-------------+--------------------+-------+-------+---------------+---------------+--------+--------+-----------+--------------------+--------+\n",
      "|          date_time|       userid|              domain|dlbytes|ulbytes|       clientip|       serverip| country|txn_time|http_method|          user_agent|platform|\n",
      "+-------------------+-------------+--------------------+-------+-------+---------------+---------------+--------+--------+-----------+--------------------+--------+\n",
      "|2023-10-04 11:37:11|7773153683656|    ryan-wells.co.uk| 872807| 741526|142.132.219.110|  62.42.184.180| England|    2.33|      HTTPS|Mozilla/5.0 (Wind...| Android|\n",
      "|2023-10-02 23:25:12|1597721345356|           evans.com| 964276| 952420|  189.30.60.163|  68.171.236.18|Scotland|    1.32|       HTTP|Mozilla/5.0 (Wind...|   Linux|\n",
      "|2023-10-03 09:43:11|9766845800247|           kelly.com| 212529| 811887|   13.144.79.35|  63.141.80.109| England|    2.58|      HTTPS|Opera/8.54.(X11; ...| Android|\n",
      "|2023-10-01 13:49:39|8949163845658|            lowe.com|  43595|  77597|  148.15.214.37|     4.33.9.229| England|    1.68|       HTTP|Mozilla/5.0 (Linu...|     Mac|\n",
      "|2023-10-02 02:22:30|8035878244556|            webb.com| 270574|  94701|  73.78.116.223|    82.69.61.25| England|    2.19|      HTTPS|Mozilla/5.0 (Wind...| Windows|\n",
      "|2023-10-03 11:48:19|3400788003398|           watts.com| 342378| 715125|  142.37.27.131| 41.152.174.228|Scotland|    2.92|       HTTP|Opera/8.53.(Windo...|   Linux|\n",
      "|2023-10-02 12:45:41|7007039082075|   kemp-robinson.org| 613214| 239494| 80.245.249.129|198.186.190.149|Scotland|    1.78|      HTTPS|Mozilla/5.0 (X11;...|     Mac|\n",
      "|2023-10-03 08:59:16|0893913938070|           smith.com| 643362| 146752|    21.239.54.8|  136.170.182.7| England|    0.58|      HTTPS|Mozilla/5.0 (Andr...| Windows|\n",
      "|2023-10-02 03:26:59|7214908687567|            hunt.com| 707145| 995270|  98.141.197.15| 107.239.246.38| England|    1.95|       HTTP|Opera/9.31.(Windo...|     iOS|\n",
      "|2023-10-02 10:16:25|1042763747479|         thomas.info| 764956| 952036|187.182.236.233|   85.61.114.36| England|    1.42|       HTTP|Mozilla/5.0 (Andr...| Android|\n",
      "|2023-10-05 18:48:05|7798663185667|            hall.net| 809701|  11489|  82.141.112.88|  110.103.99.71| England|    2.66|      HTTPS|Mozilla/5.0 (iPad...|     iOS|\n",
      "|2023-10-02 13:47:58|0150443056843|            todd.com| 204941| 114006|   161.8.210.40| 208.230.61.215|Scotland|    2.69|       HTTP|Opera/9.36.(X11; ...| Android|\n",
      "|2023-10-02 18:35:04|3586895522368|        johnston.com| 414506| 181446|  69.179.185.64|  192.86.129.48| England|    2.87|       HTTP|Mozilla/5.0 (comp...| Windows|\n",
      "|2023-10-02 16:31:19|9005687132733|  pratt-stephens.net|  24832| 700290|  60.137.227.62|   5.166.88.107|Scotland|    1.21|      HTTPS|Mozilla/5.0 (Linu...| Android|\n",
      "|2023-10-04 23:30:26|0114665227781|johnson-robertson...| 824956|  79143| 78.176.142.176| 20.206.104.212|Scotland|    1.83|       HTTP|Mozilla/5.0 (X11;...|     Mac|\n",
      "|2023-10-01 23:19:51|0076528169391|         brooks.info| 290266| 821733|   25.38.138.51| 115.22.214.193|Scotland|    0.93|       HTTP|Mozilla/5.0 (X11;...|     iOS|\n",
      "|2023-10-03 11:20:53|1106150674730|          turner.com| 728522|   2711|    1.120.139.1|194.164.198.190| England|    1.34|      HTTPS|Mozilla/5.0 (Maci...|     Mac|\n",
      "|2023-10-05 03:33:42|8223684318052|         andrews.org| 328536| 887844| 163.43.155.194|   198.65.0.146| England|     0.8|       HTTP|Mozilla/5.0 (Maci...|     iOS|\n",
      "|2023-10-03 04:20:55|4249192830821|          kelly.info| 651517| 623853|  93.122.128.37|174.208.156.197|Scotland|    0.45|       HTTP|Mozilla/5.0 (Maci...|     iOS|\n",
      "|2023-10-02 00:22:36|7715651302088|     martin-shaw.com| 676322| 815121| 138.130.80.188|220.132.192.142| England|    2.92|      HTTPS|Mozilla/5.0 (Wind...|     iOS|\n",
      "+-------------------+-------------+--------------------+-------+-------+---------------+---------------+--------+--------+-----------+--------------------+--------+\n",
      "only showing top 20 rows\n",
      "\n"
     ]
    }
   ],
   "source": [
    "countries = [\"England\", \"Scotland\"]\n",
    "\n",
    "df.filter(df[\"country\"].isin(countries)).show()"
   ]
  },
  {
   "cell_type": "code",
   "execution_count": 41,
   "metadata": {},
   "outputs": [
    {
     "name": "stdout",
     "output_type": "stream",
     "text": [
      "+-------------------+-------------+--------------------+-------+-------+--------------+---------------+--------+--------+-----------+--------------------+--------+\n",
      "|          date_time|       userid|              domain|dlbytes|ulbytes|      clientip|       serverip| country|txn_time|http_method|          user_agent|platform|\n",
      "+-------------------+-------------+--------------------+-------+-------+--------------+---------------+--------+--------+-----------+--------------------+--------+\n",
      "|2023-10-02 23:25:12|1597721345356|           evans.com| 964276| 952420| 189.30.60.163|  68.171.236.18|Scotland|    1.32|       HTTP|Mozilla/5.0 (Wind...|   Linux|\n",
      "|2023-10-03 11:48:19|3400788003398|           watts.com| 342378| 715125| 142.37.27.131| 41.152.174.228|Scotland|    2.92|       HTTP|Opera/8.53.(Windo...|   Linux|\n",
      "|2023-10-02 12:45:41|7007039082075|   kemp-robinson.org| 613214| 239494|80.245.249.129|198.186.190.149|Scotland|    1.78|      HTTPS|Mozilla/5.0 (X11;...|     Mac|\n",
      "|2023-10-02 13:47:58|0150443056843|            todd.com| 204941| 114006|  161.8.210.40| 208.230.61.215|Scotland|    2.69|       HTTP|Opera/9.36.(X11; ...| Android|\n",
      "|2023-10-02 16:31:19|9005687132733|  pratt-stephens.net|  24832| 700290| 60.137.227.62|   5.166.88.107|Scotland|    1.21|      HTTPS|Mozilla/5.0 (Linu...| Android|\n",
      "|2023-10-04 23:30:26|0114665227781|johnson-robertson...| 824956|  79143|78.176.142.176| 20.206.104.212|Scotland|    1.83|       HTTP|Mozilla/5.0 (X11;...|     Mac|\n",
      "|2023-10-01 23:19:51|0076528169391|         brooks.info| 290266| 821733|  25.38.138.51| 115.22.214.193|Scotland|    0.93|       HTTP|Mozilla/5.0 (X11;...|     iOS|\n",
      "|2023-10-03 04:20:55|4249192830821|          kelly.info| 651517| 623853| 93.122.128.37|174.208.156.197|Scotland|    0.45|       HTTP|Mozilla/5.0 (Maci...|     iOS|\n",
      "|2023-10-01 18:42:03|3959148173900|     evans-parry.org| 431340| 107716|85.216.103.189|  75.148.96.142|Scotland|    2.77|       HTTP|Mozilla/5.0 (Wind...|   Linux|\n",
      "|2023-10-03 15:05:39|8175396488761|           allan.com| 217180| 347563|   96.20.61.55|  42.202.138.18|Scotland|    1.97|      HTTPS|Mozilla/5.0 (comp...| Android|\n",
      "|2023-10-05 21:23:54|8006653004613|     jones-lamb.info| 976934| 286471|89.144.167.165| 182.106.199.76|Scotland|    0.36|      HTTPS|Mozilla/5.0 (comp...| Android|\n",
      "|2023-10-01 10:00:06|6495200836137|         fleming.com| 321418| 235017| 128.8.198.117| 163.30.125.224|Scotland|    1.22|       HTTP|Opera/9.66.(Windo...|     Mac|\n",
      "|2023-10-05 09:25:02|6481433535464|     davis-singh.com| 385323| 868632| 26.173.135.30| 103.25.104.221|Scotland|    2.87|       HTTP|Mozilla/5.0 (comp...|   Linux|\n",
      "|2023-10-04 10:58:44|8199123287437|          davies.biz| 669313| 930916|  71.62.35.229|  168.142.218.1|Scotland|    0.57|       HTTP|Mozilla/5.0 (Maci...|     iOS|\n",
      "|2023-10-03 22:40:31|6535509599021|           jones.com| 969356| 788418|182.104.85.104|  94.93.143.143|Scotland|    0.02|      HTTPS|Mozilla/5.0 (Wind...| Android|\n",
      "|2023-10-03 16:06:07|3936485455498|   sykes-gibbons.com| 587433| 659780|154.64.246.143| 118.225.142.11|Scotland|    2.03|       HTTP|Opera/8.12.(Windo...| Windows|\n",
      "|2023-10-03 10:26:50|7889613044463|           smith.net| 759118| 710599|217.222.208.43|102.254.132.209|Scotland|    1.85|      HTTPS|Mozilla/5.0 (comp...|     iOS|\n",
      "|2023-10-02 02:30:59|1383526841599|         smith.co.uk| 586221|   9690|125.170.101.25|  202.34.80.229|Scotland|    0.26|       HTTP|Mozilla/5.0 (X11;...|   Linux|\n",
      "|2023-10-04 00:26:43|9722384187071|          davies.net|  77054| 388412|  95.113.37.44|   63.6.244.136|Scotland|    2.47|       HTTP|Opera/9.66.(X11; ...|     Mac|\n",
      "|2023-10-05 13:07:11|1151586316328|          newman.biz| 717862| 987620|102.181.238.50|  124.12.244.51|Scotland|    2.81|       HTTP|Mozilla/5.0 (Maci...| Windows|\n",
      "+-------------------+-------------+--------------------+-------+-------+--------------+---------------+--------+--------+-----------+--------------------+--------+\n",
      "only showing top 20 rows\n",
      "\n"
     ]
    }
   ],
   "source": [
    "df.filter(df[\"country\"].rlike(\"tland\")).show()"
   ]
  },
  {
   "cell_type": "code",
   "execution_count": 47,
   "metadata": {},
   "outputs": [],
   "source": [
    "from pyspark.sql.functions import udf"
   ]
  },
  {
   "cell_type": "code",
   "execution_count": 48,
   "metadata": {},
   "outputs": [],
   "source": [
    "from pyspark.sql.types import IntegerType"
   ]
  },
  {
   "cell_type": "code",
   "execution_count": 49,
   "metadata": {},
   "outputs": [
    {
     "name": "stdout",
     "output_type": "stream",
     "text": [
      "+-------------------+-------------+--------------------+-------+-------+---------------+---------------+--------+--------+-----------+--------------------+--------+-----------+\n",
      "|          date_time|       userid|              domain|dlbytes|ulbytes|       clientip|       serverip| country|txn_time|http_method|          user_agent|platform|total_bytes|\n",
      "+-------------------+-------------+--------------------+-------+-------+---------------+---------------+--------+--------+-----------+--------------------+--------+-----------+\n",
      "|2023-10-04 11:37:11|7773153683656|    ryan-wells.co.uk| 872807| 741526|142.132.219.110|  62.42.184.180| England|    2.33|      HTTPS|Mozilla/5.0 (Wind...| Android|       NULL|\n",
      "|2023-10-04 12:17:07|1886351675683|         hopkins.org|  50898| 529504|  184.205.48.78|  152.123.41.39|   Wales|     1.2|       HTTP|Mozilla/5.0 (Wind...| Android|       NULL|\n",
      "|2023-10-02 23:25:12|1597721345356|           evans.com| 964276| 952420|  189.30.60.163|  68.171.236.18|Scotland|    1.32|       HTTP|Mozilla/5.0 (Wind...|   Linux|       NULL|\n",
      "|2023-10-03 09:43:11|9766845800247|           kelly.com| 212529| 811887|   13.144.79.35|  63.141.80.109| England|    2.58|      HTTPS|Opera/8.54.(X11; ...| Android|       NULL|\n",
      "|2023-10-01 08:16:46|1546762097287|richardson-walker...| 553626| 901428| 143.74.163.248|  26.253.17.223|   Wales|    1.53|       HTTP|Mozilla/5.0 (Maci...| Windows|       NULL|\n",
      "|2023-10-01 13:49:39|8949163845658|            lowe.com|  43595|  77597|  148.15.214.37|     4.33.9.229| England|    1.68|       HTTP|Mozilla/5.0 (Linu...|     Mac|       NULL|\n",
      "|2023-10-02 02:22:30|8035878244556|            webb.com| 270574|  94701|  73.78.116.223|    82.69.61.25| England|    2.19|      HTTPS|Mozilla/5.0 (Wind...| Windows|       NULL|\n",
      "|2023-10-03 11:48:19|3400788003398|           watts.com| 342378| 715125|  142.37.27.131| 41.152.174.228|Scotland|    2.92|       HTTP|Opera/8.53.(Windo...|   Linux|       NULL|\n",
      "|2023-10-02 12:45:41|7007039082075|   kemp-robinson.org| 613214| 239494| 80.245.249.129|198.186.190.149|Scotland|    1.78|      HTTPS|Mozilla/5.0 (X11;...|     Mac|       NULL|\n",
      "|2023-10-03 08:59:16|0893913938070|           smith.com| 643362| 146752|    21.239.54.8|  136.170.182.7| England|    0.58|      HTTPS|Mozilla/5.0 (Andr...| Windows|       NULL|\n",
      "|2023-10-05 21:36:53|3102780874474|   wilson-butler.com| 603759| 616834| 57.113.168.155|162.232.192.227| Ireland|    2.42|      HTTPS|Mozilla/5.0 (Andr...|     Mac|       NULL|\n",
      "|2023-10-02 03:26:59|7214908687567|            hunt.com| 707145| 995270|  98.141.197.15| 107.239.246.38| England|    1.95|       HTTP|Opera/9.31.(Windo...|     iOS|       NULL|\n",
      "|2023-10-04 03:09:58|0291279030607|           jones.org| 640439| 373389|       98.3.2.5|   148.44.76.68|   Wales|    2.47|       HTTP|Mozilla/5.0 (Maci...|     Mac|       NULL|\n",
      "|2023-10-02 10:16:25|1042763747479|         thomas.info| 764956| 952036|187.182.236.233|   85.61.114.36| England|    1.42|       HTTP|Mozilla/5.0 (Andr...| Android|       NULL|\n",
      "|2023-10-05 02:22:40|2322746906974|franklin-whittake...| 651947| 183369| 26.138.157.236| 142.176.162.10| Ireland|    1.35|      HTTPS|Opera/8.74.(Windo...|   Linux|       NULL|\n",
      "|2023-10-01 18:12:17|0316289568864|         godfrey.com| 428528|  78946| 65.224.238.100|  128.90.192.17| Ireland|    1.61|       HTTP|Opera/9.16.(Windo...|   Linux|       NULL|\n",
      "|2023-10-01 20:09:39|1093994305313|          wilson.com|  23710|  84942|  129.221.29.97|  18.191.29.117|   Wales|    1.25|       HTTP|Opera/9.17.(X11; ...|     iOS|       NULL|\n",
      "|2023-10-03 04:45:13|7035874783254|      cole-jones.com| 447095| 390148|   94.98.62.187|172.173.228.171|   Wales|    2.43|       HTTP|Mozilla/5.0 (comp...| Android|       NULL|\n",
      "|2023-10-05 18:48:05|7798663185667|            hall.net| 809701|  11489|  82.141.112.88|  110.103.99.71| England|    2.66|      HTTPS|Mozilla/5.0 (iPad...|     iOS|       NULL|\n",
      "|2023-10-02 13:47:58|0150443056843|            todd.com| 204941| 114006|   161.8.210.40| 208.230.61.215|Scotland|    2.69|       HTTP|Opera/9.36.(X11; ...| Android|       NULL|\n",
      "+-------------------+-------------+--------------------+-------+-------+---------------+---------------+--------+--------+-----------+--------------------+--------+-----------+\n",
      "only showing top 20 rows\n",
      "\n"
     ]
    }
   ],
   "source": [
    "def calculate_total_bytes(dlbytes, ulbytes):\n",
    "    return dlbytes + ulbytes\n",
    "\n",
    "total_bytes_udf = udf(calculate_total_bytes, IntegerType())\n",
    "\n",
    "df.withColumn(\"total_bytes\", total_bytes_udf(df[\"dlbytes\"], df[\"ulbytes\"])).show()"
   ]
  },
  {
   "cell_type": "code",
   "execution_count": 50,
   "metadata": {},
   "outputs": [],
   "source": [
    "from pyspark.sql.types import StringType"
   ]
  },
  {
   "cell_type": "code",
   "execution_count": 55,
   "metadata": {},
   "outputs": [
    {
     "name": "stdout",
     "output_type": "stream",
     "text": [
      "+-------------------+-------------+--------------------+-------+-------+---------------+---------------+--------+--------+-----------+--------------------+--------+--------------+\n",
      "|          date_time|       userid|              domain|dlbytes|ulbytes|       clientip|       serverip| country|txn_time|http_method|          user_agent|platform|processed_http|\n",
      "+-------------------+-------------+--------------------+-------+-------+---------------+---------------+--------+--------+-----------+--------------------+--------+--------------+\n",
      "|2023-10-04 11:37:11|7773153683656|    ryan-wells.co.uk| 872807| 741526|142.132.219.110|  62.42.184.180| England|    2.33|      HTTPS|Mozilla/5.0 (Wind...| Android|         https|\n",
      "|2023-10-04 12:17:07|1886351675683|         hopkins.org|  50898| 529504|  184.205.48.78|  152.123.41.39|   Wales|     1.2|       HTTP|Mozilla/5.0 (Wind...| Android|          http|\n",
      "|2023-10-02 23:25:12|1597721345356|           evans.com| 964276| 952420|  189.30.60.163|  68.171.236.18|Scotland|    1.32|       HTTP|Mozilla/5.0 (Wind...|   Linux|          http|\n",
      "|2023-10-03 09:43:11|9766845800247|           kelly.com| 212529| 811887|   13.144.79.35|  63.141.80.109| England|    2.58|      HTTPS|Opera/8.54.(X11; ...| Android|         https|\n",
      "|2023-10-01 08:16:46|1546762097287|richardson-walker...| 553626| 901428| 143.74.163.248|  26.253.17.223|   Wales|    1.53|       HTTP|Mozilla/5.0 (Maci...| Windows|          http|\n",
      "|2023-10-01 13:49:39|8949163845658|            lowe.com|  43595|  77597|  148.15.214.37|     4.33.9.229| England|    1.68|       HTTP|Mozilla/5.0 (Linu...|     Mac|          http|\n",
      "|2023-10-02 02:22:30|8035878244556|            webb.com| 270574|  94701|  73.78.116.223|    82.69.61.25| England|    2.19|      HTTPS|Mozilla/5.0 (Wind...| Windows|         https|\n",
      "|2023-10-03 11:48:19|3400788003398|           watts.com| 342378| 715125|  142.37.27.131| 41.152.174.228|Scotland|    2.92|       HTTP|Opera/8.53.(Windo...|   Linux|          http|\n",
      "|2023-10-02 12:45:41|7007039082075|   kemp-robinson.org| 613214| 239494| 80.245.249.129|198.186.190.149|Scotland|    1.78|      HTTPS|Mozilla/5.0 (X11;...|     Mac|         https|\n",
      "|2023-10-03 08:59:16|0893913938070|           smith.com| 643362| 146752|    21.239.54.8|  136.170.182.7| England|    0.58|      HTTPS|Mozilla/5.0 (Andr...| Windows|         https|\n",
      "|2023-10-05 21:36:53|3102780874474|   wilson-butler.com| 603759| 616834| 57.113.168.155|162.232.192.227| Ireland|    2.42|      HTTPS|Mozilla/5.0 (Andr...|     Mac|         https|\n",
      "|2023-10-02 03:26:59|7214908687567|            hunt.com| 707145| 995270|  98.141.197.15| 107.239.246.38| England|    1.95|       HTTP|Opera/9.31.(Windo...|     iOS|          http|\n",
      "|2023-10-04 03:09:58|0291279030607|           jones.org| 640439| 373389|       98.3.2.5|   148.44.76.68|   Wales|    2.47|       HTTP|Mozilla/5.0 (Maci...|     Mac|          http|\n",
      "|2023-10-02 10:16:25|1042763747479|         thomas.info| 764956| 952036|187.182.236.233|   85.61.114.36| England|    1.42|       HTTP|Mozilla/5.0 (Andr...| Android|          http|\n",
      "|2023-10-05 02:22:40|2322746906974|franklin-whittake...| 651947| 183369| 26.138.157.236| 142.176.162.10| Ireland|    1.35|      HTTPS|Opera/8.74.(Windo...|   Linux|         https|\n",
      "|2023-10-01 18:12:17|0316289568864|         godfrey.com| 428528|  78946| 65.224.238.100|  128.90.192.17| Ireland|    1.61|       HTTP|Opera/9.16.(Windo...|   Linux|          http|\n",
      "|2023-10-01 20:09:39|1093994305313|          wilson.com|  23710|  84942|  129.221.29.97|  18.191.29.117|   Wales|    1.25|       HTTP|Opera/9.17.(X11; ...|     iOS|          http|\n",
      "|2023-10-03 04:45:13|7035874783254|      cole-jones.com| 447095| 390148|   94.98.62.187|172.173.228.171|   Wales|    2.43|       HTTP|Mozilla/5.0 (comp...| Android|          http|\n",
      "|2023-10-05 18:48:05|7798663185667|            hall.net| 809701|  11489|  82.141.112.88|  110.103.99.71| England|    2.66|      HTTPS|Mozilla/5.0 (iPad...|     iOS|         https|\n",
      "|2023-10-02 13:47:58|0150443056843|            todd.com| 204941| 114006|   161.8.210.40| 208.230.61.215|Scotland|    2.69|       HTTP|Opera/9.36.(X11; ...| Android|          http|\n",
      "+-------------------+-------------+--------------------+-------+-------+---------------+---------------+--------+--------+-----------+--------------------+--------+--------------+\n",
      "only showing top 20 rows\n",
      "\n"
     ]
    }
   ],
   "source": [
    "def custom_text_processing(http_method):\n",
    "    return http_method.lower()\n",
    "\n",
    "custom_text_processing_udf = udf(custom_text_processing, StringType())\n",
    "\n",
    "df.withColumn(\"processed_http\", custom_text_processing_udf(df[\"http_method\"])).show()"
   ]
  },
  {
   "cell_type": "code",
   "execution_count": 61,
   "metadata": {},
   "outputs": [],
   "source": [
    "from pyspark.sql.types import DoubleType\n",
    "from pyspark.sql.functions import round"
   ]
  },
  {
   "cell_type": "code",
   "execution_count": 62,
   "metadata": {},
   "outputs": [
    {
     "name": "stdout",
     "output_type": "stream",
     "text": [
      "+-------------------+-------------+--------------------+-------+-------+---------------+---------------+--------+--------+-----------+--------------------+--------+-----------------+\n",
      "|          date_time|       userid|              domain|dlbytes|ulbytes|       clientip|       serverip| country|txn_time|http_method|          user_agent|platform|txn_time_millisec|\n",
      "+-------------------+-------------+--------------------+-------+-------+---------------+---------------+--------+--------+-----------+--------------------+--------+-----------------+\n",
      "|2023-10-04 11:37:11|7773153683656|    ryan-wells.co.uk| 872807| 741526|142.132.219.110|  62.42.184.180| England|    2.33|      HTTPS|Mozilla/5.0 (Wind...| Android|           2330.0|\n",
      "|2023-10-04 12:17:07|1886351675683|         hopkins.org|  50898| 529504|  184.205.48.78|  152.123.41.39|   Wales|     1.2|       HTTP|Mozilla/5.0 (Wind...| Android|           1200.0|\n",
      "|2023-10-02 23:25:12|1597721345356|           evans.com| 964276| 952420|  189.30.60.163|  68.171.236.18|Scotland|    1.32|       HTTP|Mozilla/5.0 (Wind...|   Linux|           1320.0|\n",
      "|2023-10-03 09:43:11|9766845800247|           kelly.com| 212529| 811887|   13.144.79.35|  63.141.80.109| England|    2.58|      HTTPS|Opera/8.54.(X11; ...| Android|           2580.0|\n",
      "|2023-10-01 08:16:46|1546762097287|richardson-walker...| 553626| 901428| 143.74.163.248|  26.253.17.223|   Wales|    1.53|       HTTP|Mozilla/5.0 (Maci...| Windows|           1530.0|\n",
      "|2023-10-01 13:49:39|8949163845658|            lowe.com|  43595|  77597|  148.15.214.37|     4.33.9.229| England|    1.68|       HTTP|Mozilla/5.0 (Linu...|     Mac|           1680.0|\n",
      "|2023-10-02 02:22:30|8035878244556|            webb.com| 270574|  94701|  73.78.116.223|    82.69.61.25| England|    2.19|      HTTPS|Mozilla/5.0 (Wind...| Windows|           2190.0|\n",
      "|2023-10-03 11:48:19|3400788003398|           watts.com| 342378| 715125|  142.37.27.131| 41.152.174.228|Scotland|    2.92|       HTTP|Opera/8.53.(Windo...|   Linux|           2920.0|\n",
      "|2023-10-02 12:45:41|7007039082075|   kemp-robinson.org| 613214| 239494| 80.245.249.129|198.186.190.149|Scotland|    1.78|      HTTPS|Mozilla/5.0 (X11;...|     Mac|           1780.0|\n",
      "|2023-10-03 08:59:16|0893913938070|           smith.com| 643362| 146752|    21.239.54.8|  136.170.182.7| England|    0.58|      HTTPS|Mozilla/5.0 (Andr...| Windows|            580.0|\n",
      "|2023-10-05 21:36:53|3102780874474|   wilson-butler.com| 603759| 616834| 57.113.168.155|162.232.192.227| Ireland|    2.42|      HTTPS|Mozilla/5.0 (Andr...|     Mac|           2420.0|\n",
      "|2023-10-02 03:26:59|7214908687567|            hunt.com| 707145| 995270|  98.141.197.15| 107.239.246.38| England|    1.95|       HTTP|Opera/9.31.(Windo...|     iOS|           1950.0|\n",
      "|2023-10-04 03:09:58|0291279030607|           jones.org| 640439| 373389|       98.3.2.5|   148.44.76.68|   Wales|    2.47|       HTTP|Mozilla/5.0 (Maci...|     Mac|           2470.0|\n",
      "|2023-10-02 10:16:25|1042763747479|         thomas.info| 764956| 952036|187.182.236.233|   85.61.114.36| England|    1.42|       HTTP|Mozilla/5.0 (Andr...| Android|           1420.0|\n",
      "|2023-10-05 02:22:40|2322746906974|franklin-whittake...| 651947| 183369| 26.138.157.236| 142.176.162.10| Ireland|    1.35|      HTTPS|Opera/8.74.(Windo...|   Linux|           1350.0|\n",
      "|2023-10-01 18:12:17|0316289568864|         godfrey.com| 428528|  78946| 65.224.238.100|  128.90.192.17| Ireland|    1.61|       HTTP|Opera/9.16.(Windo...|   Linux|           1610.0|\n",
      "|2023-10-01 20:09:39|1093994305313|          wilson.com|  23710|  84942|  129.221.29.97|  18.191.29.117|   Wales|    1.25|       HTTP|Opera/9.17.(X11; ...|     iOS|           1250.0|\n",
      "|2023-10-03 04:45:13|7035874783254|      cole-jones.com| 447095| 390148|   94.98.62.187|172.173.228.171|   Wales|    2.43|       HTTP|Mozilla/5.0 (comp...| Android|           2430.0|\n",
      "|2023-10-05 18:48:05|7798663185667|            hall.net| 809701|  11489|  82.141.112.88|  110.103.99.71| England|    2.66|      HTTPS|Mozilla/5.0 (iPad...|     iOS|           2660.0|\n",
      "|2023-10-02 13:47:58|0150443056843|            todd.com| 204941| 114006|   161.8.210.40| 208.230.61.215|Scotland|    2.69|       HTTP|Opera/9.36.(X11; ...| Android|           2690.0|\n",
      "+-------------------+-------------+--------------------+-------+-------+---------------+---------------+--------+--------+-----------+--------------------+--------+-----------------+\n",
      "only showing top 20 rows\n",
      "\n"
     ]
    }
   ],
   "source": [
    "def new_txn_time(txn_time):\n",
    "    return txn_time*1000\n",
    "\n",
    "new_txn_time_udf = udf(new_txn_time, DoubleType())\n",
    "\n",
    "df.withColumn(\"txn_time_millisec\", round(new_txn_time(df[\"txn_time\"]),0)).show()"
   ]
  },
  {
   "cell_type": "code",
   "execution_count": 68,
   "metadata": {},
   "outputs": [],
   "source": [
    "from pyspark.sql.functions import year, month, dayofmonth, date_format"
   ]
  },
  {
   "cell_type": "code",
   "execution_count": 64,
   "metadata": {},
   "outputs": [
    {
     "name": "stdout",
     "output_type": "stream",
     "text": [
      "+-------------------+\n",
      "|          date_time|\n",
      "+-------------------+\n",
      "|2023-10-04 11:37:11|\n",
      "|2023-10-04 12:17:07|\n",
      "|2023-10-02 23:25:12|\n",
      "|2023-10-03 09:43:11|\n",
      "|2023-10-01 08:16:46|\n",
      "|2023-10-01 13:49:39|\n",
      "|2023-10-02 02:22:30|\n",
      "|2023-10-03 11:48:19|\n",
      "|2023-10-02 12:45:41|\n",
      "|2023-10-03 08:59:16|\n",
      "|2023-10-05 21:36:53|\n",
      "|2023-10-02 03:26:59|\n",
      "|2023-10-04 03:09:58|\n",
      "|2023-10-02 10:16:25|\n",
      "|2023-10-05 02:22:40|\n",
      "|2023-10-01 18:12:17|\n",
      "|2023-10-01 20:09:39|\n",
      "|2023-10-03 04:45:13|\n",
      "|2023-10-05 18:48:05|\n",
      "|2023-10-02 13:47:58|\n",
      "+-------------------+\n",
      "only showing top 20 rows\n",
      "\n"
     ]
    }
   ],
   "source": [
    "df2 = df.select(\"date_time\")\n",
    "df2.show()"
   ]
  },
  {
   "cell_type": "code",
   "execution_count": 70,
   "metadata": {},
   "outputs": [
    {
     "name": "stdout",
     "output_type": "stream",
     "text": [
      "+-------------------+----+-----+---+----------+\n",
      "|          date_time|year|month|day|  new_date|\n",
      "+-------------------+----+-----+---+----------+\n",
      "|2023-10-04 11:37:11|2023|   10|  4|2023-10-04|\n",
      "|2023-10-04 12:17:07|2023|   10|  4|2023-10-04|\n",
      "|2023-10-02 23:25:12|2023|   10|  2|2023-10-02|\n",
      "|2023-10-03 09:43:11|2023|   10|  3|2023-10-03|\n",
      "|2023-10-01 08:16:46|2023|   10|  1|2023-10-01|\n",
      "|2023-10-01 13:49:39|2023|   10|  1|2023-10-01|\n",
      "|2023-10-02 02:22:30|2023|   10|  2|2023-10-02|\n",
      "|2023-10-03 11:48:19|2023|   10|  3|2023-10-03|\n",
      "|2023-10-02 12:45:41|2023|   10|  2|2023-10-02|\n",
      "|2023-10-03 08:59:16|2023|   10|  3|2023-10-03|\n",
      "|2023-10-05 21:36:53|2023|   10|  5|2023-10-05|\n",
      "|2023-10-02 03:26:59|2023|   10|  2|2023-10-02|\n",
      "|2023-10-04 03:09:58|2023|   10|  4|2023-10-04|\n",
      "|2023-10-02 10:16:25|2023|   10|  2|2023-10-02|\n",
      "|2023-10-05 02:22:40|2023|   10|  5|2023-10-05|\n",
      "|2023-10-01 18:12:17|2023|   10|  1|2023-10-01|\n",
      "|2023-10-01 20:09:39|2023|   10|  1|2023-10-01|\n",
      "|2023-10-03 04:45:13|2023|   10|  3|2023-10-03|\n",
      "|2023-10-05 18:48:05|2023|   10|  5|2023-10-05|\n",
      "|2023-10-02 13:47:58|2023|   10|  2|2023-10-02|\n",
      "+-------------------+----+-----+---+----------+\n",
      "only showing top 20 rows\n",
      "\n"
     ]
    }
   ],
   "source": [
    "df2.withColumn(\"year\" , year(df2[\"date_time\"]))\\\n",
    ".withColumn(\"month\" , month(df2[\"date_time\"]))\\\n",
    ".withColumn(\"day\" , dayofmonth(df2[\"date_time\"]))\\\n",
    ".withColumn(\"new_date\", date_format(df2[\"date_time\"], \"yyyy-MM-dd\"))\\\n",
    ".show()"
   ]
  },
  {
   "cell_type": "code",
   "execution_count": 71,
   "metadata": {},
   "outputs": [],
   "source": [
    "from pyspark.sql.functions import dayofweek, when"
   ]
  },
  {
   "cell_type": "code",
   "execution_count": 72,
   "metadata": {},
   "outputs": [],
   "source": [
    "challenge = df.select(\"date_time\")"
   ]
  },
  {
   "cell_type": "code",
   "execution_count": 75,
   "metadata": {},
   "outputs": [],
   "source": [
    "step = challenge.withColumn(\"daynumber\", dayofweek(challenge[\"date_time\"]))"
   ]
  },
  {
   "cell_type": "code",
   "execution_count": 80,
   "metadata": {},
   "outputs": [
    {
     "name": "stdout",
     "output_type": "stream",
     "text": [
      "+-------------------+---------+-------+\n",
      "|          date_time|daynumber|weekend|\n",
      "+-------------------+---------+-------+\n",
      "|2023-10-04 11:37:11|        4|weekday|\n",
      "|2023-10-04 12:17:07|        4|weekday|\n",
      "|2023-10-02 23:25:12|        2|weekday|\n",
      "|2023-10-03 09:43:11|        3|weekday|\n",
      "|2023-10-01 08:16:46|        1|weekend|\n",
      "|2023-10-01 13:49:39|        1|weekend|\n",
      "|2023-10-02 02:22:30|        2|weekday|\n",
      "|2023-10-03 11:48:19|        3|weekday|\n",
      "|2023-10-02 12:45:41|        2|weekday|\n",
      "|2023-10-03 08:59:16|        3|weekday|\n",
      "|2023-10-05 21:36:53|        5|weekday|\n",
      "|2023-10-02 03:26:59|        2|weekday|\n",
      "|2023-10-04 03:09:58|        4|weekday|\n",
      "|2023-10-02 10:16:25|        2|weekday|\n",
      "|2023-10-05 02:22:40|        5|weekday|\n",
      "|2023-10-01 18:12:17|        1|weekend|\n",
      "|2023-10-01 20:09:39|        1|weekend|\n",
      "|2023-10-03 04:45:13|        3|weekday|\n",
      "|2023-10-05 18:48:05|        5|weekday|\n",
      "|2023-10-02 13:47:58|        2|weekday|\n",
      "+-------------------+---------+-------+\n",
      "only showing top 20 rows\n",
      "\n"
     ]
    }
   ],
   "source": [
    "step.withColumn(\"weekend\", when(step[\"daynumber\"].between(2,6), \"weekday\").otherwise(\"weekend\")).show()"
   ]
  },
  {
   "cell_type": "markdown",
   "metadata": {},
   "source": [
    "END"
   ]
  }
 ],
 "metadata": {
  "colab": {
   "authorship_tag": "ABX9TyORzcUTMtq3ugkcqcsR0KUP",
   "provenance": []
  },
  "kernelspec": {
   "display_name": "Python 3 (ipykernel)",
   "language": "python",
   "name": "python3"
  },
  "language_info": {
   "codemirror_mode": {
    "name": "ipython",
    "version": 3
   },
   "file_extension": ".py",
   "mimetype": "text/x-python",
   "name": "python",
   "nbconvert_exporter": "python",
   "pygments_lexer": "ipython3",
   "version": "3.11.5"
  }
 },
 "nbformat": 4,
 "nbformat_minor": 4
}
